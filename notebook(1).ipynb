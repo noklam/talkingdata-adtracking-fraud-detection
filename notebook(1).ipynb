{
 "cells": [
  {
   "cell_type": "code",
   "execution_count": 1,
   "metadata": {
    "ExecuteTime": {
     "end_time": "2018-05-01T16:02:26.202016Z",
     "start_time": "2018-05-01T16:02:24.920859Z"
    },
    "_cell_guid": "91acc64f-1d8a-472c-be6e-2d0b9a27b846",
    "_uuid": "c3188d99f10ffc51feac8624294a1f613e95c924"
   },
   "outputs": [
    {
     "name": "stderr",
     "output_type": "stream",
     "text": [
      "C:\\Users\\NokChan\\Anaconda3\\envs\\fastai\\lib\\site-packages\\sklearn\\cross_validation.py:41: DeprecationWarning: This module was deprecated in version 0.18 in favor of the model_selection module into which all the refactored classes and functions are moved. Also note that the interface of the new CV iterators are different from that of this module. This module will be removed in 0.20.\n",
      "  \"This module will be removed in 0.20.\", DeprecationWarning)\n"
     ]
    }
   ],
   "source": [
    "import pandas as pd\n",
    "import time\n",
    "import numpy as np\n",
    "from sklearn.cross_validation import train_test_split\n",
    "# import lightgbm as lgb\n",
    "from pandas_summary import DataFrameSummary\n",
    "pd.options.display.max_columns = 100\n",
    "pd.options.display.max_rows = 50\n",
    "from pathlib import Path\n",
    "from fastai.structured import *"
   ]
  },
  {
   "cell_type": "code",
   "execution_count": 2,
   "metadata": {
    "ExecuteTime": {
     "end_time": "2018-05-01T16:02:26.425089Z",
     "start_time": "2018-05-01T16:02:26.207502Z"
    }
   },
   "outputs": [],
   "source": [
    "import torch"
   ]
  },
  {
   "cell_type": "markdown",
   "metadata": {
    "_cell_guid": "93fb0066-7141-4735-a9f0-ee42a523274a",
    "_uuid": "008baf1d43fc8daf05b76e12f98d593efa5e0f62"
   },
   "source": [
    "## Pre-Processing"
   ]
  },
  {
   "cell_type": "code",
   "execution_count": 260,
   "metadata": {
    "ExecuteTime": {
     "end_time": "2018-05-01T16:39:19.993395Z",
     "start_time": "2018-05-01T16:39:19.973312Z"
    }
   },
   "outputs": [],
   "source": [
    "def prepare_data(sample = False):\n",
    "    if sample == False: nrows = None\n",
    "    else: nrows = 100000\n",
    "    \n",
    "    \n",
    "    path = Path('.')\n",
    "\n",
    "    dtypes = {\n",
    "            'ip'            : 'uint32',\n",
    "            'app'           : 'uint16',\n",
    "            'device'        : 'uint16',\n",
    "            'os'            : 'uint16',\n",
    "            'channel'       : 'uint16',\n",
    "            'is_attributed' : 'uint8',\n",
    "            'click_id'      : 'uint32'\n",
    "            }\n",
    "\n",
    "    print('load train...')\n",
    "    train_df = pd.read_csv(\"train.csv.zip\", nrows=nrows, dtype=dtypes, usecols=['ip','app','device','os', 'channel', 'click_time', 'is_attributed'])\n",
    "    print('load test...')\n",
    "    test_df = pd.read_csv(\"test.csv.zip\", nrows=nrows, dtype=dtypes, usecols=['ip','app','device','os', 'channel', 'click_time', 'click_id'])\n",
    "    \n",
    "    return train_df, test_df"
   ]
  },
  {
   "cell_type": "code",
   "execution_count": 261,
   "metadata": {
    "ExecuteTime": {
     "end_time": "2018-05-01T16:39:20.548472Z",
     "start_time": "2018-05-01T16:39:20.544959Z"
    }
   },
   "outputs": [],
   "source": [
    "sample = False"
   ]
  },
  {
   "cell_type": "code",
   "execution_count": 262,
   "metadata": {
    "ExecuteTime": {
     "end_time": "2018-05-01T16:42:18.191682Z",
     "start_time": "2018-05-01T16:39:20.903437Z"
    }
   },
   "outputs": [
    {
     "name": "stdout",
     "output_type": "stream",
     "text": [
      "load train...\n",
      "load test...\n"
     ]
    }
   ],
   "source": [
    "train_df, test_df = prepare_data(sample = sample)"
   ]
  },
  {
   "cell_type": "code",
   "execution_count": 263,
   "metadata": {
    "ExecuteTime": {
     "end_time": "2018-05-01T16:42:18.215245Z",
     "start_time": "2018-05-01T16:42:18.199202Z"
    }
   },
   "outputs": [
    {
     "data": {
      "text/plain": [
       "((184903890, 7), (18790469, 7))"
      ]
     },
     "execution_count": 263,
     "metadata": {},
     "output_type": "execute_result"
    }
   ],
   "source": [
    "train_df.shape, test_df.shape"
   ]
  },
  {
   "cell_type": "code",
   "execution_count": 264,
   "metadata": {
    "ExecuteTime": {
     "end_time": "2018-05-01T16:42:18.230787Z",
     "start_time": "2018-05-01T16:42:18.218255Z"
    }
   },
   "outputs": [
    {
     "data": {
      "text/plain": [
       "(184903890, 7)"
      ]
     },
     "execution_count": 264,
     "metadata": {},
     "output_type": "execute_result"
    }
   ],
   "source": [
    "train_df.shape"
   ]
  },
  {
   "cell_type": "code",
   "execution_count": 265,
   "metadata": {
    "ExecuteTime": {
     "end_time": "2018-05-01T16:43:23.225332Z",
     "start_time": "2018-05-01T16:42:18.234296Z"
    },
    "_cell_guid": "0c859849-119a-4f01-aa32-e9194559755d",
    "_uuid": "9929f0af4c9f130276df5a101f10409b2393a042"
   },
   "outputs": [],
   "source": [
    "train_df.click_time = pd.to_datetime(train_df.click_time)\n",
    "test_df.click_time = pd.to_datetime(test_df.click_time)"
   ]
  },
  {
   "cell_type": "code",
   "execution_count": 266,
   "metadata": {
    "ExecuteTime": {
     "end_time": "2018-05-01T16:43:23.279476Z",
     "start_time": "2018-05-01T16:43:23.233855Z"
    },
    "_cell_guid": "01f91c63-581e-4f9a-aab4-f29afe89c1c7",
    "_uuid": "7f5236280898c1b2a842ca508cce470d8a034d45"
   },
   "outputs": [],
   "source": [
    "def add_datepart(df, fldname, drop=True):\n",
    "\n",
    "    fld = df[fldname]\n",
    "    if not np.issubdtype(fld.dtype, np.datetime64):\n",
    "        df[fldname] = fld = pd.to_datetime(fld, infer_datetime_format=True)\n",
    "    targ_pre = re.sub('[Dd]ate$', '', fldname)\n",
    "    for n in ('Year', 'Month', 'Week', 'Day', 'Dayofweek', 'Dayofyear','Hour','Minute','Second',\n",
    "            'Is_month_end', 'Is_month_start', 'Is_quarter_end', 'Is_quarter_start', 'Is_year_end', 'Is_year_start'):\n",
    "        df[targ_pre+n] = getattr(fld.dt,n.lower())\n",
    "    df[targ_pre+'Elapsed'] = fld.astype(np.int64) // 10**9\n",
    "    if drop: df.drop(fldname, axis=1, inplace=True)"
   ]
  },
  {
   "cell_type": "code",
   "execution_count": 267,
   "metadata": {
    "ExecuteTime": {
     "end_time": "2018-05-01T16:43:23.298527Z",
     "start_time": "2018-05-01T16:43:23.290004Z"
    },
    "_cell_guid": "147939f7-2b8c-49be-951d-d3a9af4c3ceb",
    "_uuid": "07b497514135ca15b75ff65a59c2ea09a7e82ad5"
   },
   "outputs": [],
   "source": [
    "# tables = [train_df, test_df]\n",
    "# from IPython.display import HTML\n",
    "# for t in tables:\n",
    "#     df = DataFrameSummary(t)\n",
    "#     display(t.head())\n",
    "#     display(df.summary())"
   ]
  },
  {
   "cell_type": "code",
   "execution_count": 268,
   "metadata": {
    "ExecuteTime": {
     "end_time": "2018-05-01T16:43:23.310559Z",
     "start_time": "2018-05-01T16:43:23.302036Z"
    },
    "_cell_guid": "1dcfc02c-ea89-4a09-9a36-a0c2d12d6ed2",
    "_uuid": "c6e8d3bdfa3358c815cc35e3aa4f7c28ab5be875",
    "scrolled": true
   },
   "outputs": [],
   "source": [
    "# train_df.click_time.describe()"
   ]
  },
  {
   "cell_type": "code",
   "execution_count": 269,
   "metadata": {
    "ExecuteTime": {
     "end_time": "2018-05-01T16:43:23.325097Z",
     "start_time": "2018-05-01T16:43:23.315573Z"
    },
    "_cell_guid": "f9969495-f8ef-4ade-8b5a-91ec97bf2d87",
    "_uuid": "260e0b2543d5bc0ca45b7df33add5c89f614cf53"
   },
   "outputs": [],
   "source": [
    "# test_df.click_time.describe()"
   ]
  },
  {
   "cell_type": "code",
   "execution_count": 270,
   "metadata": {
    "ExecuteTime": {
     "end_time": "2018-05-01T16:43:31.951511Z",
     "start_time": "2018-05-01T16:43:23.329109Z"
    },
    "_cell_guid": "04adf489-dd08-4d93-8005-160ee000633d",
    "_uuid": "d327b6e9775de4e41fb5e37d9663b8cbe95fe9f2"
   },
   "outputs": [
    {
     "ename": "MemoryError",
     "evalue": "",
     "output_type": "error",
     "traceback": [
      "\u001b[1;31m---------------------------------------------------------------------------\u001b[0m",
      "\u001b[1;31mMemoryError\u001b[0m                               Traceback (most recent call last)",
      "\u001b[1;32m<ipython-input-270-0f6863c9252f>\u001b[0m in \u001b[0;36m<module>\u001b[1;34m()\u001b[0m\n\u001b[0;32m      3\u001b[0m \u001b[1;33m\u001b[0m\u001b[0m\n\u001b[0;32m      4\u001b[0m \u001b[0mn_train\u001b[0m \u001b[1;33m=\u001b[0m \u001b[0mlen\u001b[0m\u001b[1;33m(\u001b[0m\u001b[0mtrain_df\u001b[0m\u001b[1;33m)\u001b[0m\u001b[1;33m\u001b[0m\u001b[0m\n\u001b[1;32m----> 5\u001b[1;33m \u001b[0mtrain_df\u001b[0m\u001b[1;33m=\u001b[0m\u001b[0mtrain_df\u001b[0m\u001b[1;33m.\u001b[0m\u001b[0mappend\u001b[0m\u001b[1;33m(\u001b[0m\u001b[0mtest_df\u001b[0m\u001b[1;33m)\u001b[0m\u001b[1;33m\u001b[0m\u001b[0m\n\u001b[0m\u001b[0;32m      6\u001b[0m \u001b[1;33m\u001b[0m\u001b[0m\n\u001b[0;32m      7\u001b[0m \u001b[1;32mdel\u001b[0m \u001b[0mtest_df\u001b[0m\u001b[1;33m\u001b[0m\u001b[0m\n",
      "\u001b[1;32mC:\\Users\\NokChan\\Anaconda3\\envs\\fastai\\lib\\site-packages\\pandas\\core\\frame.py\u001b[0m in \u001b[0;36mappend\u001b[1;34m(self, other, ignore_index, verify_integrity)\u001b[0m\n\u001b[0;32m   5192\u001b[0m             \u001b[0mto_concat\u001b[0m \u001b[1;33m=\u001b[0m \u001b[1;33m[\u001b[0m\u001b[0mself\u001b[0m\u001b[1;33m,\u001b[0m \u001b[0mother\u001b[0m\u001b[1;33m]\u001b[0m\u001b[1;33m\u001b[0m\u001b[0m\n\u001b[0;32m   5193\u001b[0m         return concat(to_concat, ignore_index=ignore_index,\n\u001b[1;32m-> 5194\u001b[1;33m                       verify_integrity=verify_integrity)\n\u001b[0m\u001b[0;32m   5195\u001b[0m \u001b[1;33m\u001b[0m\u001b[0m\n\u001b[0;32m   5196\u001b[0m     def join(self, other, on=None, how='left', lsuffix='', rsuffix='',\n",
      "\u001b[1;32mC:\\Users\\NokChan\\Anaconda3\\envs\\fastai\\lib\\site-packages\\pandas\\core\\reshape\\concat.py\u001b[0m in \u001b[0;36mconcat\u001b[1;34m(objs, axis, join, join_axes, ignore_index, keys, levels, names, verify_integrity, copy)\u001b[0m\n\u001b[0;32m    211\u001b[0m                        \u001b[0mverify_integrity\u001b[0m\u001b[1;33m=\u001b[0m\u001b[0mverify_integrity\u001b[0m\u001b[1;33m,\u001b[0m\u001b[1;33m\u001b[0m\u001b[0m\n\u001b[0;32m    212\u001b[0m                        copy=copy)\n\u001b[1;32m--> 213\u001b[1;33m     \u001b[1;32mreturn\u001b[0m \u001b[0mop\u001b[0m\u001b[1;33m.\u001b[0m\u001b[0mget_result\u001b[0m\u001b[1;33m(\u001b[0m\u001b[1;33m)\u001b[0m\u001b[1;33m\u001b[0m\u001b[0m\n\u001b[0m\u001b[0;32m    214\u001b[0m \u001b[1;33m\u001b[0m\u001b[0m\n\u001b[0;32m    215\u001b[0m \u001b[1;33m\u001b[0m\u001b[0m\n",
      "\u001b[1;32mC:\\Users\\NokChan\\Anaconda3\\envs\\fastai\\lib\\site-packages\\pandas\\core\\reshape\\concat.py\u001b[0m in \u001b[0;36mget_result\u001b[1;34m(self)\u001b[0m\n\u001b[0;32m    406\u001b[0m             new_data = concatenate_block_managers(\n\u001b[0;32m    407\u001b[0m                 \u001b[0mmgrs_indexers\u001b[0m\u001b[1;33m,\u001b[0m \u001b[0mself\u001b[0m\u001b[1;33m.\u001b[0m\u001b[0mnew_axes\u001b[0m\u001b[1;33m,\u001b[0m \u001b[0mconcat_axis\u001b[0m\u001b[1;33m=\u001b[0m\u001b[0mself\u001b[0m\u001b[1;33m.\u001b[0m\u001b[0maxis\u001b[0m\u001b[1;33m,\u001b[0m\u001b[1;33m\u001b[0m\u001b[0m\n\u001b[1;32m--> 408\u001b[1;33m                 copy=self.copy)\n\u001b[0m\u001b[0;32m    409\u001b[0m             \u001b[1;32mif\u001b[0m \u001b[1;32mnot\u001b[0m \u001b[0mself\u001b[0m\u001b[1;33m.\u001b[0m\u001b[0mcopy\u001b[0m\u001b[1;33m:\u001b[0m\u001b[1;33m\u001b[0m\u001b[0m\n\u001b[0;32m    410\u001b[0m                 \u001b[0mnew_data\u001b[0m\u001b[1;33m.\u001b[0m\u001b[0m_consolidate_inplace\u001b[0m\u001b[1;33m(\u001b[0m\u001b[1;33m)\u001b[0m\u001b[1;33m\u001b[0m\u001b[0m\n",
      "\u001b[1;32mC:\\Users\\NokChan\\Anaconda3\\envs\\fastai\\lib\\site-packages\\pandas\\core\\internals.py\u001b[0m in \u001b[0;36mconcatenate_block_managers\u001b[1;34m(mgrs_indexers, axes, concat_axis, copy)\u001b[0m\n\u001b[0;32m   5201\u001b[0m         \u001b[1;32melse\u001b[0m\u001b[1;33m:\u001b[0m\u001b[1;33m\u001b[0m\u001b[0m\n\u001b[0;32m   5202\u001b[0m             b = make_block(\n\u001b[1;32m-> 5203\u001b[1;33m                 \u001b[0mconcatenate_join_units\u001b[0m\u001b[1;33m(\u001b[0m\u001b[0mjoin_units\u001b[0m\u001b[1;33m,\u001b[0m \u001b[0mconcat_axis\u001b[0m\u001b[1;33m,\u001b[0m \u001b[0mcopy\u001b[0m\u001b[1;33m=\u001b[0m\u001b[0mcopy\u001b[0m\u001b[1;33m)\u001b[0m\u001b[1;33m,\u001b[0m\u001b[1;33m\u001b[0m\u001b[0m\n\u001b[0m\u001b[0;32m   5204\u001b[0m                 placement=placement)\n\u001b[0;32m   5205\u001b[0m         \u001b[0mblocks\u001b[0m\u001b[1;33m.\u001b[0m\u001b[0mappend\u001b[0m\u001b[1;33m(\u001b[0m\u001b[0mb\u001b[0m\u001b[1;33m)\u001b[0m\u001b[1;33m\u001b[0m\u001b[0m\n",
      "\u001b[1;32mC:\\Users\\NokChan\\Anaconda3\\envs\\fastai\\lib\\site-packages\\pandas\\core\\internals.py\u001b[0m in \u001b[0;36mconcatenate_join_units\u001b[1;34m(join_units, concat_axis, copy)\u001b[0m\n\u001b[0;32m   5338\u001b[0m             \u001b[0mconcat_values\u001b[0m \u001b[1;33m=\u001b[0m \u001b[0mconcat_values\u001b[0m\u001b[1;33m.\u001b[0m\u001b[0mcopy\u001b[0m\u001b[1;33m(\u001b[0m\u001b[1;33m)\u001b[0m\u001b[1;33m\u001b[0m\u001b[0m\n\u001b[0;32m   5339\u001b[0m     \u001b[1;32melse\u001b[0m\u001b[1;33m:\u001b[0m\u001b[1;33m\u001b[0m\u001b[0m\n\u001b[1;32m-> 5340\u001b[1;33m         \u001b[0mconcat_values\u001b[0m \u001b[1;33m=\u001b[0m \u001b[0m_concat\u001b[0m\u001b[1;33m.\u001b[0m\u001b[0m_concat_compat\u001b[0m\u001b[1;33m(\u001b[0m\u001b[0mto_concat\u001b[0m\u001b[1;33m,\u001b[0m \u001b[0maxis\u001b[0m\u001b[1;33m=\u001b[0m\u001b[0mconcat_axis\u001b[0m\u001b[1;33m)\u001b[0m\u001b[1;33m\u001b[0m\u001b[0m\n\u001b[0m\u001b[0;32m   5341\u001b[0m \u001b[1;33m\u001b[0m\u001b[0m\n\u001b[0;32m   5342\u001b[0m     \u001b[1;32mreturn\u001b[0m \u001b[0mconcat_values\u001b[0m\u001b[1;33m\u001b[0m\u001b[0m\n",
      "\u001b[1;32mC:\\Users\\NokChan\\Anaconda3\\envs\\fastai\\lib\\site-packages\\pandas\\core\\dtypes\\concat.py\u001b[0m in \u001b[0;36m_concat_compat\u001b[1;34m(to_concat, axis)\u001b[0m\n\u001b[0;32m    166\u001b[0m                 \u001b[0mto_concat\u001b[0m \u001b[1;33m=\u001b[0m \u001b[1;33m[\u001b[0m\u001b[0mx\u001b[0m\u001b[1;33m.\u001b[0m\u001b[0mastype\u001b[0m\u001b[1;33m(\u001b[0m\u001b[1;34m'object'\u001b[0m\u001b[1;33m)\u001b[0m \u001b[1;32mfor\u001b[0m \u001b[0mx\u001b[0m \u001b[1;32min\u001b[0m \u001b[0mto_concat\u001b[0m\u001b[1;33m]\u001b[0m\u001b[1;33m\u001b[0m\u001b[0m\n\u001b[0;32m    167\u001b[0m \u001b[1;33m\u001b[0m\u001b[0m\n\u001b[1;32m--> 168\u001b[1;33m     \u001b[1;32mreturn\u001b[0m \u001b[0mnp\u001b[0m\u001b[1;33m.\u001b[0m\u001b[0mconcatenate\u001b[0m\u001b[1;33m(\u001b[0m\u001b[0mto_concat\u001b[0m\u001b[1;33m,\u001b[0m \u001b[0maxis\u001b[0m\u001b[1;33m=\u001b[0m\u001b[0maxis\u001b[0m\u001b[1;33m)\u001b[0m\u001b[1;33m\u001b[0m\u001b[0m\n\u001b[0m\u001b[0;32m    169\u001b[0m \u001b[1;33m\u001b[0m\u001b[0m\n\u001b[0;32m    170\u001b[0m \u001b[1;33m\u001b[0m\u001b[0m\n",
      "\u001b[1;31mMemoryError\u001b[0m: "
     ]
    }
   ],
   "source": [
    "import gc\n",
    "import re\n",
    "\n",
    "n_train = len(train_df)\n",
    "train_df=train_df.append(test_df)\n",
    "\n",
    "del test_df\n",
    "gc.collect()\n",
    "\n",
    "print('data prep...')\n",
    "add_datepart(train_df,'click_time')\n",
    "\n",
    "\n",
    "gc.collect()"
   ]
  },
  {
   "cell_type": "code",
   "execution_count": null,
   "metadata": {
    "ExecuteTime": {
     "end_time": "2018-05-01T16:43:31.955020Z",
     "start_time": "2018-05-01T16:39:23.406Z"
    },
    "_cell_guid": "189f7c60-f54a-43de-9ab9-77f75bf029ff",
    "_uuid": "7c76a609c3023552b27f020d4edb818677d69635"
   },
   "outputs": [],
   "source": [
    "# del test_df\n",
    "gc.collect()"
   ]
  },
  {
   "cell_type": "code",
   "execution_count": null,
   "metadata": {
    "ExecuteTime": {
     "end_time": "2018-05-01T16:43:31.961536Z",
     "start_time": "2018-05-01T16:39:23.564Z"
    },
    "_cell_guid": "68ffa0c9-43bb-40ed-af30-339cedb6cdda",
    "_uuid": "1bba2aafdf77baecf7918959f7cb140fa708c818"
   },
   "outputs": [],
   "source": [
    "# DataFrameSummary(train_df).summary()"
   ]
  },
  {
   "cell_type": "markdown",
   "metadata": {
    "_cell_guid": "2eadcaf3-6897-4680-b20a-3b04de25cb1c",
    "_uuid": "e04f2db16b56e390e709c45cc9bcf5e8f3175e90"
   },
   "source": [
    "Looks like the data is pretty good, no missing data issue or it may have be removed already."
   ]
  },
  {
   "cell_type": "code",
   "execution_count": null,
   "metadata": {
    "ExecuteTime": {
     "end_time": "2018-05-01T16:43:31.963550Z",
     "start_time": "2018-05-01T16:39:23.910Z"
    },
    "_cell_guid": "728839b1-ae2a-4ad3-8a53-20354e05c930",
    "_uuid": "0a421cf602097b3a03bc573fad67f907d113f7f3"
   },
   "outputs": [],
   "source": [
    "train_df.memory_usage().sum()/1024/1024"
   ]
  },
  {
   "cell_type": "code",
   "execution_count": null,
   "metadata": {
    "ExecuteTime": {
     "end_time": "2018-05-01T16:43:31.965053Z",
     "start_time": "2018-05-01T16:39:24.082Z"
    },
    "_cell_guid": "5f294b8f-8aa1-4150-8933-17a2178d69c2",
    "_uuid": "ecdde4073507d7ebfd3f8129828561bceb00f63f"
   },
   "outputs": [],
   "source": [
    "# DataFrameSummary(train_df).summary()"
   ]
  },
  {
   "cell_type": "code",
   "execution_count": null,
   "metadata": {
    "ExecuteTime": {
     "end_time": "2018-05-01T16:43:31.966558Z",
     "start_time": "2018-05-01T16:39:24.264Z"
    },
    "_cell_guid": "9d94c4c3-c229-4b29-98a3-3d5ca4bb68ae",
    "_uuid": "a0ce7e0d66202411210846ad825fc804bcd6a744"
   },
   "outputs": [],
   "source": [
    "# # of clicks for each ip-day-hour combination\n",
    "print('group by...')\n",
    "gp = train_df[['ip','click_timeDay','click_timeHour','click_timeMinute','channel']].groupby(by=['ip','click_timeDay','click_timeHour','click_timeMinute'])[['channel']].count().reset_index().rename(index=str, columns={'channel': 'qty'})\n",
    "print('merge...')\n",
    "train_df = train_df.merge(gp, on=['ip','click_timeDay','click_timeHour','click_timeMinute'], how='left')\n",
    "del gp\n",
    "gc.collect()"
   ]
  },
  {
   "cell_type": "code",
   "execution_count": null,
   "metadata": {
    "ExecuteTime": {
     "end_time": "2018-05-01T16:43:31.968563Z",
     "start_time": "2018-05-01T16:39:24.436Z"
    },
    "_cell_guid": "0580dcce-10aa-4f4b-8515-43eefd8992a7",
    "_uuid": "ce02e539b482e48f9a9ddde225da2a7a1a8d787f"
   },
   "outputs": [],
   "source": [
    "# # of clicks for each ip-app combination\n",
    "print('group by...')\n",
    "gp = train_df[['ip','app', 'channel']].groupby(by=['ip', 'app'])[['channel']].count().reset_index().rename(index=str, columns={'channel': 'ip_app_count'})\n",
    "train_df = train_df.merge(gp, on=['ip','app'], how='left')\n",
    "del gp\n",
    "gc.collect()"
   ]
  },
  {
   "cell_type": "code",
   "execution_count": null,
   "metadata": {
    "ExecuteTime": {
     "end_time": "2018-05-01T16:43:31.971571Z",
     "start_time": "2018-05-01T16:39:24.612Z"
    },
    "_cell_guid": "75b4f82a-65eb-4468-b2d4-63e1106f2588",
    "_uuid": "6e71dade8a085348c69be81f38495466cb75b0d7"
   },
   "outputs": [],
   "source": [
    "# # of clicks for each ip-app-os combination\n",
    "print('group by...')\n",
    "gp = train_df[['ip','app', 'os', 'channel']].groupby(by=['ip', 'app', 'os'])[['channel']].count().reset_index().rename(index=str, columns={'channel': 'ip_app_os_count'})\n",
    "train_df = train_df.merge(gp, on=['ip','app', 'os'], how='left')\n",
    "del gp\n",
    "gc.collect()"
   ]
  },
  {
   "cell_type": "code",
   "execution_count": null,
   "metadata": {
    "ExecuteTime": {
     "end_time": "2018-05-01T16:43:31.974079Z",
     "start_time": "2018-05-01T16:39:24.782Z"
    },
    "_cell_guid": "64c6802b-cdf5-4003-9141-c1bdbf53be5b",
    "_uuid": "75dc5c95c014b56bba917c9748e7c785932cdca5",
    "scrolled": true
   },
   "outputs": [],
   "source": [
    "print(\"vars and data type: \")\n",
    "train_df.info()\n",
    "train_df['qty'] = train_df['qty'].astype('uint16')\n",
    "train_df['ip_app_count'] = train_df['ip_app_count'].astype('uint16')\n",
    "train_df['ip_app_os_count'] = train_df['ip_app_os_count'].astype('uint16')"
   ]
  },
  {
   "cell_type": "code",
   "execution_count": null,
   "metadata": {
    "ExecuteTime": {
     "end_time": "2018-05-01T16:43:31.976585Z",
     "start_time": "2018-05-01T16:39:24.958Z"
    },
    "_cell_guid": "455fea68-de0b-4ef3-9fa3-2b8acb634c4d",
    "_uuid": "96c98f625ba37b1d854f754afaf140abcfc96d20",
    "scrolled": false
   },
   "outputs": [],
   "source": [
    "train_df.head(5)"
   ]
  },
  {
   "cell_type": "code",
   "execution_count": null,
   "metadata": {
    "ExecuteTime": {
     "end_time": "2018-05-01T16:43:31.979091Z",
     "start_time": "2018-05-01T16:39:25.128Z"
    },
    "_cell_guid": "3fe001e1-b086-43a7-a556-aa67a0cb8ccf",
    "_uuid": "df0066c149e49bbc8ae54236430f77fc60d541a1"
   },
   "outputs": [],
   "source": [
    "for i in ['Year', 'Month', 'Week', 'Day', 'Dayofweek', 'Dayofyear','Hour','Minute','Second']:\n",
    "    train_df['click_time'+i] = train_df['click_time'+i].astype(np.int16)"
   ]
  },
  {
   "cell_type": "code",
   "execution_count": null,
   "metadata": {
    "ExecuteTime": {
     "end_time": "2018-05-01T16:43:31.982600Z",
     "start_time": "2018-05-01T16:39:25.294Z"
    },
    "_cell_guid": "33f8698f-1080-4b55-9842-e9061a7e9d3f",
    "_uuid": "50e167a89a14a55ae37afc3c0bb218f38918e326"
   },
   "outputs": [],
   "source": [
    "train_df.memory_usage().sum()/1024/1024"
   ]
  },
  {
   "cell_type": "code",
   "execution_count": null,
   "metadata": {
    "ExecuteTime": {
     "end_time": "2018-05-01T16:43:31.985107Z",
     "start_time": "2018-05-01T16:39:25.468Z"
    }
   },
   "outputs": [],
   "source": [
    "n_train"
   ]
  },
  {
   "cell_type": "code",
   "execution_count": null,
   "metadata": {
    "ExecuteTime": {
     "end_time": "2018-05-01T16:43:31.987113Z",
     "start_time": "2018-05-01T16:39:25.640Z"
    },
    "_cell_guid": "fe0e63e6-970a-4a01-9743-af806da09aeb",
    "_uuid": "b417938df5aac6f2272c1d15a5a7d0c24e09ee21"
   },
   "outputs": [],
   "source": [
    "test_df = train_df[n_train:]\n",
    "val_df = train_df[int(n_train*0.75):n_train]\n",
    "train_df = train_df[:int(n_train*0.75)]"
   ]
  },
  {
   "cell_type": "code",
   "execution_count": null,
   "metadata": {
    "ExecuteTime": {
     "end_time": "2018-05-01T16:43:31.989621Z",
     "start_time": "2018-05-01T16:39:25.814Z"
    }
   },
   "outputs": [],
   "source": [
    "def over_sample(df):\n",
    "    count_class_0, count_class_1 = df.is_attributed.value_counts()\n",
    "\n",
    "    # Divide by class\n",
    "    df_class_0 = df[df['is_attributed'] == 0]\n",
    "    df_class_1 = df[df['is_attributed'] == 1]\n",
    "    df_class_1_over = df_class_1.sample(count_class_0, replace=True)\n",
    "    df = pd.concat([df_class_0, df_class_1_over], axis=0)\n",
    "\n",
    "    print('Random over-sampling:')\n",
    "    display(df.is_attributed.value_counts().plot(kind='bar', title='Count (target)'))\n",
    "    return df\n",
    "    \n"
   ]
  },
  {
   "cell_type": "code",
   "execution_count": null,
   "metadata": {
    "ExecuteTime": {
     "end_time": "2018-05-01T16:43:31.991627Z",
     "start_time": "2018-05-01T16:39:25.988Z"
    }
   },
   "outputs": [],
   "source": [
    "train_df = over_sample(train_df)"
   ]
  },
  {
   "cell_type": "code",
   "execution_count": null,
   "metadata": {
    "ExecuteTime": {
     "end_time": "2018-05-01T16:43:31.993631Z",
     "start_time": "2018-05-01T16:39:26.160Z"
    },
    "_cell_guid": "3d0d8be5-2269-4990-a441-1368f4303584",
    "_uuid": "26c81ccd75c7cf3cb635a0cca9050ecde5266123"
   },
   "outputs": [],
   "source": [
    "# # Class count\n",
    "# count_class_0, count_class_1 = val_df.is_attributed.value_counts()\n",
    "\n",
    "# # Divide by class\n",
    "# df_class_0 = val_df[val_df['is_attributed'] == 0]\n",
    "# df_class_1 = val_df[val_df['is_attributed'] == 1]\n",
    "\n",
    "# # df_class_0.head()\n",
    "\n",
    "# df_class_1_over = df_class_1.sample(count_class_0, replace=True)\n",
    "# val_df = pd.concat([df_class_0, df_class_1_over], axis=0)\n",
    "\n",
    "# print('Random over-sampling:')\n",
    "# val_df.is_attributed.value_counts().plot(kind='bar', title='Count (target)');"
   ]
  },
  {
   "cell_type": "code",
   "execution_count": null,
   "metadata": {
    "ExecuteTime": {
     "end_time": "2018-05-01T16:43:31.996137Z",
     "start_time": "2018-05-01T16:39:26.334Z"
    },
    "_cell_guid": "3d0d8be5-2269-4990-a441-1368f4303584",
    "_uuid": "26c81ccd75c7cf3cb635a0cca9050ecde5266123"
   },
   "outputs": [],
   "source": [
    "print(\"train size: \", len(train_df))\n",
    "print(\"valid size: \", len(val_df))\n",
    "print(\"test size : \", len(test_df))\n",
    "\n",
    "## Create Feature"
   ]
  },
  {
   "cell_type": "code",
   "execution_count": null,
   "metadata": {
    "ExecuteTime": {
     "end_time": "2018-05-01T16:43:31.998142Z",
     "start_time": "2018-05-01T16:39:26.508Z"
    }
   },
   "outputs": [],
   "source": [
    "train_df.head(2)"
   ]
  },
  {
   "cell_type": "code",
   "execution_count": null,
   "metadata": {
    "ExecuteTime": {
     "end_time": "2018-05-01T16:43:32.000648Z",
     "start_time": "2018-05-01T16:39:26.688Z"
    }
   },
   "outputs": [],
   "source": [
    "train_df.columns"
   ]
  },
  {
   "cell_type": "code",
   "execution_count": null,
   "metadata": {
    "ExecuteTime": {
     "end_time": "2018-05-01T16:43:32.002653Z",
     "start_time": "2018-05-01T16:39:26.862Z"
    }
   },
   "outputs": [],
   "source": [
    "cat_vars = ['app', 'channel', 'device', 'ip', 'os',\n",
    "       'click_timeYear', 'click_timeMonth', 'click_timeWeek', 'click_timeDay',\n",
    "       'click_timeDayofweek', 'click_timeDayofyear', 'click_timeHour',\n",
    "       'click_timeMinute', 'click_timeSecond', 'click_timeIs_month_end',\n",
    "       'click_timeIs_month_start', 'click_timeIs_quarter_end',\n",
    "       'click_timeIs_quarter_start', 'click_timeIs_year_end',\n",
    "       'click_timeIs_year_start']\n",
    "\n",
    "contin_vars = ['qty', 'ip_app_count',\n",
    "       'ip_app_os_count']\n",
    "\n",
    "n = len(train_df); n"
   ]
  },
  {
   "cell_type": "code",
   "execution_count": null,
   "metadata": {
    "ExecuteTime": {
     "end_time": "2018-05-01T16:43:32.004159Z",
     "start_time": "2018-05-01T16:39:27.034Z"
    }
   },
   "outputs": [],
   "source": [
    "dep = 'is_attributed'\n",
    "joined = train_df[cat_vars+contin_vars+[dep]].copy()"
   ]
  },
  {
   "cell_type": "code",
   "execution_count": null,
   "metadata": {
    "ExecuteTime": {
     "end_time": "2018-05-01T16:43:32.005662Z",
     "start_time": "2018-05-01T16:39:27.224Z"
    },
    "scrolled": true
   },
   "outputs": [],
   "source": [
    "test_df.columns"
   ]
  },
  {
   "cell_type": "code",
   "execution_count": null,
   "metadata": {
    "ExecuteTime": {
     "end_time": "2018-05-01T16:43:32.007667Z",
     "start_time": "2018-05-01T16:39:27.396Z"
    }
   },
   "outputs": [],
   "source": [
    "test_df[dep] = 0\n",
    "joined_test = test_df[cat_vars+contin_vars+[dep, 'click_id', 'click_timeElapsed']].copy()"
   ]
  },
  {
   "cell_type": "code",
   "execution_count": null,
   "metadata": {
    "ExecuteTime": {
     "end_time": "2018-05-01T16:43:32.009171Z",
     "start_time": "2018-05-01T16:39:27.578Z"
    }
   },
   "outputs": [],
   "source": [
    "for v in cat_vars: joined[v] = joined[v].astype('category').cat.as_ordered()"
   ]
  },
  {
   "cell_type": "code",
   "execution_count": null,
   "metadata": {
    "ExecuteTime": {
     "end_time": "2018-05-01T16:43:32.010675Z",
     "start_time": "2018-05-01T16:39:27.758Z"
    },
    "scrolled": true
   },
   "outputs": [],
   "source": [
    "apply_cats(joined_test, joined)"
   ]
  },
  {
   "cell_type": "code",
   "execution_count": null,
   "metadata": {
    "ExecuteTime": {
     "end_time": "2018-05-01T16:43:32.012179Z",
     "start_time": "2018-05-01T16:39:27.940Z"
    }
   },
   "outputs": [],
   "source": [
    "for v in contin_vars:\n",
    "    joined[v] = joined[v].astype('float32')\n",
    "    joined_test[v] = joined_test[v].astype('float32')"
   ]
  },
  {
   "cell_type": "code",
   "execution_count": null,
   "metadata": {
    "ExecuteTime": {
     "end_time": "2018-05-01T16:43:32.013683Z",
     "start_time": "2018-05-01T16:39:28.136Z"
    }
   },
   "outputs": [],
   "source": [
    "df, y, nas, mapper = proc_df(joined, 'is_attributed', do_scale=True)\n",
    "yl = np.log(y)"
   ]
  },
  {
   "cell_type": "code",
   "execution_count": null,
   "metadata": {
    "ExecuteTime": {
     "end_time": "2018-05-01T16:43:32.015187Z",
     "start_time": "2018-05-01T16:39:28.310Z"
    }
   },
   "outputs": [],
   "source": [
    "y = y.astype(np.int64)"
   ]
  },
  {
   "cell_type": "code",
   "execution_count": null,
   "metadata": {
    "ExecuteTime": {
     "end_time": "2018-05-01T16:43:32.016691Z",
     "start_time": "2018-05-01T16:39:28.492Z"
    }
   },
   "outputs": [],
   "source": [
    "torch.Tensor(y).type()"
   ]
  },
  {
   "cell_type": "code",
   "execution_count": null,
   "metadata": {
    "ExecuteTime": {
     "end_time": "2018-05-01T16:43:32.019197Z",
     "start_time": "2018-05-01T16:39:28.666Z"
    }
   },
   "outputs": [],
   "source": [
    "df_test, _, nas, mapper = proc_df(joined_test, 'is_attributed', do_scale=True, skip_flds=['click_id'],\n",
    "                                  mapper=mapper, na_dict=nas)"
   ]
  },
  {
   "cell_type": "code",
   "execution_count": null,
   "metadata": {
    "ExecuteTime": {
     "end_time": "2018-05-01T16:43:32.021203Z",
     "start_time": "2018-05-01T16:39:28.846Z"
    },
    "scrolled": true
   },
   "outputs": [],
   "source": [
    "df_test = df_test.set_index(\"click_timeElapsed\")"
   ]
  },
  {
   "cell_type": "code",
   "execution_count": null,
   "metadata": {
    "ExecuteTime": {
     "end_time": "2018-05-01T16:43:32.022707Z",
     "start_time": "2018-05-01T16:39:29.020Z"
    }
   },
   "outputs": [],
   "source": [
    "df.columns"
   ]
  },
  {
   "cell_type": "code",
   "execution_count": null,
   "metadata": {
    "ExecuteTime": {
     "end_time": "2018-05-01T16:43:32.024713Z",
     "start_time": "2018-05-01T16:39:29.202Z"
    }
   },
   "outputs": [],
   "source": [
    "df_test.columns"
   ]
  },
  {
   "cell_type": "markdown",
   "metadata": {
    "_cell_guid": "7f8d4cb4-f330-4039-8182-ca9b9a9f7d9f",
    "_uuid": "336d3ff25b38918de7d617a902bed6331d0a40db",
    "collapsed": true
   },
   "source": [
    "## DL"
   ]
  },
  {
   "cell_type": "code",
   "execution_count": null,
   "metadata": {
    "ExecuteTime": {
     "end_time": "2018-05-01T16:43:32.026719Z",
     "start_time": "2018-05-01T16:39:29.586Z"
    }
   },
   "outputs": [],
   "source": [
    "from fastai.column_data import *"
   ]
  },
  {
   "cell_type": "code",
   "execution_count": null,
   "metadata": {
    "ExecuteTime": {
     "end_time": "2018-05-01T16:43:32.028222Z",
     "start_time": "2018-05-01T16:39:29.792Z"
    }
   },
   "outputs": [],
   "source": [
    "path"
   ]
  },
  {
   "cell_type": "code",
   "execution_count": null,
   "metadata": {
    "ExecuteTime": {
     "end_time": "2018-05-01T16:43:32.030728Z",
     "start_time": "2018-05-01T16:39:30.132Z"
    }
   },
   "outputs": [],
   "source": [
    "np.arange(len(joined))[int(len(joined)*0.8) :]"
   ]
  },
  {
   "cell_type": "code",
   "execution_count": null,
   "metadata": {
    "ExecuteTime": {
     "end_time": "2018-05-01T16:43:32.032233Z",
     "start_time": "2018-05-01T16:39:30.410Z"
    }
   },
   "outputs": [],
   "source": [
    "import pdb\n",
    "# pdb.set_trace()\n",
    "md = ColumnarModelData.from_data_frame(path,[-1], df, y.astype(np.int64), cat_flds=cat_vars, bs=64,\n",
    "                                       test_df=None,is_reg=False, is_multi=False)"
   ]
  },
  {
   "cell_type": "code",
   "execution_count": null,
   "metadata": {
    "ExecuteTime": {
     "end_time": "2018-05-01T16:43:32.033737Z",
     "start_time": "2018-05-01T16:39:30.718Z"
    }
   },
   "outputs": [],
   "source": [
    "cat_sz = [(c, len(joined[c].cat.categories)+1) for c in cat_vars]"
   ]
  },
  {
   "cell_type": "code",
   "execution_count": null,
   "metadata": {
    "ExecuteTime": {
     "end_time": "2018-05-01T16:43:32.035240Z",
     "start_time": "2018-05-01T16:39:30.970Z"
    }
   },
   "outputs": [],
   "source": [
    "emb_szs = [(c, min(50, (c+1)//2)) for _,c in cat_sz]"
   ]
  },
  {
   "cell_type": "code",
   "execution_count": null,
   "metadata": {
    "ExecuteTime": {
     "end_time": "2018-05-01T16:43:32.037747Z",
     "start_time": "2018-05-01T16:39:31.200Z"
    }
   },
   "outputs": [],
   "source": [
    "torch.cuda.is_available()"
   ]
  },
  {
   "cell_type": "code",
   "execution_count": null,
   "metadata": {
    "ExecuteTime": {
     "end_time": "2018-05-01T16:43:32.039251Z",
     "start_time": "2018-05-01T16:39:31.396Z"
    }
   },
   "outputs": [],
   "source": [
    "a = torch.Tensor(10)"
   ]
  },
  {
   "cell_type": "code",
   "execution_count": null,
   "metadata": {
    "ExecuteTime": {
     "end_time": "2018-05-01T16:43:32.041256Z",
     "start_time": "2018-05-01T16:39:31.570Z"
    }
   },
   "outputs": [],
   "source": [
    "torch.cuda.current_device()"
   ]
  },
  {
   "cell_type": "code",
   "execution_count": null,
   "metadata": {
    "ExecuteTime": {
     "end_time": "2018-05-01T16:43:32.043763Z",
     "start_time": "2018-05-01T16:39:31.774Z"
    }
   },
   "outputs": [],
   "source": [
    "USE_GPU = False"
   ]
  },
  {
   "cell_type": "code",
   "execution_count": null,
   "metadata": {
    "ExecuteTime": {
     "end_time": "2018-05-01T16:43:32.045269Z",
     "start_time": "2018-05-01T16:39:31.972Z"
    }
   },
   "outputs": [],
   "source": [
    "m = md.get_learner(emb_szs, len(df.columns)-len(cat_vars),\n",
    "                   0.04, 1, [1000,500], [0.001,0.01], y_range=None)\n",
    "lr = 1e-3"
   ]
  },
  {
   "cell_type": "code",
   "execution_count": null,
   "metadata": {
    "ExecuteTime": {
     "end_time": "2018-05-01T16:43:32.046771Z",
     "start_time": "2018-05-01T16:39:32.280Z"
    }
   },
   "outputs": [],
   "source": [
    "tmp = iter(md.trn_dl)"
   ]
  },
  {
   "cell_type": "code",
   "execution_count": null,
   "metadata": {
    "ExecuteTime": {
     "end_time": "2018-05-01T16:43:32.048275Z",
     "start_time": "2018-05-01T16:39:32.542Z"
    }
   },
   "outputs": [],
   "source": [
    "*xs,ys = next(tmp)"
   ]
  },
  {
   "cell_type": "code",
   "execution_count": null,
   "metadata": {
    "ExecuteTime": {
     "end_time": "2018-05-01T16:43:32.049779Z",
     "start_time": "2018-05-01T16:39:32.850Z"
    }
   },
   "outputs": [],
   "source": [
    "ys.long"
   ]
  },
  {
   "cell_type": "code",
   "execution_count": null,
   "metadata": {
    "ExecuteTime": {
     "end_time": "2018-05-01T16:43:32.051785Z",
     "start_time": "2018-05-01T16:39:33.206Z"
    }
   },
   "outputs": [],
   "source": [
    "len(xs)"
   ]
  },
  {
   "cell_type": "code",
   "execution_count": null,
   "metadata": {
    "ExecuteTime": {
     "end_time": "2018-05-01T16:43:32.053289Z",
     "start_time": "2018-05-01T16:39:33.412Z"
    }
   },
   "outputs": [],
   "source": [
    "len(cat_vars)"
   ]
  },
  {
   "cell_type": "code",
   "execution_count": null,
   "metadata": {
    "ExecuteTime": {
     "end_time": "2018-05-01T16:43:32.054793Z",
     "start_time": "2018-05-01T16:39:33.744Z"
    }
   },
   "outputs": [],
   "source": [
    "len(contin_vars)"
   ]
  },
  {
   "cell_type": "code",
   "execution_count": null,
   "metadata": {
    "ExecuteTime": {
     "end_time": "2018-05-01T16:43:32.056296Z",
     "start_time": "2018-05-01T16:39:34.228Z"
    }
   },
   "outputs": [],
   "source": [
    "for i in xs:\n",
    "    print(i.size())"
   ]
  },
  {
   "cell_type": "code",
   "execution_count": null,
   "metadata": {
    "ExecuteTime": {
     "end_time": "2018-05-01T16:43:32.057801Z",
     "start_time": "2018-05-01T16:39:34.870Z"
    }
   },
   "outputs": [],
   "source": [
    "m.model.training"
   ]
  },
  {
   "cell_type": "code",
   "execution_count": null,
   "metadata": {
    "ExecuteTime": {
     "end_time": "2018-05-01T16:43:32.060307Z",
     "start_time": "2018-05-01T16:39:35.882Z"
    }
   },
   "outputs": [],
   "source": [
    "m.model.state_dict"
   ]
  },
  {
   "cell_type": "code",
   "execution_count": null,
   "metadata": {
    "ExecuteTime": {
     "end_time": "2018-05-01T16:43:32.061812Z",
     "start_time": "2018-05-01T16:39:36.596Z"
    }
   },
   "outputs": [],
   "source": [
    "m.lr_find()"
   ]
  },
  {
   "cell_type": "code",
   "execution_count": 254,
   "metadata": {
    "ExecuteTime": {
     "end_time": "2018-05-01T16:28:48.094914Z",
     "start_time": "2018-05-01T16:28:47.862012Z"
    }
   },
   "outputs": [
    {
     "data": {
      "image/png": "[encoded data removed]",
      "text/plain": [
       "<Figure size 432x288 with 1 Axes>"
      ]
     },
     "metadata": {},
     "output_type": "display_data"
    }
   ],
   "source": [
    "m.sched.plot(0,0)"
   ]
  },
  {
   "cell_type": "code",
   "execution_count": null,
   "metadata": {},
   "outputs": [],
   "source": []
  },
  {
   "cell_type": "code",
   "execution_count": null,
   "metadata": {},
   "outputs": [],
   "source": []
  }
 ],
 "metadata": {
  "kernelspec": {
   "display_name": "Python 3",
   "language": "python",
   "name": "python3"
  },
  "language_info": {
   "codemirror_mode": {
    "name": "ipython",
    "version": 3
   },
   "file_extension": ".py",
   "mimetype": "text/x-python",
   "name": "python",
   "nbconvert_exporter": "python",
   "pygments_lexer": "ipython3",
   "version": "3.6.5"
  }
 },
 "nbformat": 4,
 "nbformat_minor": 1
}
