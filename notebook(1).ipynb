{
 "cells": [
  {
   "cell_type": "code",
   "execution_count": 1,
   "metadata": {
    "ExecuteTime": {
     "end_time": "2018-05-01T01:28:29.114112Z",
     "start_time": "2018-05-01T01:28:27.976059Z"
    },
    "_cell_guid": "91acc64f-1d8a-472c-be6e-2d0b9a27b846",
    "_uuid": "c3188d99f10ffc51feac8624294a1f613e95c924"
   },
   "outputs": [
    {
     "name": "stderr",
     "output_type": "stream",
     "text": [
      "C:\\Users\\NokChan\\Anaconda3\\envs\\fastai\\lib\\site-packages\\sklearn\\cross_validation.py:41: DeprecationWarning: This module was deprecated in version 0.18 in favor of the model_selection module into which all the refactored classes and functions are moved. Also note that the interface of the new CV iterators are different from that of this module. This module will be removed in 0.20.\n",
      "  \"This module will be removed in 0.20.\", DeprecationWarning)\n"
     ]
    }
   ],
   "source": [
    "import pandas as pd\n",
    "import time\n",
    "import numpy as np\n",
    "from sklearn.cross_validation import train_test_split\n",
    "# import lightgbm as lgb\n",
    "from pandas_summary import DataFrameSummary\n",
    "pd.options.display.max_columns = 100\n",
    "pd.options.display.max_rows = 50\n",
    "from pathlib import Path\n",
    "from fastai.structured import *"
   ]
  },
  {
   "cell_type": "code",
   "execution_count": 2,
   "metadata": {
    "ExecuteTime": {
     "end_time": "2018-05-01T01:28:29.285706Z",
     "start_time": "2018-05-01T01:28:29.116121Z"
    }
   },
   "outputs": [],
   "source": [
    "import torch"
   ]
  },
  {
   "cell_type": "markdown",
   "metadata": {
    "_cell_guid": "93fb0066-7141-4735-a9f0-ee42a523274a",
    "_uuid": "008baf1d43fc8daf05b76e12f98d593efa5e0f62"
   },
   "source": [
    "## Pre-Processing"
   ]
  },
  {
   "cell_type": "code",
   "execution_count": 3,
   "metadata": {
    "ExecuteTime": {
     "end_time": "2018-05-01T01:28:29.427183Z",
     "start_time": "2018-05-01T01:28:29.287732Z"
    },
    "_cell_guid": "182f5c33-3ee5-45bc-ba43-c54fffb45611",
    "_uuid": "7d930b7b968c1440efa8fa8c6de2d75a6fb9c0b2"
   },
   "outputs": [
    {
     "name": "stdout",
     "output_type": "stream",
     "text": [
      "load train...\n",
      "load test...\n"
     ]
    }
   ],
   "source": [
    "path = Path('.')\n",
    "\n",
    "dtypes = {\n",
    "        'ip'            : 'uint32',\n",
    "        'app'           : 'uint16',\n",
    "        'device'        : 'uint16',\n",
    "        'os'            : 'uint16',\n",
    "        'channel'       : 'uint16',\n",
    "        'is_attributed' : 'uint8',\n",
    "        'click_id'      : 'uint32'\n",
    "        }\n",
    "\n",
    "print('load train...')\n",
    "train_df = pd.read_csv(\"train_sample.csv.zip\", nrows=80000, dtype=dtypes, usecols=['ip','app','device','os', 'channel', 'click_time', 'is_attributed'])\n",
    "print('load test...')\n",
    "test_df = pd.read_csv(\"test.csv.zip\", nrows=1000, dtype=dtypes, usecols=['ip','app','device','os', 'channel', 'click_time', 'click_id'])"
   ]
  },
  {
   "cell_type": "code",
   "execution_count": 4,
   "metadata": {
    "ExecuteTime": {
     "end_time": "2018-05-01T01:28:29.470298Z",
     "start_time": "2018-05-01T01:28:29.436214Z"
    },
    "_cell_guid": "0c859849-119a-4f01-aa32-e9194559755d",
    "_uuid": "9929f0af4c9f130276df5a101f10409b2393a042"
   },
   "outputs": [],
   "source": [
    "train_df.click_time = pd.to_datetime(train_df.click_time)\n",
    "test_df.click_time = pd.to_datetime(test_df.click_time)"
   ]
  },
  {
   "cell_type": "code",
   "execution_count": 5,
   "metadata": {
    "ExecuteTime": {
     "end_time": "2018-05-01T01:28:29.485340Z",
     "start_time": "2018-05-01T01:28:29.472807Z"
    },
    "_cell_guid": "01f91c63-581e-4f9a-aab4-f29afe89c1c7",
    "_uuid": "7f5236280898c1b2a842ca508cce470d8a034d45"
   },
   "outputs": [],
   "source": [
    "def add_datepart(df, fldname, drop=True):\n",
    "\n",
    "    fld = df[fldname]\n",
    "    if not np.issubdtype(fld.dtype, np.datetime64):\n",
    "        df[fldname] = fld = pd.to_datetime(fld, infer_datetime_format=True)\n",
    "    targ_pre = re.sub('[Dd]ate$', '', fldname)\n",
    "    for n in ('Year', 'Month', 'Week', 'Day', 'Dayofweek', 'Dayofyear','Hour','Minute','Second',\n",
    "            'Is_month_end', 'Is_month_start', 'Is_quarter_end', 'Is_quarter_start', 'Is_year_end', 'Is_year_start'):\n",
    "        df[targ_pre+n] = getattr(fld.dt,n.lower())\n",
    "    df[targ_pre+'Elapsed'] = fld.astype(np.int64) // 10**9\n",
    "    if drop: df.drop(fldname, axis=1, inplace=True)"
   ]
  },
  {
   "cell_type": "code",
   "execution_count": 6,
   "metadata": {
    "ExecuteTime": {
     "end_time": "2018-05-01T01:28:29.498383Z",
     "start_time": "2018-05-01T01:28:29.488356Z"
    },
    "_cell_guid": "147939f7-2b8c-49be-951d-d3a9af4c3ceb",
    "_uuid": "07b497514135ca15b75ff65a59c2ea09a7e82ad5"
   },
   "outputs": [],
   "source": [
    "# tables = [train_df, test_df]\n",
    "# from IPython.display import HTML\n",
    "# for t in tables:\n",
    "#     df = DataFrameSummary(t)\n",
    "#     display(t.head())\n",
    "#     display(df.summary())"
   ]
  },
  {
   "cell_type": "code",
   "execution_count": 7,
   "metadata": {
    "ExecuteTime": {
     "end_time": "2018-05-01T01:28:29.519435Z",
     "start_time": "2018-05-01T01:28:29.506402Z"
    },
    "_cell_guid": "1dcfc02c-ea89-4a09-9a36-a0c2d12d6ed2",
    "_uuid": "c6e8d3bdfa3358c815cc35e3aa4f7c28ab5be875",
    "scrolled": true
   },
   "outputs": [],
   "source": [
    "# train_df.click_time.describe()"
   ]
  },
  {
   "cell_type": "code",
   "execution_count": 8,
   "metadata": {
    "ExecuteTime": {
     "end_time": "2018-05-01T01:28:29.530464Z",
     "start_time": "2018-05-01T01:28:29.521440Z"
    },
    "_cell_guid": "f9969495-f8ef-4ade-8b5a-91ec97bf2d87",
    "_uuid": "260e0b2543d5bc0ca45b7df33add5c89f614cf53"
   },
   "outputs": [],
   "source": [
    "# test_df.click_time.describe()"
   ]
  },
  {
   "cell_type": "code",
   "execution_count": 9,
   "metadata": {
    "ExecuteTime": {
     "end_time": "2018-05-01T01:28:29.740036Z",
     "start_time": "2018-05-01T01:28:29.532471Z"
    },
    "_cell_guid": "04adf489-dd08-4d93-8005-160ee000633d",
    "_uuid": "d327b6e9775de4e41fb5e37d9663b8cbe95fe9f2",
    "scrolled": true
   },
   "outputs": [
    {
     "name": "stdout",
     "output_type": "stream",
     "text": [
      "data prep...\n"
     ]
    },
    {
     "data": {
      "text/plain": [
       "119"
      ]
     },
     "execution_count": 9,
     "metadata": {},
     "output_type": "execute_result"
    }
   ],
   "source": [
    "import gc\n",
    "import re\n",
    "\n",
    "n_train = len(train_df)\n",
    "train_df=train_df.append(test_df)\n",
    "\n",
    "del test_df\n",
    "gc.collect()\n",
    "\n",
    "print('data prep...')\n",
    "add_datepart(train_df,'click_time')\n",
    "\n",
    "\n",
    "gc.collect()"
   ]
  },
  {
   "cell_type": "code",
   "execution_count": 10,
   "metadata": {
    "ExecuteTime": {
     "end_time": "2018-05-01T01:28:29.804219Z",
     "start_time": "2018-05-01T01:28:29.742042Z"
    },
    "_cell_guid": "189f7c60-f54a-43de-9ab9-77f75bf029ff",
    "_uuid": "7c76a609c3023552b27f020d4edb818677d69635"
   },
   "outputs": [
    {
     "data": {
      "text/plain": [
       "0"
      ]
     },
     "execution_count": 10,
     "metadata": {},
     "output_type": "execute_result"
    }
   ],
   "source": [
    "# del test_df\n",
    "gc.collect()"
   ]
  },
  {
   "cell_type": "code",
   "execution_count": 11,
   "metadata": {
    "ExecuteTime": {
     "end_time": "2018-05-01T01:28:29.818256Z",
     "start_time": "2018-05-01T01:28:29.807226Z"
    },
    "_cell_guid": "68ffa0c9-43bb-40ed-af30-339cedb6cdda",
    "_uuid": "1bba2aafdf77baecf7918959f7cb140fa708c818"
   },
   "outputs": [],
   "source": [
    "# DataFrameSummary(train_df).summary()"
   ]
  },
  {
   "cell_type": "markdown",
   "metadata": {
    "_cell_guid": "2eadcaf3-6897-4680-b20a-3b04de25cb1c",
    "_uuid": "e04f2db16b56e390e709c45cc9bcf5e8f3175e90"
   },
   "source": [
    "Looks like the data is pretty good, no missing data issue or it may have be removed already."
   ]
  },
  {
   "cell_type": "code",
   "execution_count": 12,
   "metadata": {
    "ExecuteTime": {
     "end_time": "2018-05-01T01:28:29.848336Z",
     "start_time": "2018-05-01T01:28:29.820263Z"
    },
    "_cell_guid": "728839b1-ae2a-4ad3-8a53-20354e05c930",
    "_uuid": "0a421cf602097b3a03bc573fad67f907d113f7f3"
   },
   "outputs": [
    {
     "data": {
      "text/plain": [
       "9.424209594726562"
      ]
     },
     "execution_count": 12,
     "metadata": {},
     "output_type": "execute_result"
    }
   ],
   "source": [
    "train_df.memory_usage().sum()/1024/1024"
   ]
  },
  {
   "cell_type": "code",
   "execution_count": 13,
   "metadata": {
    "ExecuteTime": {
     "end_time": "2018-05-01T01:28:29.863376Z",
     "start_time": "2018-05-01T01:28:29.850343Z"
    },
    "_cell_guid": "5f294b8f-8aa1-4150-8933-17a2178d69c2",
    "_uuid": "ecdde4073507d7ebfd3f8129828561bceb00f63f"
   },
   "outputs": [],
   "source": [
    "# DataFrameSummary(train_df).summary()"
   ]
  },
  {
   "cell_type": "code",
   "execution_count": 14,
   "metadata": {
    "ExecuteTime": {
     "end_time": "2018-05-01T01:28:30.079037Z",
     "start_time": "2018-05-01T01:28:29.866385Z"
    },
    "_cell_guid": "9d94c4c3-c229-4b29-98a3-3d5ca4bb68ae",
    "_uuid": "a0ce7e0d66202411210846ad825fc804bcd6a744"
   },
   "outputs": [
    {
     "name": "stdout",
     "output_type": "stream",
     "text": [
      "group by...\n",
      "merge...\n"
     ]
    },
    {
     "data": {
      "text/plain": [
       "250"
      ]
     },
     "execution_count": 14,
     "metadata": {},
     "output_type": "execute_result"
    }
   ],
   "source": [
    "# # of clicks for each ip-day-hour combination\n",
    "print('group by...')\n",
    "gp = train_df[['ip','click_timeDay','click_timeHour','click_timeMinute','channel']].groupby(by=['ip','click_timeDay','click_timeHour','click_timeMinute'])[['channel']].count().reset_index().rename(index=str, columns={'channel': 'qty'})\n",
    "print('merge...')\n",
    "train_df = train_df.merge(gp, on=['ip','click_timeDay','click_timeHour','click_timeMinute'], how='left')\n",
    "del gp\n",
    "gc.collect()"
   ]
  },
  {
   "cell_type": "code",
   "execution_count": 15,
   "metadata": {
    "ExecuteTime": {
     "end_time": "2018-05-01T01:28:30.252359Z",
     "start_time": "2018-05-01T01:28:30.081544Z"
    },
    "_cell_guid": "0580dcce-10aa-4f4b-8515-43eefd8992a7",
    "_uuid": "ce02e539b482e48f9a9ddde225da2a7a1a8d787f"
   },
   "outputs": [
    {
     "name": "stdout",
     "output_type": "stream",
     "text": [
      "group by...\n"
     ]
    },
    {
     "data": {
      "text/plain": [
       "97"
      ]
     },
     "execution_count": 15,
     "metadata": {},
     "output_type": "execute_result"
    }
   ],
   "source": [
    "# # of clicks for each ip-app combination\n",
    "print('group by...')\n",
    "gp = train_df[['ip','app', 'channel']].groupby(by=['ip', 'app'])[['channel']].count().reset_index().rename(index=str, columns={'channel': 'ip_app_count'})\n",
    "train_df = train_df.merge(gp, on=['ip','app'], how='left')\n",
    "del gp\n",
    "gc.collect()"
   ]
  },
  {
   "cell_type": "code",
   "execution_count": 16,
   "metadata": {
    "ExecuteTime": {
     "end_time": "2018-05-01T01:28:30.446892Z",
     "start_time": "2018-05-01T01:28:30.255367Z"
    },
    "_cell_guid": "75b4f82a-65eb-4468-b2d4-63e1106f2588",
    "_uuid": "6e71dade8a085348c69be81f38495466cb75b0d7"
   },
   "outputs": [
    {
     "name": "stdout",
     "output_type": "stream",
     "text": [
      "group by...\n"
     ]
    },
    {
     "data": {
      "text/plain": [
       "113"
      ]
     },
     "execution_count": 16,
     "metadata": {},
     "output_type": "execute_result"
    }
   ],
   "source": [
    "# # of clicks for each ip-app-os combination\n",
    "print('group by...')\n",
    "gp = train_df[['ip','app', 'os', 'channel']].groupby(by=['ip', 'app', 'os'])[['channel']].count().reset_index().rename(index=str, columns={'channel': 'ip_app_os_count'})\n",
    "train_df = train_df.merge(gp, on=['ip','app', 'os'], how='left')\n",
    "del gp\n",
    "gc.collect()"
   ]
  },
  {
   "cell_type": "code",
   "execution_count": 17,
   "metadata": {
    "ExecuteTime": {
     "end_time": "2018-05-01T01:28:30.539187Z",
     "start_time": "2018-05-01T01:28:30.448898Z"
    },
    "_cell_guid": "64c6802b-cdf5-4003-9141-c1bdbf53be5b",
    "_uuid": "75dc5c95c014b56bba917c9748e7c785932cdca5",
    "scrolled": true
   },
   "outputs": [
    {
     "name": "stdout",
     "output_type": "stream",
     "text": [
      "vars and data type: \n",
      "<class 'pandas.core.frame.DataFrame'>\n",
      "Int64Index: 81000 entries, 0 to 80999\n",
      "Data columns (total 26 columns):\n",
      "app                           81000 non-null uint16\n",
      "channel                       81000 non-null uint16\n",
      "click_id                      1000 non-null float64\n",
      "device                        81000 non-null uint16\n",
      "ip                            81000 non-null uint32\n",
      "is_attributed                 80000 non-null float64\n",
      "os                            81000 non-null uint16\n",
      "click_timeYear                81000 non-null int64\n",
      "click_timeMonth               81000 non-null int64\n",
      "click_timeWeek                81000 non-null int64\n",
      "click_timeDay                 81000 non-null int64\n",
      "click_timeDayofweek           81000 non-null int64\n",
      "click_timeDayofyear           81000 non-null int64\n",
      "click_timeHour                81000 non-null int64\n",
      "click_timeMinute              81000 non-null int64\n",
      "click_timeSecond              81000 non-null int64\n",
      "click_timeIs_month_end        81000 non-null bool\n",
      "click_timeIs_month_start      81000 non-null bool\n",
      "click_timeIs_quarter_end      81000 non-null bool\n",
      "click_timeIs_quarter_start    81000 non-null bool\n",
      "click_timeIs_year_end         81000 non-null bool\n",
      "click_timeIs_year_start       81000 non-null bool\n",
      "click_timeElapsed             81000 non-null int64\n",
      "qty                           81000 non-null int64\n",
      "ip_app_count                  81000 non-null int64\n",
      "ip_app_os_count               81000 non-null int64\n",
      "dtypes: bool(6), float64(2), int64(13), uint16(4), uint32(1)\n",
      "memory usage: 11.3 MB\n"
     ]
    }
   ],
   "source": [
    "print(\"vars and data type: \")\n",
    "train_df.info()\n",
    "train_df['qty'] = train_df['qty'].astype('uint16')\n",
    "train_df['ip_app_count'] = train_df['ip_app_count'].astype('uint16')\n",
    "train_df['ip_app_os_count'] = train_df['ip_app_os_count'].astype('uint16')"
   ]
  },
  {
   "cell_type": "code",
   "execution_count": 18,
   "metadata": {
    "ExecuteTime": {
     "end_time": "2018-05-01T01:28:30.579291Z",
     "start_time": "2018-05-01T01:28:30.541188Z"
    },
    "_cell_guid": "455fea68-de0b-4ef3-9fa3-2b8acb634c4d",
    "_uuid": "96c98f625ba37b1d854f754afaf140abcfc96d20",
    "scrolled": false
   },
   "outputs": [
    {
     "data": {
      "text/html": [
       "<div>\n",
       "<style scoped>\n",
       "    .dataframe tbody tr th:only-of-type {\n",
       "        vertical-align: middle;\n",
       "    }\n",
       "\n",
       "    .dataframe tbody tr th {\n",
       "        vertical-align: top;\n",
       "    }\n",
       "\n",
       "    .dataframe thead th {\n",
       "        text-align: right;\n",
       "    }\n",
       "</style>\n",
       "<table border=\"1\" class=\"dataframe\">\n",
       "  <thead>\n",
       "    <tr style=\"text-align: right;\">\n",
       "      <th></th>\n",
       "      <th>app</th>\n",
       "      <th>channel</th>\n",
       "      <th>click_id</th>\n",
       "      <th>device</th>\n",
       "      <th>ip</th>\n",
       "      <th>is_attributed</th>\n",
       "      <th>os</th>\n",
       "      <th>click_timeYear</th>\n",
       "      <th>click_timeMonth</th>\n",
       "      <th>click_timeWeek</th>\n",
       "      <th>click_timeDay</th>\n",
       "      <th>click_timeDayofweek</th>\n",
       "      <th>click_timeDayofyear</th>\n",
       "      <th>click_timeHour</th>\n",
       "      <th>click_timeMinute</th>\n",
       "      <th>click_timeSecond</th>\n",
       "      <th>click_timeIs_month_end</th>\n",
       "      <th>click_timeIs_month_start</th>\n",
       "      <th>click_timeIs_quarter_end</th>\n",
       "      <th>click_timeIs_quarter_start</th>\n",
       "      <th>click_timeIs_year_end</th>\n",
       "      <th>click_timeIs_year_start</th>\n",
       "      <th>click_timeElapsed</th>\n",
       "      <th>qty</th>\n",
       "      <th>ip_app_count</th>\n",
       "      <th>ip_app_os_count</th>\n",
       "    </tr>\n",
       "  </thead>\n",
       "  <tbody>\n",
       "    <tr>\n",
       "      <th>0</th>\n",
       "      <td>12</td>\n",
       "      <td>497</td>\n",
       "      <td>NaN</td>\n",
       "      <td>1</td>\n",
       "      <td>87540</td>\n",
       "      <td>0.0</td>\n",
       "      <td>13</td>\n",
       "      <td>2017</td>\n",
       "      <td>11</td>\n",
       "      <td>45</td>\n",
       "      <td>7</td>\n",
       "      <td>1</td>\n",
       "      <td>311</td>\n",
       "      <td>9</td>\n",
       "      <td>30</td>\n",
       "      <td>38</td>\n",
       "      <td>False</td>\n",
       "      <td>False</td>\n",
       "      <td>False</td>\n",
       "      <td>False</td>\n",
       "      <td>False</td>\n",
       "      <td>False</td>\n",
       "      <td>1510047038</td>\n",
       "      <td>1</td>\n",
       "      <td>3</td>\n",
       "      <td>2</td>\n",
       "    </tr>\n",
       "    <tr>\n",
       "      <th>1</th>\n",
       "      <td>25</td>\n",
       "      <td>259</td>\n",
       "      <td>NaN</td>\n",
       "      <td>1</td>\n",
       "      <td>105560</td>\n",
       "      <td>0.0</td>\n",
       "      <td>17</td>\n",
       "      <td>2017</td>\n",
       "      <td>11</td>\n",
       "      <td>45</td>\n",
       "      <td>7</td>\n",
       "      <td>1</td>\n",
       "      <td>311</td>\n",
       "      <td>13</td>\n",
       "      <td>40</td>\n",
       "      <td>27</td>\n",
       "      <td>False</td>\n",
       "      <td>False</td>\n",
       "      <td>False</td>\n",
       "      <td>False</td>\n",
       "      <td>False</td>\n",
       "      <td>False</td>\n",
       "      <td>1510062027</td>\n",
       "      <td>1</td>\n",
       "      <td>3</td>\n",
       "      <td>1</td>\n",
       "    </tr>\n",
       "    <tr>\n",
       "      <th>2</th>\n",
       "      <td>12</td>\n",
       "      <td>212</td>\n",
       "      <td>NaN</td>\n",
       "      <td>1</td>\n",
       "      <td>101424</td>\n",
       "      <td>0.0</td>\n",
       "      <td>19</td>\n",
       "      <td>2017</td>\n",
       "      <td>11</td>\n",
       "      <td>45</td>\n",
       "      <td>7</td>\n",
       "      <td>1</td>\n",
       "      <td>311</td>\n",
       "      <td>18</td>\n",
       "      <td>5</td>\n",
       "      <td>24</td>\n",
       "      <td>False</td>\n",
       "      <td>False</td>\n",
       "      <td>False</td>\n",
       "      <td>False</td>\n",
       "      <td>False</td>\n",
       "      <td>False</td>\n",
       "      <td>1510077924</td>\n",
       "      <td>1</td>\n",
       "      <td>1</td>\n",
       "      <td>1</td>\n",
       "    </tr>\n",
       "    <tr>\n",
       "      <th>3</th>\n",
       "      <td>13</td>\n",
       "      <td>477</td>\n",
       "      <td>NaN</td>\n",
       "      <td>1</td>\n",
       "      <td>94584</td>\n",
       "      <td>0.0</td>\n",
       "      <td>13</td>\n",
       "      <td>2017</td>\n",
       "      <td>11</td>\n",
       "      <td>45</td>\n",
       "      <td>7</td>\n",
       "      <td>1</td>\n",
       "      <td>311</td>\n",
       "      <td>4</td>\n",
       "      <td>58</td>\n",
       "      <td>8</td>\n",
       "      <td>False</td>\n",
       "      <td>False</td>\n",
       "      <td>False</td>\n",
       "      <td>False</td>\n",
       "      <td>False</td>\n",
       "      <td>False</td>\n",
       "      <td>1510030688</td>\n",
       "      <td>1</td>\n",
       "      <td>1</td>\n",
       "      <td>1</td>\n",
       "    </tr>\n",
       "    <tr>\n",
       "      <th>4</th>\n",
       "      <td>12</td>\n",
       "      <td>178</td>\n",
       "      <td>NaN</td>\n",
       "      <td>1</td>\n",
       "      <td>68413</td>\n",
       "      <td>0.0</td>\n",
       "      <td>1</td>\n",
       "      <td>2017</td>\n",
       "      <td>11</td>\n",
       "      <td>45</td>\n",
       "      <td>9</td>\n",
       "      <td>3</td>\n",
       "      <td>313</td>\n",
       "      <td>9</td>\n",
       "      <td>0</td>\n",
       "      <td>9</td>\n",
       "      <td>False</td>\n",
       "      <td>False</td>\n",
       "      <td>False</td>\n",
       "      <td>False</td>\n",
       "      <td>False</td>\n",
       "      <td>False</td>\n",
       "      <td>1510218009</td>\n",
       "      <td>1</td>\n",
       "      <td>2</td>\n",
       "      <td>1</td>\n",
       "    </tr>\n",
       "  </tbody>\n",
       "</table>\n",
       "</div>"
      ],
      "text/plain": [
       "   app  channel  click_id  device      ip  is_attributed  os  click_timeYear  \\\n",
       "0   12      497       NaN       1   87540            0.0  13            2017   \n",
       "1   25      259       NaN       1  105560            0.0  17            2017   \n",
       "2   12      212       NaN       1  101424            0.0  19            2017   \n",
       "3   13      477       NaN       1   94584            0.0  13            2017   \n",
       "4   12      178       NaN       1   68413            0.0   1            2017   \n",
       "\n",
       "   click_timeMonth  click_timeWeek  click_timeDay  click_timeDayofweek  \\\n",
       "0               11              45              7                    1   \n",
       "1               11              45              7                    1   \n",
       "2               11              45              7                    1   \n",
       "3               11              45              7                    1   \n",
       "4               11              45              9                    3   \n",
       "\n",
       "   click_timeDayofyear  click_timeHour  click_timeMinute  click_timeSecond  \\\n",
       "0                  311               9                30                38   \n",
       "1                  311              13                40                27   \n",
       "2                  311              18                 5                24   \n",
       "3                  311               4                58                 8   \n",
       "4                  313               9                 0                 9   \n",
       "\n",
       "   click_timeIs_month_end  click_timeIs_month_start  click_timeIs_quarter_end  \\\n",
       "0                   False                     False                     False   \n",
       "1                   False                     False                     False   \n",
       "2                   False                     False                     False   \n",
       "3                   False                     False                     False   \n",
       "4                   False                     False                     False   \n",
       "\n",
       "   click_timeIs_quarter_start  click_timeIs_year_end  click_timeIs_year_start  \\\n",
       "0                       False                  False                    False   \n",
       "1                       False                  False                    False   \n",
       "2                       False                  False                    False   \n",
       "3                       False                  False                    False   \n",
       "4                       False                  False                    False   \n",
       "\n",
       "   click_timeElapsed  qty  ip_app_count  ip_app_os_count  \n",
       "0         1510047038    1             3                2  \n",
       "1         1510062027    1             3                1  \n",
       "2         1510077924    1             1                1  \n",
       "3         1510030688    1             1                1  \n",
       "4         1510218009    1             2                1  "
      ]
     },
     "execution_count": 18,
     "metadata": {},
     "output_type": "execute_result"
    }
   ],
   "source": [
    "train_df.head(5)"
   ]
  },
  {
   "cell_type": "code",
   "execution_count": 19,
   "metadata": {
    "ExecuteTime": {
     "end_time": "2018-05-01T01:28:30.633439Z",
     "start_time": "2018-05-01T01:28:30.582300Z"
    },
    "_cell_guid": "3fe001e1-b086-43a7-a556-aa67a0cb8ccf",
    "_uuid": "df0066c149e49bbc8ae54236430f77fc60d541a1"
   },
   "outputs": [],
   "source": [
    "for i in ['Year', 'Month', 'Week', 'Day', 'Dayofweek', 'Dayofyear','Hour','Minute','Second']:\n",
    "    train_df['click_time'+i] = train_df['click_time'+i].astype(np.int16)"
   ]
  },
  {
   "cell_type": "code",
   "execution_count": 20,
   "metadata": {
    "ExecuteTime": {
     "end_time": "2018-05-01T01:28:30.644469Z",
     "start_time": "2018-05-01T01:28:30.636447Z"
    },
    "_cell_guid": "33f8698f-1080-4b55-9842-e9061a7e9d3f",
    "_uuid": "50e167a89a14a55ae37afc3c0bb218f38918e326"
   },
   "outputs": [
    {
     "data": {
      "text/plain": [
       "5.7163238525390625"
      ]
     },
     "execution_count": 20,
     "metadata": {},
     "output_type": "execute_result"
    }
   ],
   "source": [
    "train_df.memory_usage().sum()/1024/1024"
   ]
  },
  {
   "cell_type": "code",
   "execution_count": 21,
   "metadata": {
    "ExecuteTime": {
     "end_time": "2018-05-01T01:28:30.674549Z",
     "start_time": "2018-05-01T01:28:30.647478Z"
    },
    "_cell_guid": "fe0e63e6-970a-4a01-9743-af806da09aeb",
    "_uuid": "b417938df5aac6f2272c1d15a5a7d0c24e09ee21"
   },
   "outputs": [],
   "source": [
    "test_df = train_df[n_train:]\n",
    "val_df = train_df[int(n_train*0.75):n_train]\n",
    "train_df = train_df[:int(n_train*0.75)]"
   ]
  },
  {
   "cell_type": "code",
   "execution_count": 22,
   "metadata": {
    "ExecuteTime": {
     "end_time": "2018-05-01T01:28:30.695286Z",
     "start_time": "2018-05-01T01:28:30.679566Z"
    },
    "_cell_guid": "3d0d8be5-2269-4990-a441-1368f4303584",
    "_uuid": "26c81ccd75c7cf3cb635a0cca9050ecde5266123"
   },
   "outputs": [],
   "source": [
    "# Class count\n",
    "count_class_0, count_class_1 = val_df.is_attributed.value_counts()\n",
    "\n",
    "# Divide by class\n",
    "df_class_0 = val_df[val_df['is_attributed'] == 0]\n",
    "df_class_1 = val_df[val_df['is_attributed'] == 1]"
   ]
  },
  {
   "cell_type": "code",
   "execution_count": 23,
   "metadata": {
    "ExecuteTime": {
     "end_time": "2018-05-01T01:28:30.703308Z",
     "start_time": "2018-05-01T01:28:30.698295Z"
    },
    "_cell_guid": "fcbedcb0-2e2c-42a1-a29a-bab5ad7b1118",
    "_uuid": "b0aafbf1326587f32f073b4076c90722f7fa92c0"
   },
   "outputs": [],
   "source": [
    "# df_class_0.head()"
   ]
  },
  {
   "cell_type": "code",
   "execution_count": 24,
   "metadata": {
    "ExecuteTime": {
     "end_time": "2018-05-01T01:28:30.853724Z",
     "start_time": "2018-05-01T01:28:30.705312Z"
    },
    "_cell_guid": "4d1d7d57-6074-4c38-9c02-f6233af35c06",
    "_uuid": "597a4bcbd69f3d7884a8786448bbcb78500c91a7"
   },
   "outputs": [
    {
     "name": "stdout",
     "output_type": "stream",
     "text": [
      "Random over-sampling:\n"
     ]
    },
    {
     "data": {
      "image/png": "[encoded data removed]",
      "text/plain": [
       "<Figure size 432x288 with 1 Axes>"
      ]
     },
     "metadata": {},
     "output_type": "display_data"
    }
   ],
   "source": [
    "df_class_1_over = df_class_1.sample(count_class_0, replace=True)\n",
    "val_df = pd.concat([df_class_0, df_class_1_over], axis=0)\n",
    "\n",
    "print('Random over-sampling:')\n",
    "val_df.is_attributed.value_counts().plot(kind='bar', title='Count (target)');"
   ]
  },
  {
   "cell_type": "code",
   "execution_count": 25,
   "metadata": {
    "ExecuteTime": {
     "end_time": "2018-05-01T01:28:30.886816Z",
     "start_time": "2018-05-01T01:28:30.855729Z"
    },
    "_cell_guid": "7ea47c16-e957-471f-be1f-b7eeba1eec28",
    "_uuid": "2df873a2566fa300c366a87f35923c4c7d8712c0"
   },
   "outputs": [
    {
     "name": "stdout",
     "output_type": "stream",
     "text": [
      "train size:  60000\n",
      "valid size:  39904\n",
      "test size :  1000\n"
     ]
    }
   ],
   "source": [
    "print(\"train size: \", len(train_df))\n",
    "print(\"valid size: \", len(val_df))\n",
    "print(\"test size : \", len(test_df))"
   ]
  },
  {
   "cell_type": "markdown",
   "metadata": {},
   "source": [
    "## Create Feature"
   ]
  },
  {
   "cell_type": "code",
   "execution_count": 26,
   "metadata": {
    "ExecuteTime": {
     "end_time": "2018-05-01T01:28:30.928937Z",
     "start_time": "2018-05-01T01:28:30.889324Z"
    }
   },
   "outputs": [
    {
     "data": {
      "text/html": [
       "<div>\n",
       "<style scoped>\n",
       "    .dataframe tbody tr th:only-of-type {\n",
       "        vertical-align: middle;\n",
       "    }\n",
       "\n",
       "    .dataframe tbody tr th {\n",
       "        vertical-align: top;\n",
       "    }\n",
       "\n",
       "    .dataframe thead th {\n",
       "        text-align: right;\n",
       "    }\n",
       "</style>\n",
       "<table border=\"1\" class=\"dataframe\">\n",
       "  <thead>\n",
       "    <tr style=\"text-align: right;\">\n",
       "      <th></th>\n",
       "      <th>app</th>\n",
       "      <th>channel</th>\n",
       "      <th>click_id</th>\n",
       "      <th>device</th>\n",
       "      <th>ip</th>\n",
       "      <th>is_attributed</th>\n",
       "      <th>os</th>\n",
       "      <th>click_timeYear</th>\n",
       "      <th>click_timeMonth</th>\n",
       "      <th>click_timeWeek</th>\n",
       "      <th>click_timeDay</th>\n",
       "      <th>click_timeDayofweek</th>\n",
       "      <th>click_timeDayofyear</th>\n",
       "      <th>click_timeHour</th>\n",
       "      <th>click_timeMinute</th>\n",
       "      <th>click_timeSecond</th>\n",
       "      <th>click_timeIs_month_end</th>\n",
       "      <th>click_timeIs_month_start</th>\n",
       "      <th>click_timeIs_quarter_end</th>\n",
       "      <th>click_timeIs_quarter_start</th>\n",
       "      <th>click_timeIs_year_end</th>\n",
       "      <th>click_timeIs_year_start</th>\n",
       "      <th>click_timeElapsed</th>\n",
       "      <th>qty</th>\n",
       "      <th>ip_app_count</th>\n",
       "      <th>ip_app_os_count</th>\n",
       "    </tr>\n",
       "  </thead>\n",
       "  <tbody>\n",
       "    <tr>\n",
       "      <th>0</th>\n",
       "      <td>12</td>\n",
       "      <td>497</td>\n",
       "      <td>NaN</td>\n",
       "      <td>1</td>\n",
       "      <td>87540</td>\n",
       "      <td>0.0</td>\n",
       "      <td>13</td>\n",
       "      <td>2017</td>\n",
       "      <td>11</td>\n",
       "      <td>45</td>\n",
       "      <td>7</td>\n",
       "      <td>1</td>\n",
       "      <td>311</td>\n",
       "      <td>9</td>\n",
       "      <td>30</td>\n",
       "      <td>38</td>\n",
       "      <td>False</td>\n",
       "      <td>False</td>\n",
       "      <td>False</td>\n",
       "      <td>False</td>\n",
       "      <td>False</td>\n",
       "      <td>False</td>\n",
       "      <td>1510047038</td>\n",
       "      <td>1</td>\n",
       "      <td>3</td>\n",
       "      <td>2</td>\n",
       "    </tr>\n",
       "    <tr>\n",
       "      <th>1</th>\n",
       "      <td>25</td>\n",
       "      <td>259</td>\n",
       "      <td>NaN</td>\n",
       "      <td>1</td>\n",
       "      <td>105560</td>\n",
       "      <td>0.0</td>\n",
       "      <td>17</td>\n",
       "      <td>2017</td>\n",
       "      <td>11</td>\n",
       "      <td>45</td>\n",
       "      <td>7</td>\n",
       "      <td>1</td>\n",
       "      <td>311</td>\n",
       "      <td>13</td>\n",
       "      <td>40</td>\n",
       "      <td>27</td>\n",
       "      <td>False</td>\n",
       "      <td>False</td>\n",
       "      <td>False</td>\n",
       "      <td>False</td>\n",
       "      <td>False</td>\n",
       "      <td>False</td>\n",
       "      <td>1510062027</td>\n",
       "      <td>1</td>\n",
       "      <td>3</td>\n",
       "      <td>1</td>\n",
       "    </tr>\n",
       "  </tbody>\n",
       "</table>\n",
       "</div>"
      ],
      "text/plain": [
       "   app  channel  click_id  device      ip  is_attributed  os  click_timeYear  \\\n",
       "0   12      497       NaN       1   87540            0.0  13            2017   \n",
       "1   25      259       NaN       1  105560            0.0  17            2017   \n",
       "\n",
       "   click_timeMonth  click_timeWeek  click_timeDay  click_timeDayofweek  \\\n",
       "0               11              45              7                    1   \n",
       "1               11              45              7                    1   \n",
       "\n",
       "   click_timeDayofyear  click_timeHour  click_timeMinute  click_timeSecond  \\\n",
       "0                  311               9                30                38   \n",
       "1                  311              13                40                27   \n",
       "\n",
       "   click_timeIs_month_end  click_timeIs_month_start  click_timeIs_quarter_end  \\\n",
       "0                   False                     False                     False   \n",
       "1                   False                     False                     False   \n",
       "\n",
       "   click_timeIs_quarter_start  click_timeIs_year_end  click_timeIs_year_start  \\\n",
       "0                       False                  False                    False   \n",
       "1                       False                  False                    False   \n",
       "\n",
       "   click_timeElapsed  qty  ip_app_count  ip_app_os_count  \n",
       "0         1510047038    1             3                2  \n",
       "1         1510062027    1             3                1  "
      ]
     },
     "execution_count": 26,
     "metadata": {},
     "output_type": "execute_result"
    }
   ],
   "source": [
    "train_df.head(2)"
   ]
  },
  {
   "cell_type": "code",
   "execution_count": 27,
   "metadata": {
    "ExecuteTime": {
     "end_time": "2018-05-01T01:28:30.939964Z",
     "start_time": "2018-05-01T01:28:30.932952Z"
    }
   },
   "outputs": [
    {
     "data": {
      "text/plain": [
       "Index(['app', 'channel', 'click_id', 'device', 'ip', 'is_attributed', 'os',\n",
       "       'click_timeYear', 'click_timeMonth', 'click_timeWeek', 'click_timeDay',\n",
       "       'click_timeDayofweek', 'click_timeDayofyear', 'click_timeHour',\n",
       "       'click_timeMinute', 'click_timeSecond', 'click_timeIs_month_end',\n",
       "       'click_timeIs_month_start', 'click_timeIs_quarter_end',\n",
       "       'click_timeIs_quarter_start', 'click_timeIs_year_end',\n",
       "       'click_timeIs_year_start', 'click_timeElapsed', 'qty', 'ip_app_count',\n",
       "       'ip_app_os_count'],\n",
       "      dtype='object')"
      ]
     },
     "execution_count": 27,
     "metadata": {},
     "output_type": "execute_result"
    }
   ],
   "source": [
    "train_df.columns"
   ]
  },
  {
   "cell_type": "code",
   "execution_count": 28,
   "metadata": {
    "ExecuteTime": {
     "end_time": "2018-05-01T01:28:30.955006Z",
     "start_time": "2018-05-01T01:28:30.944978Z"
    }
   },
   "outputs": [
    {
     "data": {
      "text/plain": [
       "60000"
      ]
     },
     "execution_count": 28,
     "metadata": {},
     "output_type": "execute_result"
    }
   ],
   "source": [
    "cat_vars = ['app', 'channel', 'device', 'ip', 'os',\n",
    "       'click_timeYear', 'click_timeMonth', 'click_timeWeek', 'click_timeDay',\n",
    "       'click_timeDayofweek', 'click_timeDayofyear', 'click_timeHour',\n",
    "       'click_timeMinute', 'click_timeSecond', 'click_timeIs_month_end',\n",
    "       'click_timeIs_month_start', 'click_timeIs_quarter_end',\n",
    "       'click_timeIs_quarter_start', 'click_timeIs_year_end',\n",
    "       'click_timeIs_year_start']\n",
    "\n",
    "contin_vars = ['qty', 'ip_app_count',\n",
    "       'ip_app_os_count']\n",
    "\n",
    "n = len(train_df); n"
   ]
  },
  {
   "cell_type": "code",
   "execution_count": 29,
   "metadata": {
    "ExecuteTime": {
     "end_time": "2018-05-01T01:28:30.978590Z",
     "start_time": "2018-05-01T01:28:30.957010Z"
    }
   },
   "outputs": [],
   "source": [
    "dep = 'is_attributed'\n",
    "joined = train_df[cat_vars+contin_vars+[dep]].copy()"
   ]
  },
  {
   "cell_type": "code",
   "execution_count": 30,
   "metadata": {
    "ExecuteTime": {
     "end_time": "2018-05-01T01:28:30.990620Z",
     "start_time": "2018-05-01T01:28:30.985606Z"
    },
    "scrolled": true
   },
   "outputs": [
    {
     "data": {
      "text/plain": [
       "Index(['app', 'channel', 'click_id', 'device', 'ip', 'is_attributed', 'os',\n",
       "       'click_timeYear', 'click_timeMonth', 'click_timeWeek', 'click_timeDay',\n",
       "       'click_timeDayofweek', 'click_timeDayofyear', 'click_timeHour',\n",
       "       'click_timeMinute', 'click_timeSecond', 'click_timeIs_month_end',\n",
       "       'click_timeIs_month_start', 'click_timeIs_quarter_end',\n",
       "       'click_timeIs_quarter_start', 'click_timeIs_year_end',\n",
       "       'click_timeIs_year_start', 'click_timeElapsed', 'qty', 'ip_app_count',\n",
       "       'ip_app_os_count'],\n",
       "      dtype='object')"
      ]
     },
     "execution_count": 30,
     "metadata": {},
     "output_type": "execute_result"
    }
   ],
   "source": [
    "test_df.columns"
   ]
  },
  {
   "cell_type": "code",
   "execution_count": 31,
   "metadata": {
    "ExecuteTime": {
     "end_time": "2018-05-01T01:28:31.076359Z",
     "start_time": "2018-05-01T01:28:30.993129Z"
    }
   },
   "outputs": [],
   "source": [
    "test_df[dep] = 0\n",
    "joined_test = test_df[cat_vars+contin_vars+[dep, 'click_id', 'click_timeElapsed']].copy()"
   ]
  },
  {
   "cell_type": "code",
   "execution_count": 32,
   "metadata": {
    "ExecuteTime": {
     "end_time": "2018-05-01T01:28:31.140533Z",
     "start_time": "2018-05-01T01:28:31.081875Z"
    }
   },
   "outputs": [],
   "source": [
    "for v in cat_vars: joined[v] = joined[v].astype('category').cat.as_ordered()"
   ]
  },
  {
   "cell_type": "code",
   "execution_count": 33,
   "metadata": {
    "ExecuteTime": {
     "end_time": "2018-05-01T01:28:31.167610Z",
     "start_time": "2018-05-01T01:28:31.141536Z"
    },
    "scrolled": true
   },
   "outputs": [
    {
     "name": "stderr",
     "output_type": "stream",
     "text": [
      "C:\\Users\\NokChan\\.kaggle\\competitions\\talkingdata-adtracking-fraud-detection\\fastai\\structured.py:200: RuntimeWarning: None of the categories were found in values. Did you mean to use\n",
      "'Categorical.from_codes(codes, categories)'?\n",
      "  df[n] = pd.Categorical(c, categories=trn[n].cat.categories, ordered=True)\n"
     ]
    }
   ],
   "source": [
    "apply_cats(joined_test, joined)"
   ]
  },
  {
   "cell_type": "code",
   "execution_count": 34,
   "metadata": {
    "ExecuteTime": {
     "end_time": "2018-05-01T01:28:31.225776Z",
     "start_time": "2018-05-01T01:28:31.169612Z"
    }
   },
   "outputs": [
    {
     "data": {
      "text/plain": [
       "app                           0\n",
       "channel                       0\n",
       "device                        0\n",
       "ip                            0\n",
       "os                            0\n",
       "click_timeYear                0\n",
       "click_timeMonth               0\n",
       "click_timeWeek                0\n",
       "click_timeDay                 0\n",
       "click_timeDayofweek           0\n",
       "click_timeDayofyear           0\n",
       "click_timeHour                0\n",
       "click_timeMinute              0\n",
       "click_timeSecond              0\n",
       "click_timeIs_month_end        0\n",
       "click_timeIs_month_start      0\n",
       "click_timeIs_quarter_end      0\n",
       "click_timeIs_quarter_start    0\n",
       "click_timeIs_year_end         0\n",
       "click_timeIs_year_start       0\n",
       "qty                           0\n",
       "ip_app_count                  0\n",
       "ip_app_os_count               0\n",
       "is_attributed                 0\n",
       "dtype: int64"
      ]
     },
     "execution_count": 34,
     "metadata": {},
     "output_type": "execute_result"
    }
   ],
   "source": [
    "(joined=='NaN').sum()"
   ]
  },
  {
   "cell_type": "code",
   "execution_count": 35,
   "metadata": {
    "ExecuteTime": {
     "end_time": "2018-05-01T01:28:31.238810Z",
     "start_time": "2018-05-01T01:28:31.227781Z"
    }
   },
   "outputs": [],
   "source": [
    "for v in contin_vars:\n",
    "    joined[v] = joined[v].astype('float32')\n",
    "    joined_test[v] = joined_test[v].astype('float32')"
   ]
  },
  {
   "cell_type": "code",
   "execution_count": 36,
   "metadata": {
    "ExecuteTime": {
     "end_time": "2018-05-01T01:28:31.333935Z",
     "start_time": "2018-05-01T01:28:31.240815Z"
    }
   },
   "outputs": [
    {
     "name": "stderr",
     "output_type": "stream",
     "text": [
      "C:\\Users\\NokChan\\Anaconda3\\envs\\fastai\\lib\\site-packages\\ipykernel_launcher.py:2: RuntimeWarning: divide by zero encountered in log\n",
      "  \n"
     ]
    }
   ],
   "source": [
    "df, y, nas, mapper = proc_df(joined, 'is_attributed', do_scale=True)\n",
    "yl = np.log(y)"
   ]
  },
  {
   "cell_type": "code",
   "execution_count": 37,
   "metadata": {
    "ExecuteTime": {
     "end_time": "2018-05-01T01:28:31.342959Z",
     "start_time": "2018-05-01T01:28:31.335940Z"
    }
   },
   "outputs": [],
   "source": [
    "joined_test = joined_test.set_index(\"click_timeElapsed\")"
   ]
  },
  {
   "cell_type": "code",
   "execution_count": 38,
   "metadata": {
    "ExecuteTime": {
     "end_time": "2018-05-01T01:28:31.394099Z",
     "start_time": "2018-05-01T01:28:31.344964Z"
    }
   },
   "outputs": [
    {
     "data": {
      "text/html": [
       "<div>\n",
       "<style scoped>\n",
       "    .dataframe tbody tr th:only-of-type {\n",
       "        vertical-align: middle;\n",
       "    }\n",
       "\n",
       "    .dataframe tbody tr th {\n",
       "        vertical-align: top;\n",
       "    }\n",
       "\n",
       "    .dataframe thead th {\n",
       "        text-align: right;\n",
       "    }\n",
       "</style>\n",
       "<table border=\"1\" class=\"dataframe\">\n",
       "  <thead>\n",
       "    <tr style=\"text-align: right;\">\n",
       "      <th></th>\n",
       "      <th>app</th>\n",
       "      <th>channel</th>\n",
       "      <th>device</th>\n",
       "      <th>ip</th>\n",
       "      <th>os</th>\n",
       "      <th>click_timeYear</th>\n",
       "      <th>click_timeMonth</th>\n",
       "      <th>click_timeWeek</th>\n",
       "      <th>click_timeDay</th>\n",
       "      <th>click_timeDayofweek</th>\n",
       "      <th>click_timeDayofyear</th>\n",
       "      <th>click_timeHour</th>\n",
       "      <th>click_timeMinute</th>\n",
       "      <th>click_timeSecond</th>\n",
       "      <th>click_timeIs_month_end</th>\n",
       "      <th>click_timeIs_month_start</th>\n",
       "      <th>click_timeIs_quarter_end</th>\n",
       "      <th>click_timeIs_quarter_start</th>\n",
       "      <th>click_timeIs_year_end</th>\n",
       "      <th>click_timeIs_year_start</th>\n",
       "      <th>qty</th>\n",
       "      <th>ip_app_count</th>\n",
       "      <th>ip_app_os_count</th>\n",
       "      <th>is_attributed</th>\n",
       "      <th>click_id</th>\n",
       "    </tr>\n",
       "    <tr>\n",
       "      <th>click_timeElapsed</th>\n",
       "      <th></th>\n",
       "      <th></th>\n",
       "      <th></th>\n",
       "      <th></th>\n",
       "      <th></th>\n",
       "      <th></th>\n",
       "      <th></th>\n",
       "      <th></th>\n",
       "      <th></th>\n",
       "      <th></th>\n",
       "      <th></th>\n",
       "      <th></th>\n",
       "      <th></th>\n",
       "      <th></th>\n",
       "      <th></th>\n",
       "      <th></th>\n",
       "      <th></th>\n",
       "      <th></th>\n",
       "      <th></th>\n",
       "      <th></th>\n",
       "      <th></th>\n",
       "      <th></th>\n",
       "      <th></th>\n",
       "      <th></th>\n",
       "      <th></th>\n",
       "    </tr>\n",
       "  </thead>\n",
       "  <tbody>\n",
       "    <tr>\n",
       "      <th>1510286400</th>\n",
       "      <td>9</td>\n",
       "      <td>107</td>\n",
       "      <td>1</td>\n",
       "      <td>NaN</td>\n",
       "      <td>3</td>\n",
       "      <td>2017</td>\n",
       "      <td>11</td>\n",
       "      <td>45</td>\n",
       "      <td>NaN</td>\n",
       "      <td>NaN</td>\n",
       "      <td>NaN</td>\n",
       "      <td>4</td>\n",
       "      <td>0</td>\n",
       "      <td>0</td>\n",
       "      <td>False</td>\n",
       "      <td>False</td>\n",
       "      <td>False</td>\n",
       "      <td>False</td>\n",
       "      <td>False</td>\n",
       "      <td>False</td>\n",
       "      <td>1.0</td>\n",
       "      <td>1.0</td>\n",
       "      <td>1.0</td>\n",
       "      <td>0</td>\n",
       "      <td>0.0</td>\n",
       "    </tr>\n",
       "    <tr>\n",
       "      <th>1510286400</th>\n",
       "      <td>9</td>\n",
       "      <td>466</td>\n",
       "      <td>1</td>\n",
       "      <td>119901.0</td>\n",
       "      <td>3</td>\n",
       "      <td>2017</td>\n",
       "      <td>11</td>\n",
       "      <td>45</td>\n",
       "      <td>NaN</td>\n",
       "      <td>NaN</td>\n",
       "      <td>NaN</td>\n",
       "      <td>4</td>\n",
       "      <td>0</td>\n",
       "      <td>0</td>\n",
       "      <td>False</td>\n",
       "      <td>False</td>\n",
       "      <td>False</td>\n",
       "      <td>False</td>\n",
       "      <td>False</td>\n",
       "      <td>False</td>\n",
       "      <td>2.0</td>\n",
       "      <td>4.0</td>\n",
       "      <td>1.0</td>\n",
       "      <td>0</td>\n",
       "      <td>1.0</td>\n",
       "    </tr>\n",
       "    <tr>\n",
       "      <th>1510286400</th>\n",
       "      <td>21</td>\n",
       "      <td>128</td>\n",
       "      <td>1</td>\n",
       "      <td>72287.0</td>\n",
       "      <td>19</td>\n",
       "      <td>2017</td>\n",
       "      <td>11</td>\n",
       "      <td>45</td>\n",
       "      <td>NaN</td>\n",
       "      <td>NaN</td>\n",
       "      <td>NaN</td>\n",
       "      <td>4</td>\n",
       "      <td>0</td>\n",
       "      <td>0</td>\n",
       "      <td>False</td>\n",
       "      <td>False</td>\n",
       "      <td>False</td>\n",
       "      <td>False</td>\n",
       "      <td>False</td>\n",
       "      <td>False</td>\n",
       "      <td>1.0</td>\n",
       "      <td>1.0</td>\n",
       "      <td>1.0</td>\n",
       "      <td>0</td>\n",
       "      <td>2.0</td>\n",
       "    </tr>\n",
       "    <tr>\n",
       "      <th>1510286400</th>\n",
       "      <td>15</td>\n",
       "      <td>111</td>\n",
       "      <td>1</td>\n",
       "      <td>78477.0</td>\n",
       "      <td>13</td>\n",
       "      <td>2017</td>\n",
       "      <td>11</td>\n",
       "      <td>45</td>\n",
       "      <td>NaN</td>\n",
       "      <td>NaN</td>\n",
       "      <td>NaN</td>\n",
       "      <td>4</td>\n",
       "      <td>0</td>\n",
       "      <td>0</td>\n",
       "      <td>False</td>\n",
       "      <td>False</td>\n",
       "      <td>False</td>\n",
       "      <td>False</td>\n",
       "      <td>False</td>\n",
       "      <td>False</td>\n",
       "      <td>1.0</td>\n",
       "      <td>1.0</td>\n",
       "      <td>1.0</td>\n",
       "      <td>0</td>\n",
       "      <td>3.0</td>\n",
       "    </tr>\n",
       "    <tr>\n",
       "      <th>1510286400</th>\n",
       "      <td>12</td>\n",
       "      <td>328</td>\n",
       "      <td>1</td>\n",
       "      <td>NaN</td>\n",
       "      <td>13</td>\n",
       "      <td>2017</td>\n",
       "      <td>11</td>\n",
       "      <td>45</td>\n",
       "      <td>NaN</td>\n",
       "      <td>NaN</td>\n",
       "      <td>NaN</td>\n",
       "      <td>4</td>\n",
       "      <td>0</td>\n",
       "      <td>0</td>\n",
       "      <td>False</td>\n",
       "      <td>False</td>\n",
       "      <td>False</td>\n",
       "      <td>False</td>\n",
       "      <td>False</td>\n",
       "      <td>False</td>\n",
       "      <td>1.0</td>\n",
       "      <td>1.0</td>\n",
       "      <td>1.0</td>\n",
       "      <td>0</td>\n",
       "      <td>4.0</td>\n",
       "    </tr>\n",
       "  </tbody>\n",
       "</table>\n",
       "</div>"
      ],
      "text/plain": [
       "                  app channel device        ip  os click_timeYear  \\\n",
       "click_timeElapsed                                                   \n",
       "1510286400          9     107      1       NaN   3           2017   \n",
       "1510286400          9     466      1  119901.0   3           2017   \n",
       "1510286400         21     128      1   72287.0  19           2017   \n",
       "1510286400         15     111      1   78477.0  13           2017   \n",
       "1510286400         12     328      1       NaN  13           2017   \n",
       "\n",
       "                  click_timeMonth click_timeWeek click_timeDay  \\\n",
       "click_timeElapsed                                                \n",
       "1510286400                     11             45           NaN   \n",
       "1510286400                     11             45           NaN   \n",
       "1510286400                     11             45           NaN   \n",
       "1510286400                     11             45           NaN   \n",
       "1510286400                     11             45           NaN   \n",
       "\n",
       "                  click_timeDayofweek click_timeDayofyear click_timeHour  \\\n",
       "click_timeElapsed                                                          \n",
       "1510286400                        NaN                 NaN              4   \n",
       "1510286400                        NaN                 NaN              4   \n",
       "1510286400                        NaN                 NaN              4   \n",
       "1510286400                        NaN                 NaN              4   \n",
       "1510286400                        NaN                 NaN              4   \n",
       "\n",
       "                  click_timeMinute click_timeSecond click_timeIs_month_end  \\\n",
       "click_timeElapsed                                                            \n",
       "1510286400                       0                0                  False   \n",
       "1510286400                       0                0                  False   \n",
       "1510286400                       0                0                  False   \n",
       "1510286400                       0                0                  False   \n",
       "1510286400                       0                0                  False   \n",
       "\n",
       "                  click_timeIs_month_start click_timeIs_quarter_end  \\\n",
       "click_timeElapsed                                                     \n",
       "1510286400                           False                    False   \n",
       "1510286400                           False                    False   \n",
       "1510286400                           False                    False   \n",
       "1510286400                           False                    False   \n",
       "1510286400                           False                    False   \n",
       "\n",
       "                  click_timeIs_quarter_start click_timeIs_year_end  \\\n",
       "click_timeElapsed                                                    \n",
       "1510286400                             False                 False   \n",
       "1510286400                             False                 False   \n",
       "1510286400                             False                 False   \n",
       "1510286400                             False                 False   \n",
       "1510286400                             False                 False   \n",
       "\n",
       "                  click_timeIs_year_start  qty  ip_app_count  ip_app_os_count  \\\n",
       "click_timeElapsed                                                               \n",
       "1510286400                          False  1.0           1.0              1.0   \n",
       "1510286400                          False  2.0           4.0              1.0   \n",
       "1510286400                          False  1.0           1.0              1.0   \n",
       "1510286400                          False  1.0           1.0              1.0   \n",
       "1510286400                          False  1.0           1.0              1.0   \n",
       "\n",
       "                   is_attributed  click_id  \n",
       "click_timeElapsed                           \n",
       "1510286400                     0       0.0  \n",
       "1510286400                     0       1.0  \n",
       "1510286400                     0       2.0  \n",
       "1510286400                     0       3.0  \n",
       "1510286400                     0       4.0  "
      ]
     },
     "execution_count": 38,
     "metadata": {},
     "output_type": "execute_result"
    }
   ],
   "source": [
    "joined_test.head()"
   ]
  },
  {
   "cell_type": "code",
   "execution_count": 39,
   "metadata": {
    "ExecuteTime": {
     "end_time": "2018-05-01T01:28:31.440220Z",
     "start_time": "2018-05-01T01:28:31.396105Z"
    }
   },
   "outputs": [],
   "source": [
    "df_test, _, nas, mapper = proc_df(joined_test, 'is_attributed', do_scale=True, skip_flds=['click_id'],\n",
    "                                  mapper=mapper, na_dict=nas)"
   ]
  },
  {
   "cell_type": "markdown",
   "metadata": {
    "_cell_guid": "7f8d4cb4-f330-4039-8182-ca9b9a9f7d9f",
    "_uuid": "336d3ff25b38918de7d617a902bed6331d0a40db",
    "collapsed": true
   },
   "source": [
    "## DL"
   ]
  },
  {
   "cell_type": "code",
   "execution_count": 40,
   "metadata": {
    "ExecuteTime": {
     "end_time": "2018-05-01T01:28:31.447240Z",
     "start_time": "2018-05-01T01:28:31.444231Z"
    }
   },
   "outputs": [],
   "source": [
    "import pandas_summary"
   ]
  },
  {
   "cell_type": "code",
   "execution_count": 41,
   "metadata": {
    "ExecuteTime": {
     "end_time": "2018-05-01T01:28:31.534475Z",
     "start_time": "2018-05-01T01:28:31.450247Z"
    }
   },
   "outputs": [
    {
     "data": {
      "text/html": [
       "<div>\n",
       "<style scoped>\n",
       "    .dataframe tbody tr th:only-of-type {\n",
       "        vertical-align: middle;\n",
       "    }\n",
       "\n",
       "    .dataframe tbody tr th {\n",
       "        vertical-align: top;\n",
       "    }\n",
       "\n",
       "    .dataframe thead th {\n",
       "        text-align: right;\n",
       "    }\n",
       "</style>\n",
       "<table border=\"1\" class=\"dataframe\">\n",
       "  <thead>\n",
       "    <tr style=\"text-align: right;\">\n",
       "      <th></th>\n",
       "      <th>app</th>\n",
       "      <th>channel</th>\n",
       "      <th>device</th>\n",
       "      <th>ip</th>\n",
       "      <th>os</th>\n",
       "      <th>click_timeYear</th>\n",
       "      <th>click_timeMonth</th>\n",
       "      <th>click_timeWeek</th>\n",
       "      <th>click_timeDay</th>\n",
       "      <th>click_timeDayofweek</th>\n",
       "      <th>click_timeDayofyear</th>\n",
       "      <th>click_timeHour</th>\n",
       "      <th>click_timeMinute</th>\n",
       "      <th>click_timeSecond</th>\n",
       "      <th>click_timeIs_month_end</th>\n",
       "      <th>click_timeIs_month_start</th>\n",
       "      <th>click_timeIs_quarter_end</th>\n",
       "      <th>click_timeIs_quarter_start</th>\n",
       "      <th>click_timeIs_year_end</th>\n",
       "      <th>click_timeIs_year_start</th>\n",
       "      <th>qty</th>\n",
       "      <th>ip_app_count</th>\n",
       "      <th>ip_app_os_count</th>\n",
       "      <th>is_attributed</th>\n",
       "      <th>click_id</th>\n",
       "    </tr>\n",
       "  </thead>\n",
       "  <tbody>\n",
       "    <tr>\n",
       "      <th>count</th>\n",
       "      <td>NaN</td>\n",
       "      <td>NaN</td>\n",
       "      <td>NaN</td>\n",
       "      <td>NaN</td>\n",
       "      <td>NaN</td>\n",
       "      <td>NaN</td>\n",
       "      <td>NaN</td>\n",
       "      <td>NaN</td>\n",
       "      <td>NaN</td>\n",
       "      <td>NaN</td>\n",
       "      <td>NaN</td>\n",
       "      <td>NaN</td>\n",
       "      <td>NaN</td>\n",
       "      <td>NaN</td>\n",
       "      <td>NaN</td>\n",
       "      <td>NaN</td>\n",
       "      <td>NaN</td>\n",
       "      <td>NaN</td>\n",
       "      <td>NaN</td>\n",
       "      <td>NaN</td>\n",
       "      <td>1000</td>\n",
       "      <td>1000</td>\n",
       "      <td>1000</td>\n",
       "      <td>1000</td>\n",
       "      <td>1000</td>\n",
       "    </tr>\n",
       "    <tr>\n",
       "      <th>mean</th>\n",
       "      <td>NaN</td>\n",
       "      <td>NaN</td>\n",
       "      <td>NaN</td>\n",
       "      <td>NaN</td>\n",
       "      <td>NaN</td>\n",
       "      <td>NaN</td>\n",
       "      <td>NaN</td>\n",
       "      <td>NaN</td>\n",
       "      <td>NaN</td>\n",
       "      <td>NaN</td>\n",
       "      <td>NaN</td>\n",
       "      <td>NaN</td>\n",
       "      <td>NaN</td>\n",
       "      <td>NaN</td>\n",
       "      <td>NaN</td>\n",
       "      <td>NaN</td>\n",
       "      <td>NaN</td>\n",
       "      <td>NaN</td>\n",
       "      <td>NaN</td>\n",
       "      <td>NaN</td>\n",
       "      <td>1.858</td>\n",
       "      <td>2.27</td>\n",
       "      <td>1.213</td>\n",
       "      <td>0</td>\n",
       "      <td>499.5</td>\n",
       "    </tr>\n",
       "    <tr>\n",
       "      <th>std</th>\n",
       "      <td>NaN</td>\n",
       "      <td>NaN</td>\n",
       "      <td>NaN</td>\n",
       "      <td>NaN</td>\n",
       "      <td>NaN</td>\n",
       "      <td>NaN</td>\n",
       "      <td>NaN</td>\n",
       "      <td>NaN</td>\n",
       "      <td>NaN</td>\n",
       "      <td>NaN</td>\n",
       "      <td>NaN</td>\n",
       "      <td>NaN</td>\n",
       "      <td>NaN</td>\n",
       "      <td>NaN</td>\n",
       "      <td>NaN</td>\n",
       "      <td>NaN</td>\n",
       "      <td>NaN</td>\n",
       "      <td>NaN</td>\n",
       "      <td>NaN</td>\n",
       "      <td>NaN</td>\n",
       "      <td>1.41698</td>\n",
       "      <td>5.98121</td>\n",
       "      <td>0.82481</td>\n",
       "      <td>0</td>\n",
       "      <td>288.819</td>\n",
       "    </tr>\n",
       "    <tr>\n",
       "      <th>min</th>\n",
       "      <td>NaN</td>\n",
       "      <td>NaN</td>\n",
       "      <td>NaN</td>\n",
       "      <td>NaN</td>\n",
       "      <td>NaN</td>\n",
       "      <td>NaN</td>\n",
       "      <td>NaN</td>\n",
       "      <td>NaN</td>\n",
       "      <td>NaN</td>\n",
       "      <td>NaN</td>\n",
       "      <td>NaN</td>\n",
       "      <td>NaN</td>\n",
       "      <td>NaN</td>\n",
       "      <td>NaN</td>\n",
       "      <td>NaN</td>\n",
       "      <td>NaN</td>\n",
       "      <td>NaN</td>\n",
       "      <td>NaN</td>\n",
       "      <td>NaN</td>\n",
       "      <td>NaN</td>\n",
       "      <td>1</td>\n",
       "      <td>1</td>\n",
       "      <td>1</td>\n",
       "      <td>0</td>\n",
       "      <td>0</td>\n",
       "    </tr>\n",
       "    <tr>\n",
       "      <th>25%</th>\n",
       "      <td>NaN</td>\n",
       "      <td>NaN</td>\n",
       "      <td>NaN</td>\n",
       "      <td>NaN</td>\n",
       "      <td>NaN</td>\n",
       "      <td>NaN</td>\n",
       "      <td>NaN</td>\n",
       "      <td>NaN</td>\n",
       "      <td>NaN</td>\n",
       "      <td>NaN</td>\n",
       "      <td>NaN</td>\n",
       "      <td>NaN</td>\n",
       "      <td>NaN</td>\n",
       "      <td>NaN</td>\n",
       "      <td>NaN</td>\n",
       "      <td>NaN</td>\n",
       "      <td>NaN</td>\n",
       "      <td>NaN</td>\n",
       "      <td>NaN</td>\n",
       "      <td>NaN</td>\n",
       "      <td>1</td>\n",
       "      <td>1</td>\n",
       "      <td>1</td>\n",
       "      <td>0</td>\n",
       "      <td>249.75</td>\n",
       "    </tr>\n",
       "    <tr>\n",
       "      <th>50%</th>\n",
       "      <td>NaN</td>\n",
       "      <td>NaN</td>\n",
       "      <td>NaN</td>\n",
       "      <td>NaN</td>\n",
       "      <td>NaN</td>\n",
       "      <td>NaN</td>\n",
       "      <td>NaN</td>\n",
       "      <td>NaN</td>\n",
       "      <td>NaN</td>\n",
       "      <td>NaN</td>\n",
       "      <td>NaN</td>\n",
       "      <td>NaN</td>\n",
       "      <td>NaN</td>\n",
       "      <td>NaN</td>\n",
       "      <td>NaN</td>\n",
       "      <td>NaN</td>\n",
       "      <td>NaN</td>\n",
       "      <td>NaN</td>\n",
       "      <td>NaN</td>\n",
       "      <td>NaN</td>\n",
       "      <td>1</td>\n",
       "      <td>1</td>\n",
       "      <td>1</td>\n",
       "      <td>0</td>\n",
       "      <td>499.5</td>\n",
       "    </tr>\n",
       "    <tr>\n",
       "      <th>75%</th>\n",
       "      <td>NaN</td>\n",
       "      <td>NaN</td>\n",
       "      <td>NaN</td>\n",
       "      <td>NaN</td>\n",
       "      <td>NaN</td>\n",
       "      <td>NaN</td>\n",
       "      <td>NaN</td>\n",
       "      <td>NaN</td>\n",
       "      <td>NaN</td>\n",
       "      <td>NaN</td>\n",
       "      <td>NaN</td>\n",
       "      <td>NaN</td>\n",
       "      <td>NaN</td>\n",
       "      <td>NaN</td>\n",
       "      <td>NaN</td>\n",
       "      <td>NaN</td>\n",
       "      <td>NaN</td>\n",
       "      <td>NaN</td>\n",
       "      <td>NaN</td>\n",
       "      <td>NaN</td>\n",
       "      <td>2</td>\n",
       "      <td>2</td>\n",
       "      <td>1</td>\n",
       "      <td>0</td>\n",
       "      <td>749.25</td>\n",
       "    </tr>\n",
       "    <tr>\n",
       "      <th>max</th>\n",
       "      <td>NaN</td>\n",
       "      <td>NaN</td>\n",
       "      <td>NaN</td>\n",
       "      <td>NaN</td>\n",
       "      <td>NaN</td>\n",
       "      <td>NaN</td>\n",
       "      <td>NaN</td>\n",
       "      <td>NaN</td>\n",
       "      <td>NaN</td>\n",
       "      <td>NaN</td>\n",
       "      <td>NaN</td>\n",
       "      <td>NaN</td>\n",
       "      <td>NaN</td>\n",
       "      <td>NaN</td>\n",
       "      <td>NaN</td>\n",
       "      <td>NaN</td>\n",
       "      <td>NaN</td>\n",
       "      <td>NaN</td>\n",
       "      <td>NaN</td>\n",
       "      <td>NaN</td>\n",
       "      <td>8</td>\n",
       "      <td>104</td>\n",
       "      <td>18</td>\n",
       "      <td>0</td>\n",
       "      <td>999</td>\n",
       "    </tr>\n",
       "    <tr>\n",
       "      <th>counts</th>\n",
       "      <td>1000</td>\n",
       "      <td>1000</td>\n",
       "      <td>999</td>\n",
       "      <td>694</td>\n",
       "      <td>999</td>\n",
       "      <td>1000</td>\n",
       "      <td>1000</td>\n",
       "      <td>1000</td>\n",
       "      <td>0</td>\n",
       "      <td>0</td>\n",
       "      <td>0</td>\n",
       "      <td>1000</td>\n",
       "      <td>1000</td>\n",
       "      <td>1000</td>\n",
       "      <td>1000</td>\n",
       "      <td>1000</td>\n",
       "      <td>1000</td>\n",
       "      <td>1000</td>\n",
       "      <td>1000</td>\n",
       "      <td>1000</td>\n",
       "      <td>1000</td>\n",
       "      <td>1000</td>\n",
       "      <td>1000</td>\n",
       "      <td>1000</td>\n",
       "      <td>1000</td>\n",
       "    </tr>\n",
       "    <tr>\n",
       "      <th>uniques</th>\n",
       "      <td>33</td>\n",
       "      <td>85</td>\n",
       "      <td>4</td>\n",
       "      <td>497</td>\n",
       "      <td>52</td>\n",
       "      <td>1</td>\n",
       "      <td>1</td>\n",
       "      <td>1</td>\n",
       "      <td>0</td>\n",
       "      <td>0</td>\n",
       "      <td>0</td>\n",
       "      <td>1</td>\n",
       "      <td>1</td>\n",
       "      <td>2</td>\n",
       "      <td>1</td>\n",
       "      <td>1</td>\n",
       "      <td>1</td>\n",
       "      <td>1</td>\n",
       "      <td>1</td>\n",
       "      <td>1</td>\n",
       "      <td>8</td>\n",
       "      <td>26</td>\n",
       "      <td>8</td>\n",
       "      <td>1</td>\n",
       "      <td>1000</td>\n",
       "    </tr>\n",
       "    <tr>\n",
       "      <th>missing</th>\n",
       "      <td>0</td>\n",
       "      <td>0</td>\n",
       "      <td>1</td>\n",
       "      <td>306</td>\n",
       "      <td>1</td>\n",
       "      <td>0</td>\n",
       "      <td>0</td>\n",
       "      <td>0</td>\n",
       "      <td>1000</td>\n",
       "      <td>1000</td>\n",
       "      <td>1000</td>\n",
       "      <td>0</td>\n",
       "      <td>0</td>\n",
       "      <td>0</td>\n",
       "      <td>0</td>\n",
       "      <td>0</td>\n",
       "      <td>0</td>\n",
       "      <td>0</td>\n",
       "      <td>0</td>\n",
       "      <td>0</td>\n",
       "      <td>0</td>\n",
       "      <td>0</td>\n",
       "      <td>0</td>\n",
       "      <td>0</td>\n",
       "      <td>0</td>\n",
       "    </tr>\n",
       "    <tr>\n",
       "      <th>missing_perc</th>\n",
       "      <td>0%</td>\n",
       "      <td>0%</td>\n",
       "      <td>0.10%</td>\n",
       "      <td>30.60%</td>\n",
       "      <td>0.10%</td>\n",
       "      <td>0%</td>\n",
       "      <td>0%</td>\n",
       "      <td>0%</td>\n",
       "      <td>100%</td>\n",
       "      <td>100%</td>\n",
       "      <td>100%</td>\n",
       "      <td>0%</td>\n",
       "      <td>0%</td>\n",
       "      <td>0%</td>\n",
       "      <td>0%</td>\n",
       "      <td>0%</td>\n",
       "      <td>0%</td>\n",
       "      <td>0%</td>\n",
       "      <td>0%</td>\n",
       "      <td>0%</td>\n",
       "      <td>0%</td>\n",
       "      <td>0%</td>\n",
       "      <td>0%</td>\n",
       "      <td>0%</td>\n",
       "      <td>0%</td>\n",
       "    </tr>\n",
       "    <tr>\n",
       "      <th>types</th>\n",
       "      <td>categorical</td>\n",
       "      <td>categorical</td>\n",
       "      <td>categorical</td>\n",
       "      <td>categorical</td>\n",
       "      <td>categorical</td>\n",
       "      <td>constant</td>\n",
       "      <td>constant</td>\n",
       "      <td>constant</td>\n",
       "      <td>unique</td>\n",
       "      <td>unique</td>\n",
       "      <td>unique</td>\n",
       "      <td>constant</td>\n",
       "      <td>constant</td>\n",
       "      <td>bool</td>\n",
       "      <td>constant</td>\n",
       "      <td>constant</td>\n",
       "      <td>constant</td>\n",
       "      <td>constant</td>\n",
       "      <td>constant</td>\n",
       "      <td>constant</td>\n",
       "      <td>numeric</td>\n",
       "      <td>numeric</td>\n",
       "      <td>numeric</td>\n",
       "      <td>constant</td>\n",
       "      <td>numeric</td>\n",
       "    </tr>\n",
       "  </tbody>\n",
       "</table>\n",
       "</div>"
      ],
      "text/plain": [
       "                      app      channel       device           ip           os  \\\n",
       "count                 NaN          NaN          NaN          NaN          NaN   \n",
       "mean                  NaN          NaN          NaN          NaN          NaN   \n",
       "std                   NaN          NaN          NaN          NaN          NaN   \n",
       "min                   NaN          NaN          NaN          NaN          NaN   \n",
       "25%                   NaN          NaN          NaN          NaN          NaN   \n",
       "50%                   NaN          NaN          NaN          NaN          NaN   \n",
       "75%                   NaN          NaN          NaN          NaN          NaN   \n",
       "max                   NaN          NaN          NaN          NaN          NaN   \n",
       "counts               1000         1000          999          694          999   \n",
       "uniques                33           85            4          497           52   \n",
       "missing                 0            0            1          306            1   \n",
       "missing_perc           0%           0%        0.10%       30.60%        0.10%   \n",
       "types         categorical  categorical  categorical  categorical  categorical   \n",
       "\n",
       "             click_timeYear click_timeMonth click_timeWeek click_timeDay  \\\n",
       "count                   NaN             NaN            NaN           NaN   \n",
       "mean                    NaN             NaN            NaN           NaN   \n",
       "std                     NaN             NaN            NaN           NaN   \n",
       "min                     NaN             NaN            NaN           NaN   \n",
       "25%                     NaN             NaN            NaN           NaN   \n",
       "50%                     NaN             NaN            NaN           NaN   \n",
       "75%                     NaN             NaN            NaN           NaN   \n",
       "max                     NaN             NaN            NaN           NaN   \n",
       "counts                 1000            1000           1000             0   \n",
       "uniques                   1               1              1             0   \n",
       "missing                   0               0              0          1000   \n",
       "missing_perc             0%              0%             0%          100%   \n",
       "types              constant        constant       constant        unique   \n",
       "\n",
       "             click_timeDayofweek click_timeDayofyear click_timeHour  \\\n",
       "count                        NaN                 NaN            NaN   \n",
       "mean                         NaN                 NaN            NaN   \n",
       "std                          NaN                 NaN            NaN   \n",
       "min                          NaN                 NaN            NaN   \n",
       "25%                          NaN                 NaN            NaN   \n",
       "50%                          NaN                 NaN            NaN   \n",
       "75%                          NaN                 NaN            NaN   \n",
       "max                          NaN                 NaN            NaN   \n",
       "counts                         0                   0           1000   \n",
       "uniques                        0                   0              1   \n",
       "missing                     1000                1000              0   \n",
       "missing_perc                100%                100%             0%   \n",
       "types                     unique              unique       constant   \n",
       "\n",
       "             click_timeMinute click_timeSecond click_timeIs_month_end  \\\n",
       "count                     NaN              NaN                    NaN   \n",
       "mean                      NaN              NaN                    NaN   \n",
       "std                       NaN              NaN                    NaN   \n",
       "min                       NaN              NaN                    NaN   \n",
       "25%                       NaN              NaN                    NaN   \n",
       "50%                       NaN              NaN                    NaN   \n",
       "75%                       NaN              NaN                    NaN   \n",
       "max                       NaN              NaN                    NaN   \n",
       "counts                   1000             1000                   1000   \n",
       "uniques                     1                2                      1   \n",
       "missing                     0                0                      0   \n",
       "missing_perc               0%               0%                     0%   \n",
       "types                constant             bool               constant   \n",
       "\n",
       "             click_timeIs_month_start click_timeIs_quarter_end  \\\n",
       "count                             NaN                      NaN   \n",
       "mean                              NaN                      NaN   \n",
       "std                               NaN                      NaN   \n",
       "min                               NaN                      NaN   \n",
       "25%                               NaN                      NaN   \n",
       "50%                               NaN                      NaN   \n",
       "75%                               NaN                      NaN   \n",
       "max                               NaN                      NaN   \n",
       "counts                           1000                     1000   \n",
       "uniques                             1                        1   \n",
       "missing                             0                        0   \n",
       "missing_perc                       0%                       0%   \n",
       "types                        constant                 constant   \n",
       "\n",
       "             click_timeIs_quarter_start click_timeIs_year_end  \\\n",
       "count                               NaN                   NaN   \n",
       "mean                                NaN                   NaN   \n",
       "std                                 NaN                   NaN   \n",
       "min                                 NaN                   NaN   \n",
       "25%                                 NaN                   NaN   \n",
       "50%                                 NaN                   NaN   \n",
       "75%                                 NaN                   NaN   \n",
       "max                                 NaN                   NaN   \n",
       "counts                             1000                  1000   \n",
       "uniques                               1                     1   \n",
       "missing                               0                     0   \n",
       "missing_perc                         0%                    0%   \n",
       "types                          constant              constant   \n",
       "\n",
       "             click_timeIs_year_start      qty ip_app_count ip_app_os_count  \\\n",
       "count                            NaN     1000         1000            1000   \n",
       "mean                             NaN    1.858         2.27           1.213   \n",
       "std                              NaN  1.41698      5.98121         0.82481   \n",
       "min                              NaN        1            1               1   \n",
       "25%                              NaN        1            1               1   \n",
       "50%                              NaN        1            1               1   \n",
       "75%                              NaN        2            2               1   \n",
       "max                              NaN        8          104              18   \n",
       "counts                          1000     1000         1000            1000   \n",
       "uniques                            1        8           26               8   \n",
       "missing                            0        0            0               0   \n",
       "missing_perc                      0%       0%           0%              0%   \n",
       "types                       constant  numeric      numeric         numeric   \n",
       "\n",
       "             is_attributed click_id  \n",
       "count                 1000     1000  \n",
       "mean                     0    499.5  \n",
       "std                      0  288.819  \n",
       "min                      0        0  \n",
       "25%                      0   249.75  \n",
       "50%                      0    499.5  \n",
       "75%                      0   749.25  \n",
       "max                      0      999  \n",
       "counts                1000     1000  \n",
       "uniques                  1     1000  \n",
       "missing                  0        0  \n",
       "missing_perc            0%       0%  \n",
       "types             constant  numeric  "
      ]
     },
     "execution_count": 41,
     "metadata": {},
     "output_type": "execute_result"
    }
   ],
   "source": [
    "pandas_summary.DataFrameSummary(joined_test).summary()"
   ]
  },
  {
   "cell_type": "code",
   "execution_count": 42,
   "metadata": {
    "ExecuteTime": {
     "end_time": "2018-05-01T01:28:31.581105Z",
     "start_time": "2018-05-01T01:28:31.536480Z"
    }
   },
   "outputs": [
    {
     "data": {
      "text/html": [
       "<div>\n",
       "<style scoped>\n",
       "    .dataframe tbody tr th:only-of-type {\n",
       "        vertical-align: middle;\n",
       "    }\n",
       "\n",
       "    .dataframe tbody tr th {\n",
       "        vertical-align: top;\n",
       "    }\n",
       "\n",
       "    .dataframe thead th {\n",
       "        text-align: right;\n",
       "    }\n",
       "</style>\n",
       "<table border=\"1\" class=\"dataframe\">\n",
       "  <thead>\n",
       "    <tr style=\"text-align: right;\">\n",
       "      <th></th>\n",
       "      <th>app</th>\n",
       "      <th>channel</th>\n",
       "      <th>device</th>\n",
       "      <th>ip</th>\n",
       "      <th>os</th>\n",
       "      <th>click_timeYear</th>\n",
       "      <th>click_timeMonth</th>\n",
       "      <th>click_timeWeek</th>\n",
       "      <th>click_timeDay</th>\n",
       "      <th>click_timeDayofweek</th>\n",
       "      <th>click_timeDayofyear</th>\n",
       "      <th>click_timeHour</th>\n",
       "      <th>click_timeMinute</th>\n",
       "      <th>click_timeSecond</th>\n",
       "      <th>click_timeIs_month_end</th>\n",
       "      <th>click_timeIs_month_start</th>\n",
       "      <th>click_timeIs_quarter_end</th>\n",
       "      <th>click_timeIs_quarter_start</th>\n",
       "      <th>click_timeIs_year_end</th>\n",
       "      <th>click_timeIs_year_start</th>\n",
       "      <th>qty</th>\n",
       "      <th>ip_app_count</th>\n",
       "      <th>ip_app_os_count</th>\n",
       "      <th>is_attributed</th>\n",
       "    </tr>\n",
       "  </thead>\n",
       "  <tbody>\n",
       "    <tr>\n",
       "      <th>0</th>\n",
       "      <td>12</td>\n",
       "      <td>497</td>\n",
       "      <td>1</td>\n",
       "      <td>87540</td>\n",
       "      <td>13</td>\n",
       "      <td>2017</td>\n",
       "      <td>11</td>\n",
       "      <td>45</td>\n",
       "      <td>7</td>\n",
       "      <td>1</td>\n",
       "      <td>311</td>\n",
       "      <td>9</td>\n",
       "      <td>30</td>\n",
       "      <td>38</td>\n",
       "      <td>False</td>\n",
       "      <td>False</td>\n",
       "      <td>False</td>\n",
       "      <td>False</td>\n",
       "      <td>False</td>\n",
       "      <td>False</td>\n",
       "      <td>1.0</td>\n",
       "      <td>3.0</td>\n",
       "      <td>2.0</td>\n",
       "      <td>0.0</td>\n",
       "    </tr>\n",
       "    <tr>\n",
       "      <th>1</th>\n",
       "      <td>25</td>\n",
       "      <td>259</td>\n",
       "      <td>1</td>\n",
       "      <td>105560</td>\n",
       "      <td>17</td>\n",
       "      <td>2017</td>\n",
       "      <td>11</td>\n",
       "      <td>45</td>\n",
       "      <td>7</td>\n",
       "      <td>1</td>\n",
       "      <td>311</td>\n",
       "      <td>13</td>\n",
       "      <td>40</td>\n",
       "      <td>27</td>\n",
       "      <td>False</td>\n",
       "      <td>False</td>\n",
       "      <td>False</td>\n",
       "      <td>False</td>\n",
       "      <td>False</td>\n",
       "      <td>False</td>\n",
       "      <td>1.0</td>\n",
       "      <td>3.0</td>\n",
       "      <td>1.0</td>\n",
       "      <td>0.0</td>\n",
       "    </tr>\n",
       "    <tr>\n",
       "      <th>2</th>\n",
       "      <td>12</td>\n",
       "      <td>212</td>\n",
       "      <td>1</td>\n",
       "      <td>101424</td>\n",
       "      <td>19</td>\n",
       "      <td>2017</td>\n",
       "      <td>11</td>\n",
       "      <td>45</td>\n",
       "      <td>7</td>\n",
       "      <td>1</td>\n",
       "      <td>311</td>\n",
       "      <td>18</td>\n",
       "      <td>5</td>\n",
       "      <td>24</td>\n",
       "      <td>False</td>\n",
       "      <td>False</td>\n",
       "      <td>False</td>\n",
       "      <td>False</td>\n",
       "      <td>False</td>\n",
       "      <td>False</td>\n",
       "      <td>1.0</td>\n",
       "      <td>1.0</td>\n",
       "      <td>1.0</td>\n",
       "      <td>0.0</td>\n",
       "    </tr>\n",
       "    <tr>\n",
       "      <th>3</th>\n",
       "      <td>13</td>\n",
       "      <td>477</td>\n",
       "      <td>1</td>\n",
       "      <td>94584</td>\n",
       "      <td>13</td>\n",
       "      <td>2017</td>\n",
       "      <td>11</td>\n",
       "      <td>45</td>\n",
       "      <td>7</td>\n",
       "      <td>1</td>\n",
       "      <td>311</td>\n",
       "      <td>4</td>\n",
       "      <td>58</td>\n",
       "      <td>8</td>\n",
       "      <td>False</td>\n",
       "      <td>False</td>\n",
       "      <td>False</td>\n",
       "      <td>False</td>\n",
       "      <td>False</td>\n",
       "      <td>False</td>\n",
       "      <td>1.0</td>\n",
       "      <td>1.0</td>\n",
       "      <td>1.0</td>\n",
       "      <td>0.0</td>\n",
       "    </tr>\n",
       "    <tr>\n",
       "      <th>4</th>\n",
       "      <td>12</td>\n",
       "      <td>178</td>\n",
       "      <td>1</td>\n",
       "      <td>68413</td>\n",
       "      <td>1</td>\n",
       "      <td>2017</td>\n",
       "      <td>11</td>\n",
       "      <td>45</td>\n",
       "      <td>9</td>\n",
       "      <td>3</td>\n",
       "      <td>313</td>\n",
       "      <td>9</td>\n",
       "      <td>0</td>\n",
       "      <td>9</td>\n",
       "      <td>False</td>\n",
       "      <td>False</td>\n",
       "      <td>False</td>\n",
       "      <td>False</td>\n",
       "      <td>False</td>\n",
       "      <td>False</td>\n",
       "      <td>1.0</td>\n",
       "      <td>2.0</td>\n",
       "      <td>1.0</td>\n",
       "      <td>0.0</td>\n",
       "    </tr>\n",
       "  </tbody>\n",
       "</table>\n",
       "</div>"
      ],
      "text/plain": [
       "  app channel device      ip  os click_timeYear click_timeMonth  \\\n",
       "0  12     497      1   87540  13           2017              11   \n",
       "1  25     259      1  105560  17           2017              11   \n",
       "2  12     212      1  101424  19           2017              11   \n",
       "3  13     477      1   94584  13           2017              11   \n",
       "4  12     178      1   68413   1           2017              11   \n",
       "\n",
       "  click_timeWeek click_timeDay click_timeDayofweek click_timeDayofyear  \\\n",
       "0             45             7                   1                 311   \n",
       "1             45             7                   1                 311   \n",
       "2             45             7                   1                 311   \n",
       "3             45             7                   1                 311   \n",
       "4             45             9                   3                 313   \n",
       "\n",
       "  click_timeHour click_timeMinute click_timeSecond click_timeIs_month_end  \\\n",
       "0              9               30               38                  False   \n",
       "1             13               40               27                  False   \n",
       "2             18                5               24                  False   \n",
       "3              4               58                8                  False   \n",
       "4              9                0                9                  False   \n",
       "\n",
       "  click_timeIs_month_start click_timeIs_quarter_end  \\\n",
       "0                    False                    False   \n",
       "1                    False                    False   \n",
       "2                    False                    False   \n",
       "3                    False                    False   \n",
       "4                    False                    False   \n",
       "\n",
       "  click_timeIs_quarter_start click_timeIs_year_end click_timeIs_year_start  \\\n",
       "0                      False                 False                   False   \n",
       "1                      False                 False                   False   \n",
       "2                      False                 False                   False   \n",
       "3                      False                 False                   False   \n",
       "4                      False                 False                   False   \n",
       "\n",
       "   qty  ip_app_count  ip_app_os_count  is_attributed  \n",
       "0  1.0           3.0              2.0            0.0  \n",
       "1  1.0           3.0              1.0            0.0  \n",
       "2  1.0           1.0              1.0            0.0  \n",
       "3  1.0           1.0              1.0            0.0  \n",
       "4  1.0           2.0              1.0            0.0  "
      ]
     },
     "execution_count": 42,
     "metadata": {},
     "output_type": "execute_result"
    }
   ],
   "source": [
    "joined.head()"
   ]
  },
  {
   "cell_type": "code",
   "execution_count": 43,
   "metadata": {
    "ExecuteTime": {
     "end_time": "2018-05-01T01:28:32.051383Z",
     "start_time": "2018-05-01T01:28:31.583611Z"
    }
   },
   "outputs": [],
   "source": [
    "from fastai.column_data import *"
   ]
  },
  {
   "cell_type": "code",
   "execution_count": 44,
   "metadata": {
    "ExecuteTime": {
     "end_time": "2018-05-01T01:28:32.059106Z",
     "start_time": "2018-05-01T01:28:32.053089Z"
    }
   },
   "outputs": [
    {
     "data": {
      "text/plain": [
       "WindowsPath('.')"
      ]
     },
     "execution_count": 44,
     "metadata": {},
     "output_type": "execute_result"
    }
   ],
   "source": [
    "path"
   ]
  },
  {
   "cell_type": "code",
   "execution_count": 45,
   "metadata": {
    "ExecuteTime": {
     "end_time": "2018-05-01T01:28:32.072140Z",
     "start_time": "2018-05-01T01:28:32.062114Z"
    }
   },
   "outputs": [
    {
     "data": {
      "text/plain": [
       "array([48000, 48001, 48002, ..., 59997, 59998, 59999])"
      ]
     },
     "execution_count": 45,
     "metadata": {},
     "output_type": "execute_result"
    }
   ],
   "source": [
    "np.arange(len(joined))[int(len(joined)*0.8) :]"
   ]
  },
  {
   "cell_type": "code",
   "execution_count": 46,
   "metadata": {
    "ExecuteTime": {
     "end_time": "2018-05-01T01:28:32.195401Z",
     "start_time": "2018-05-01T01:28:32.074146Z"
    }
   },
   "outputs": [],
   "source": [
    "import pdb\n",
    "# pdb.set_trace()\n",
    "md = ColumnarModelData.from_data_frame(path,-1, joined, y.astype(np.float32), cat_flds=cat_vars, bs=128,\n",
    "                                       test_df=None,is_reg=False, is_multi=False)"
   ]
  },
  {
   "cell_type": "code",
   "execution_count": 47,
   "metadata": {
    "ExecuteTime": {
     "end_time": "2018-05-01T01:28:32.203423Z",
     "start_time": "2018-05-01T01:28:32.197409Z"
    }
   },
   "outputs": [
    {
     "data": {
      "text/plain": [
       "app                           category\n",
       "channel                       category\n",
       "device                        category\n",
       "ip                            category\n",
       "os                            category\n",
       "click_timeYear                category\n",
       "click_timeMonth               category\n",
       "click_timeWeek                category\n",
       "click_timeDay                 category\n",
       "click_timeDayofweek           category\n",
       "click_timeDayofyear           category\n",
       "click_timeHour                category\n",
       "click_timeMinute              category\n",
       "click_timeSecond              category\n",
       "click_timeIs_month_end        category\n",
       "click_timeIs_month_start      category\n",
       "click_timeIs_quarter_end      category\n",
       "click_timeIs_quarter_start    category\n",
       "click_timeIs_year_end         category\n",
       "click_timeIs_year_start       category\n",
       "qty                            float32\n",
       "ip_app_count                   float32\n",
       "ip_app_os_count                float32\n",
       "is_attributed                    int64\n",
       "click_id                       float64\n",
       "dtype: object"
      ]
     },
     "execution_count": 47,
     "metadata": {},
     "output_type": "execute_result"
    }
   ],
   "source": [
    "joined_test.dtypes"
   ]
  },
  {
   "cell_type": "code",
   "execution_count": 48,
   "metadata": {
    "ExecuteTime": {
     "end_time": "2018-05-01T01:28:32.216457Z",
     "start_time": "2018-05-01T01:28:32.205430Z"
    }
   },
   "outputs": [],
   "source": [
    "cat_sz = [(c, len(joined[c].cat.categories)+1) for c in cat_vars]"
   ]
  },
  {
   "cell_type": "code",
   "execution_count": 49,
   "metadata": {
    "ExecuteTime": {
     "end_time": "2018-05-01T01:28:32.231499Z",
     "start_time": "2018-05-01T01:28:32.218463Z"
    }
   },
   "outputs": [],
   "source": [
    "emb_szs = [(c, min(50, (c+1)//2)) for _,c in cat_sz]"
   ]
  },
  {
   "cell_type": "code",
   "execution_count": 50,
   "metadata": {
    "ExecuteTime": {
     "end_time": "2018-05-01T01:28:32.247541Z",
     "start_time": "2018-05-01T01:28:32.237515Z"
    }
   },
   "outputs": [
    {
     "data": {
      "text/plain": [
       "True"
      ]
     },
     "execution_count": 50,
     "metadata": {},
     "output_type": "execute_result"
    }
   ],
   "source": [
    "torch.cuda.is_available()"
   ]
  },
  {
   "cell_type": "code",
   "execution_count": 51,
   "metadata": {
    "ExecuteTime": {
     "end_time": "2018-05-01T01:28:32.260575Z",
     "start_time": "2018-05-01T01:28:32.249546Z"
    }
   },
   "outputs": [],
   "source": [
    "a = torch.Tensor(10)"
   ]
  },
  {
   "cell_type": "code",
   "execution_count": 52,
   "metadata": {
    "ExecuteTime": {
     "end_time": "2018-05-01T01:28:35.285320Z",
     "start_time": "2018-05-01T01:28:32.262581Z"
    }
   },
   "outputs": [
    {
     "data": {
      "text/plain": [
       "0"
      ]
     },
     "execution_count": 52,
     "metadata": {},
     "output_type": "execute_result"
    }
   ],
   "source": [
    "torch.cuda.current_device()"
   ]
  },
  {
   "cell_type": "code",
   "execution_count": 57,
   "metadata": {
    "ExecuteTime": {
     "end_time": "2018-05-01T01:28:41.723766Z",
     "start_time": "2018-05-01T01:28:41.646507Z"
    }
   },
   "outputs": [
    {
     "name": "stderr",
     "output_type": "stream",
     "text": [
      "C:\\Users\\NokChan\\.kaggle\\competitions\\talkingdata-adtracking-fraud-detection\\fastai\\column_data.py:101: UserWarning: nn.init.kaiming_normal is now deprecated in favor of nn.init.kaiming_normal_.\n",
      "  for o in self.lins: kaiming_normal(o.weight.data)\n",
      "C:\\Users\\NokChan\\.kaggle\\competitions\\talkingdata-adtracking-fraud-detection\\fastai\\column_data.py:103: UserWarning: nn.init.kaiming_normal is now deprecated in favor of nn.init.kaiming_normal_.\n",
      "  kaiming_normal(self.outp.weight.data)\n"
     ]
    }
   ],
   "source": [
    "m = md.get_learner(emb_szs, len(df.columns)-len(cat_vars),\n",
    "                   0.04, 1, [1000,500], [0.001,0.01], y_range=1)\n",
    "lr = 1e-3"
   ]
  },
  {
   "cell_type": "code",
   "execution_count": 62,
   "metadata": {
    "ExecuteTime": {
     "end_time": "2018-05-01T01:29:04.020736Z",
     "start_time": "2018-05-01T01:29:04.017725Z"
    }
   },
   "outputs": [],
   "source": [
    "tmp = iter(md.trn_dl)"
   ]
  },
  {
   "cell_type": "code",
   "execution_count": 64,
   "metadata": {
    "ExecuteTime": {
     "end_time": "2018-05-01T01:29:09.659860Z",
     "start_time": "2018-05-01T01:29:09.655850Z"
    }
   },
   "outputs": [],
   "source": [
    "xs = next(tmp)"
   ]
  },
  {
   "cell_type": "code",
   "execution_count": 65,
   "metadata": {
    "ExecuteTime": {
     "end_time": "2018-05-01T01:29:10.306995Z",
     "start_time": "2018-05-01T01:29:10.209626Z"
    },
    "collapsed": true
   },
   "outputs": [
    {
     "data": {
      "text/plain": [
       "[tensor([[ 3.0000e+00,  2.8000e+02,  1.0000e+00,  ...,  0.0000e+00,\n",
       "           0.0000e+00,  0.0000e+00],\n",
       "         [ 1.2000e+01,  3.2800e+02,  1.0000e+00,  ...,  0.0000e+00,\n",
       "           0.0000e+00,  0.0000e+00],\n",
       "         [ 9.0000e+00,  4.4200e+02,  1.0000e+00,  ...,  0.0000e+00,\n",
       "           0.0000e+00,  0.0000e+00],\n",
       "         ...,\n",
       "         [ 1.2000e+01,  3.2800e+02,  1.0000e+00,  ...,  0.0000e+00,\n",
       "           0.0000e+00,  0.0000e+00],\n",
       "         [ 1.1000e+01,  2.1900e+02,  1.0000e+00,  ...,  0.0000e+00,\n",
       "           0.0000e+00,  0.0000e+00],\n",
       "         [ 1.1000e+01,  4.6900e+02,  1.0000e+00,  ...,  0.0000e+00,\n",
       "           0.0000e+00,  0.0000e+00]], device='cuda:0'),\n",
       " tensor([[   1.,    1.,    1.,    0.],\n",
       "         [   1.,    1.,    1.,    0.],\n",
       "         [   1.,    1.,    1.,    0.],\n",
       "         [   1.,    2.,    1.,    0.],\n",
       "         [   1.,   11.,    1.,    0.],\n",
       "         [   1.,    2.,    1.,    0.],\n",
       "         [   1.,    1.,    1.,    0.],\n",
       "         [   1.,    2.,    1.,    0.],\n",
       "         [   1.,    1.,    1.,    0.],\n",
       "         [   1.,    1.,    1.,    0.],\n",
       "         [   1.,    1.,    1.,    0.],\n",
       "         [   1.,    1.,    1.,    0.],\n",
       "         [   1.,    1.,    1.,    0.],\n",
       "         [   1.,    2.,    1.,    0.],\n",
       "         [   1.,    5.,    1.,    0.],\n",
       "         [   1.,    1.,    1.,    0.],\n",
       "         [   1.,   73.,    1.,    0.],\n",
       "         [   1.,    1.,    1.,    0.],\n",
       "         [   1.,    1.,    1.,    0.],\n",
       "         [   1.,    1.,    1.,    0.],\n",
       "         [   1.,    2.,    2.,    0.],\n",
       "         [   1.,    5.,    1.,    0.],\n",
       "         [   1.,    2.,    1.,    0.],\n",
       "         [   1.,    2.,    1.,    0.],\n",
       "         [   1.,    2.,    2.,    0.],\n",
       "         [   1.,    1.,    1.,    0.],\n",
       "         [   1.,    1.,    1.,    0.],\n",
       "         [   1.,    2.,    1.,    0.],\n",
       "         [   1.,    2.,    1.,    0.],\n",
       "         [   1.,    1.,    1.,    0.],\n",
       "         [   1.,    1.,    1.,    0.],\n",
       "         [   1.,    1.,    1.,    0.],\n",
       "         [   1.,    2.,    1.,    0.],\n",
       "         [   1.,    1.,    1.,    0.],\n",
       "         [   1.,    1.,    1.,    0.],\n",
       "         [   1.,    1.,    1.,    0.],\n",
       "         [   1.,    1.,    1.,    0.],\n",
       "         [   1.,    1.,    1.,    0.],\n",
       "         [   1.,    1.,    1.,    0.],\n",
       "         [   1.,    1.,    1.,    0.],\n",
       "         [   1.,    4.,    1.,    0.],\n",
       "         [   1.,    1.,    1.,    0.],\n",
       "         [   1.,    2.,    1.,    0.],\n",
       "         [   1.,    1.,    1.,    0.],\n",
       "         [   1.,    8.,    4.,    0.],\n",
       "         [   1.,    1.,    1.,    0.],\n",
       "         [   1.,    1.,    1.,    0.],\n",
       "         [   1.,    1.,    1.,    0.],\n",
       "         [   1.,    1.,    1.,    0.],\n",
       "         [   1.,    1.,    1.,    0.],\n",
       "         [   1.,    5.,    1.,    0.],\n",
       "         [   1.,    1.,    1.,    0.],\n",
       "         [   1.,    1.,    1.,    0.],\n",
       "         [   1.,    1.,    1.,    0.],\n",
       "         [   1.,    1.,    1.,    0.],\n",
       "         [   1.,    1.,    1.,    0.],\n",
       "         [   1.,   12.,    3.,    0.],\n",
       "         [   1.,    1.,    1.,    0.],\n",
       "         [   1.,    1.,    1.,    1.],\n",
       "         [   1.,    2.,    1.,    0.],\n",
       "         [   1.,    1.,    1.,    0.],\n",
       "         [   1.,    1.,    1.,    0.],\n",
       "         [   1.,    1.,    1.,    0.],\n",
       "         [   1.,    1.,    1.,    0.],\n",
       "         [   1.,    1.,    1.,    0.],\n",
       "         [   1.,    1.,    1.,    0.],\n",
       "         [   1.,    1.,    1.,    0.],\n",
       "         [   1.,    3.,    1.,    0.],\n",
       "         [   1.,    2.,    1.,    0.],\n",
       "         [   1.,    2.,    1.,    0.],\n",
       "         [   1.,    1.,    1.,    0.],\n",
       "         [   1.,    4.,    1.,    0.],\n",
       "         [   1.,    3.,    1.,    0.],\n",
       "         [   1.,    1.,    1.,    0.],\n",
       "         [   1.,    3.,    1.,    0.],\n",
       "         [   1.,    1.,    1.,    0.],\n",
       "         [   1.,    1.,    1.,    0.],\n",
       "         [   1.,    1.,    1.,    0.],\n",
       "         [   1.,    1.,    1.,    0.],\n",
       "         [   1.,    1.,    1.,    0.],\n",
       "         [   1.,   18.,    5.,    0.],\n",
       "         [   1.,    1.,    1.,    0.],\n",
       "         [   1.,    1.,    1.,    0.],\n",
       "         [   1.,    1.,    1.,    0.],\n",
       "         [   1.,    1.,    1.,    0.],\n",
       "         [   1.,    1.,    1.,    0.],\n",
       "         [   1.,    1.,    1.,    0.],\n",
       "         [   1.,    1.,    1.,    0.],\n",
       "         [   1.,    1.,    1.,    0.],\n",
       "         [   1.,    2.,    1.,    0.],\n",
       "         [   1.,    4.,    1.,    0.],\n",
       "         [   1.,    1.,    1.,    0.],\n",
       "         [   1.,    2.,    1.,    0.],\n",
       "         [   1.,  104.,    2.,    0.],\n",
       "         [   1.,    3.,    1.,    0.],\n",
       "         [   1.,    1.,    1.,    0.],\n",
       "         [   1.,    3.,    1.,    0.],\n",
       "         [   1.,   16.,    3.,    0.],\n",
       "         [   1.,    1.,    1.,    0.],\n",
       "         [   1.,    1.,    1.,    0.],\n",
       "         [   1.,    1.,    1.,    0.],\n",
       "         [   1.,    2.,    1.,    0.],\n",
       "         [   1.,    1.,    1.,    0.],\n",
       "         [   1.,    1.,    1.,    0.],\n",
       "         [   1.,    1.,    1.,    0.],\n",
       "         [   1.,   12.,    1.,    0.],\n",
       "         [   1.,    1.,    1.,    0.],\n",
       "         [   1.,    1.,    1.,    0.],\n",
       "         [   1.,    1.,    1.,    0.],\n",
       "         [   1.,    3.,    1.,    0.],\n",
       "         [   1.,    1.,    1.,    0.],\n",
       "         [   1.,    1.,    1.,    0.],\n",
       "         [   1.,    1.,    1.,    0.],\n",
       "         [   1.,    1.,    1.,    0.],\n",
       "         [   1.,    1.,    1.,    0.],\n",
       "         [   1.,    1.,    1.,    0.],\n",
       "         [   1.,    1.,    1.,    0.],\n",
       "         [   1.,    1.,    1.,    0.],\n",
       "         [   1.,    1.,    1.,    0.],\n",
       "         [   1.,    1.,    1.,    0.],\n",
       "         [   1.,    1.,    1.,    0.],\n",
       "         [   1.,    1.,    1.,    0.],\n",
       "         [   1.,    1.,    1.,    0.],\n",
       "         [   1.,    3.,    1.,    0.],\n",
       "         [   1.,    4.,    1.,    0.],\n",
       "         [   1.,    1.,    1.,    0.],\n",
       "         [   1.,    1.,    1.,    0.],\n",
       "         [   1.,    1.,    1.,    0.]], device='cuda:0'),\n",
       " tensor([ 0.,  0.,  0.,  0.,  0.,  0.,  0.,  0.,  0.,  0.,  0.,  0.,\n",
       "          0.,  0.,  0.,  0.,  0.,  0.,  0.,  0.,  0.,  0.,  0.,  0.,\n",
       "          0.,  0.,  0.,  0.,  0.,  0.,  0.,  0.,  0.,  0.,  0.,  0.,\n",
       "          0.,  0.,  0.,  0.,  0.,  0.,  0.,  0.,  0.,  0.,  0.,  0.,\n",
       "          0.,  0.,  0.,  0.,  0.,  0.,  0.,  0.,  0.,  0.,  1.,  0.,\n",
       "          0.,  0.,  0.,  0.,  0.,  0.,  0.,  0.,  0.,  0.,  0.,  0.,\n",
       "          0.,  0.,  0.,  0.,  0.,  0.,  0.,  0.,  0.,  0.,  0.,  0.,\n",
       "          0.,  0.,  0.,  0.,  0.,  0.,  0.,  0.,  0.,  0.,  0.,  0.,\n",
       "          0.,  0.,  0.,  0.,  0.,  0.,  0.,  0.,  0.,  0.,  0.,  0.,\n",
       "          0.,  0.,  0.,  0.,  0.,  0.,  0.,  0.,  0.,  0.,  0.,  0.,\n",
       "          0.,  0.,  0.,  0.,  0.,  0.,  0.,  0.], device='cuda:0')]"
      ]
     },
     "execution_count": 65,
     "metadata": {},
     "output_type": "execute_result"
    }
   ],
   "source": [
    "xs"
   ]
  },
  {
   "cell_type": "code",
   "execution_count": 57,
   "metadata": {
    "ExecuteTime": {
     "end_time": "2018-05-01T01:26:19.915720Z",
     "start_time": "2018-05-01T01:26:19.160692Z"
    }
   },
   "outputs": [
    {
     "data": {
      "application/vnd.jupyter.widget-view+json": {
       "model_id": "a230fd9b92384688991e99939ce8cf57",
       "version_major": 2,
       "version_minor": 0
      },
      "text/html": [
       "<p>Failed to display Jupyter Widget of type <code>HBox</code>.</p>\n",
       "<p>\n",
       "  If you're reading this message in the Jupyter Notebook or JupyterLab Notebook, it may mean\n",
       "  that the widgets JavaScript is still loading. If this message persists, it\n",
       "  likely means that the widgets JavaScript library is either not installed or\n",
       "  not enabled. See the <a href=\"https://ipywidgets.readthedocs.io/en/stable/user_install.html\">Jupyter\n",
       "  Widgets Documentation</a> for setup instructions.\n",
       "</p>\n",
       "<p>\n",
       "  If you're reading this message in another frontend (for example, a static\n",
       "  rendering on GitHub or <a href=\"https://nbviewer.jupyter.org/\">NBViewer</a>),\n",
       "  it may mean that your frontend doesn't currently support widgets.\n",
       "</p>\n"
      ],
      "text/plain": [
       "HBox(children=(IntProgress(value=0, description='Epoch', max=1), HTML(value='')))"
      ]
     },
     "metadata": {},
     "output_type": "display_data"
    },
    {
     "name": "stdout",
     "output_type": "stream",
     "text": [
      "  0%|          | 0/469 [00:00<?, ?it/s]\n"
     ]
    },
    {
     "ename": "RuntimeError",
     "evalue": "cuda runtime error (4) : unspecified launch failure at C:/Users/Administrator/Downloads/new-builder/win-wheel/pytorch/aten/src/THC/THCTensorCopy.cu:204",
     "output_type": "error",
     "traceback": [
      "\u001b[1;31m---------------------------------------------------------------------------\u001b[0m",
      "\u001b[1;31mRuntimeError\u001b[0m                              Traceback (most recent call last)",
      "\u001b[1;32m<ipython-input-57-148eed1ec246>\u001b[0m in \u001b[0;36m<module>\u001b[1;34m()\u001b[0m\n\u001b[1;32m----> 1\u001b[1;33m \u001b[0mm\u001b[0m\u001b[1;33m.\u001b[0m\u001b[0mfit\u001b[0m \u001b[1;33m(\u001b[0m\u001b[1;36m1e-3\u001b[0m\u001b[1;33m,\u001b[0m \u001b[1;36m1\u001b[0m\u001b[1;33m)\u001b[0m\u001b[1;33m\u001b[0m\u001b[0m\n\u001b[0m",
      "\u001b[1;32mC:\\Users\\NokChan\\.kaggle\\competitions\\talkingdata-adtracking-fraud-detection\\fastai\\learner.py\u001b[0m in \u001b[0;36mfit\u001b[1;34m(self, lrs, n_cycle, wds, **kwargs)\u001b[0m\n\u001b[0;32m    285\u001b[0m         \u001b[0mself\u001b[0m\u001b[1;33m.\u001b[0m\u001b[0msched\u001b[0m \u001b[1;33m=\u001b[0m \u001b[1;32mNone\u001b[0m\u001b[1;33m\u001b[0m\u001b[0m\n\u001b[0;32m    286\u001b[0m         \u001b[0mlayer_opt\u001b[0m \u001b[1;33m=\u001b[0m \u001b[0mself\u001b[0m\u001b[1;33m.\u001b[0m\u001b[0mget_layer_opt\u001b[0m\u001b[1;33m(\u001b[0m\u001b[0mlrs\u001b[0m\u001b[1;33m,\u001b[0m \u001b[0mwds\u001b[0m\u001b[1;33m)\u001b[0m\u001b[1;33m\u001b[0m\u001b[0m\n\u001b[1;32m--> 287\u001b[1;33m         \u001b[1;32mreturn\u001b[0m \u001b[0mself\u001b[0m\u001b[1;33m.\u001b[0m\u001b[0mfit_gen\u001b[0m\u001b[1;33m(\u001b[0m\u001b[0mself\u001b[0m\u001b[1;33m.\u001b[0m\u001b[0mmodel\u001b[0m\u001b[1;33m,\u001b[0m \u001b[0mself\u001b[0m\u001b[1;33m.\u001b[0m\u001b[0mdata\u001b[0m\u001b[1;33m,\u001b[0m \u001b[0mlayer_opt\u001b[0m\u001b[1;33m,\u001b[0m \u001b[0mn_cycle\u001b[0m\u001b[1;33m,\u001b[0m \u001b[1;33m**\u001b[0m\u001b[0mkwargs\u001b[0m\u001b[1;33m)\u001b[0m\u001b[1;33m\u001b[0m\u001b[0m\n\u001b[0m\u001b[0;32m    288\u001b[0m \u001b[1;33m\u001b[0m\u001b[0m\n\u001b[0;32m    289\u001b[0m     \u001b[1;32mdef\u001b[0m \u001b[0mwarm_up\u001b[0m\u001b[1;33m(\u001b[0m\u001b[0mself\u001b[0m\u001b[1;33m,\u001b[0m \u001b[0mlr\u001b[0m\u001b[1;33m,\u001b[0m \u001b[0mwds\u001b[0m\u001b[1;33m=\u001b[0m\u001b[1;32mNone\u001b[0m\u001b[1;33m)\u001b[0m\u001b[1;33m:\u001b[0m\u001b[1;33m\u001b[0m\u001b[0m\n",
      "\u001b[1;32mC:\\Users\\NokChan\\.kaggle\\competitions\\talkingdata-adtracking-fraud-detection\\fastai\\learner.py\u001b[0m in \u001b[0;36mfit_gen\u001b[1;34m(self, model, data, layer_opt, n_cycle, cycle_len, cycle_mult, cycle_save_name, best_save_name, use_clr, use_clr_beta, metrics, callbacks, use_wd_sched, norm_wds, wds_sched_mult, use_swa, swa_start, swa_eval_freq, **kwargs)\u001b[0m\n\u001b[0;32m    232\u001b[0m             \u001b[0mmetrics\u001b[0m\u001b[1;33m=\u001b[0m\u001b[0mmetrics\u001b[0m\u001b[1;33m,\u001b[0m \u001b[0mcallbacks\u001b[0m\u001b[1;33m=\u001b[0m\u001b[0mcallbacks\u001b[0m\u001b[1;33m,\u001b[0m \u001b[0mreg_fn\u001b[0m\u001b[1;33m=\u001b[0m\u001b[0mself\u001b[0m\u001b[1;33m.\u001b[0m\u001b[0mreg_fn\u001b[0m\u001b[1;33m,\u001b[0m \u001b[0mclip\u001b[0m\u001b[1;33m=\u001b[0m\u001b[0mself\u001b[0m\u001b[1;33m.\u001b[0m\u001b[0mclip\u001b[0m\u001b[1;33m,\u001b[0m \u001b[0mfp16\u001b[0m\u001b[1;33m=\u001b[0m\u001b[0mself\u001b[0m\u001b[1;33m.\u001b[0m\u001b[0mfp16\u001b[0m\u001b[1;33m,\u001b[0m\u001b[1;33m\u001b[0m\u001b[0m\n\u001b[0;32m    233\u001b[0m             \u001b[0mswa_model\u001b[0m\u001b[1;33m=\u001b[0m\u001b[0mself\u001b[0m\u001b[1;33m.\u001b[0m\u001b[0mswa_model\u001b[0m \u001b[1;32mif\u001b[0m \u001b[0muse_swa\u001b[0m \u001b[1;32melse\u001b[0m \u001b[1;32mNone\u001b[0m\u001b[1;33m,\u001b[0m \u001b[0mswa_start\u001b[0m\u001b[1;33m=\u001b[0m\u001b[0mswa_start\u001b[0m\u001b[1;33m,\u001b[0m\u001b[1;33m\u001b[0m\u001b[0m\n\u001b[1;32m--> 234\u001b[1;33m             swa_eval_freq=swa_eval_freq, **kwargs)\n\u001b[0m\u001b[0;32m    235\u001b[0m \u001b[1;33m\u001b[0m\u001b[0m\n\u001b[0;32m    236\u001b[0m     \u001b[1;32mdef\u001b[0m \u001b[0mget_layer_groups\u001b[0m\u001b[1;33m(\u001b[0m\u001b[0mself\u001b[0m\u001b[1;33m)\u001b[0m\u001b[1;33m:\u001b[0m \u001b[1;32mreturn\u001b[0m \u001b[0mself\u001b[0m\u001b[1;33m.\u001b[0m\u001b[0mmodels\u001b[0m\u001b[1;33m.\u001b[0m\u001b[0mget_layer_groups\u001b[0m\u001b[1;33m(\u001b[0m\u001b[1;33m)\u001b[0m\u001b[1;33m\u001b[0m\u001b[0m\n",
      "\u001b[1;32mC:\\Users\\NokChan\\.kaggle\\competitions\\talkingdata-adtracking-fraud-detection\\fastai\\model.py\u001b[0m in \u001b[0;36mfit\u001b[1;34m(model, data, n_epochs, opt, crit, metrics, callbacks, stepper, swa_model, swa_start, swa_eval_freq, **kwargs)\u001b[0m\n\u001b[0;32m    127\u001b[0m             \u001b[0mbatch_num\u001b[0m \u001b[1;33m+=\u001b[0m \u001b[1;36m1\u001b[0m\u001b[1;33m\u001b[0m\u001b[0m\n\u001b[0;32m    128\u001b[0m             \u001b[1;32mfor\u001b[0m \u001b[0mcb\u001b[0m \u001b[1;32min\u001b[0m \u001b[0mcallbacks\u001b[0m\u001b[1;33m:\u001b[0m \u001b[0mcb\u001b[0m\u001b[1;33m.\u001b[0m\u001b[0mon_batch_begin\u001b[0m\u001b[1;33m(\u001b[0m\u001b[1;33m)\u001b[0m\u001b[1;33m\u001b[0m\u001b[0m\n\u001b[1;32m--> 129\u001b[1;33m             \u001b[0mloss\u001b[0m \u001b[1;33m=\u001b[0m \u001b[0mmodel_stepper\u001b[0m\u001b[1;33m.\u001b[0m\u001b[0mstep\u001b[0m\u001b[1;33m(\u001b[0m\u001b[0mV\u001b[0m\u001b[1;33m(\u001b[0m\u001b[0mx\u001b[0m\u001b[1;33m)\u001b[0m\u001b[1;33m,\u001b[0m\u001b[0mV\u001b[0m\u001b[1;33m(\u001b[0m\u001b[0my\u001b[0m\u001b[1;33m)\u001b[0m\u001b[1;33m,\u001b[0m \u001b[0mepoch\u001b[0m\u001b[1;33m)\u001b[0m\u001b[1;33m\u001b[0m\u001b[0m\n\u001b[0m\u001b[0;32m    130\u001b[0m             \u001b[0mavg_loss\u001b[0m \u001b[1;33m=\u001b[0m \u001b[0mavg_loss\u001b[0m \u001b[1;33m*\u001b[0m \u001b[0mavg_mom\u001b[0m \u001b[1;33m+\u001b[0m \u001b[0mloss\u001b[0m \u001b[1;33m*\u001b[0m \u001b[1;33m(\u001b[0m\u001b[1;36m1\u001b[0m\u001b[1;33m-\u001b[0m\u001b[0mavg_mom\u001b[0m\u001b[1;33m)\u001b[0m\u001b[1;33m\u001b[0m\u001b[0m\n\u001b[0;32m    131\u001b[0m             \u001b[0mdebias_loss\u001b[0m \u001b[1;33m=\u001b[0m \u001b[0mavg_loss\u001b[0m \u001b[1;33m/\u001b[0m \u001b[1;33m(\u001b[0m\u001b[1;36m1\u001b[0m \u001b[1;33m-\u001b[0m \u001b[0mavg_mom\u001b[0m\u001b[1;33m**\u001b[0m\u001b[0mbatch_num\u001b[0m\u001b[1;33m)\u001b[0m\u001b[1;33m\u001b[0m\u001b[0m\n",
      "\u001b[1;32mC:\\Users\\NokChan\\.kaggle\\competitions\\talkingdata-adtracking-fraud-detection\\fastai\\model.py\u001b[0m in \u001b[0;36mstep\u001b[1;34m(self, xs, y, epoch)\u001b[0m\n\u001b[0;32m     46\u001b[0m     \u001b[1;32mdef\u001b[0m \u001b[0mstep\u001b[0m\u001b[1;33m(\u001b[0m\u001b[0mself\u001b[0m\u001b[1;33m,\u001b[0m \u001b[0mxs\u001b[0m\u001b[1;33m,\u001b[0m \u001b[0my\u001b[0m\u001b[1;33m,\u001b[0m \u001b[0mepoch\u001b[0m\u001b[1;33m)\u001b[0m\u001b[1;33m:\u001b[0m\u001b[1;33m\u001b[0m\u001b[0m\n\u001b[0;32m     47\u001b[0m         \u001b[0mxtra\u001b[0m \u001b[1;33m=\u001b[0m \u001b[1;33m[\u001b[0m\u001b[1;33m]\u001b[0m\u001b[1;33m\u001b[0m\u001b[0m\n\u001b[1;32m---> 48\u001b[1;33m         \u001b[0moutput\u001b[0m \u001b[1;33m=\u001b[0m \u001b[0mself\u001b[0m\u001b[1;33m.\u001b[0m\u001b[0mm\u001b[0m\u001b[1;33m(\u001b[0m\u001b[1;33m*\u001b[0m\u001b[0mxs\u001b[0m\u001b[1;33m)\u001b[0m\u001b[1;33m\u001b[0m\u001b[0m\n\u001b[0m\u001b[0;32m     49\u001b[0m         \u001b[1;32mif\u001b[0m \u001b[0misinstance\u001b[0m\u001b[1;33m(\u001b[0m\u001b[0moutput\u001b[0m\u001b[1;33m,\u001b[0m\u001b[0mtuple\u001b[0m\u001b[1;33m)\u001b[0m\u001b[1;33m:\u001b[0m \u001b[0moutput\u001b[0m\u001b[1;33m,\u001b[0m\u001b[1;33m*\u001b[0m\u001b[0mxtra\u001b[0m \u001b[1;33m=\u001b[0m \u001b[0moutput\u001b[0m\u001b[1;33m\u001b[0m\u001b[0m\n\u001b[0;32m     50\u001b[0m         \u001b[1;32mif\u001b[0m \u001b[0mself\u001b[0m\u001b[1;33m.\u001b[0m\u001b[0mfp16\u001b[0m\u001b[1;33m:\u001b[0m \u001b[0mself\u001b[0m\u001b[1;33m.\u001b[0m\u001b[0mm\u001b[0m\u001b[1;33m.\u001b[0m\u001b[0mzero_grad\u001b[0m\u001b[1;33m(\u001b[0m\u001b[1;33m)\u001b[0m\u001b[1;33m\u001b[0m\u001b[0m\n",
      "\u001b[1;32mC:\\Users\\NokChan\\Anaconda3\\envs\\fastai\\lib\\site-packages\\torch\\nn\\modules\\module.py\u001b[0m in \u001b[0;36m__call__\u001b[1;34m(self, *input, **kwargs)\u001b[0m\n\u001b[0;32m    489\u001b[0m             \u001b[0mresult\u001b[0m \u001b[1;33m=\u001b[0m \u001b[0mself\u001b[0m\u001b[1;33m.\u001b[0m\u001b[0m_slow_forward\u001b[0m\u001b[1;33m(\u001b[0m\u001b[1;33m*\u001b[0m\u001b[0minput\u001b[0m\u001b[1;33m,\u001b[0m \u001b[1;33m**\u001b[0m\u001b[0mkwargs\u001b[0m\u001b[1;33m)\u001b[0m\u001b[1;33m\u001b[0m\u001b[0m\n\u001b[0;32m    490\u001b[0m         \u001b[1;32melse\u001b[0m\u001b[1;33m:\u001b[0m\u001b[1;33m\u001b[0m\u001b[0m\n\u001b[1;32m--> 491\u001b[1;33m             \u001b[0mresult\u001b[0m \u001b[1;33m=\u001b[0m \u001b[0mself\u001b[0m\u001b[1;33m.\u001b[0m\u001b[0mforward\u001b[0m\u001b[1;33m(\u001b[0m\u001b[1;33m*\u001b[0m\u001b[0minput\u001b[0m\u001b[1;33m,\u001b[0m \u001b[1;33m**\u001b[0m\u001b[0mkwargs\u001b[0m\u001b[1;33m)\u001b[0m\u001b[1;33m\u001b[0m\u001b[0m\n\u001b[0m\u001b[0;32m    492\u001b[0m         \u001b[1;32mfor\u001b[0m \u001b[0mhook\u001b[0m \u001b[1;32min\u001b[0m \u001b[0mself\u001b[0m\u001b[1;33m.\u001b[0m\u001b[0m_forward_hooks\u001b[0m\u001b[1;33m.\u001b[0m\u001b[0mvalues\u001b[0m\u001b[1;33m(\u001b[0m\u001b[1;33m)\u001b[0m\u001b[1;33m:\u001b[0m\u001b[1;33m\u001b[0m\u001b[0m\n\u001b[0;32m    493\u001b[0m             \u001b[0mhook_result\u001b[0m \u001b[1;33m=\u001b[0m \u001b[0mhook\u001b[0m\u001b[1;33m(\u001b[0m\u001b[0mself\u001b[0m\u001b[1;33m,\u001b[0m \u001b[0minput\u001b[0m\u001b[1;33m,\u001b[0m \u001b[0mresult\u001b[0m\u001b[1;33m)\u001b[0m\u001b[1;33m\u001b[0m\u001b[0m\n",
      "\u001b[1;32mC:\\Users\\NokChan\\.kaggle\\competitions\\talkingdata-adtracking-fraud-detection\\fastai\\column_data.py\u001b[0m in \u001b[0;36mforward\u001b[1;34m(self, x_cat, x_cont)\u001b[0m\n\u001b[0;32m    112\u001b[0m     \u001b[1;32mdef\u001b[0m \u001b[0mforward\u001b[0m\u001b[1;33m(\u001b[0m\u001b[0mself\u001b[0m\u001b[1;33m,\u001b[0m \u001b[0mx_cat\u001b[0m\u001b[1;33m,\u001b[0m \u001b[0mx_cont\u001b[0m\u001b[1;33m)\u001b[0m\u001b[1;33m:\u001b[0m\u001b[1;33m\u001b[0m\u001b[0m\n\u001b[0;32m    113\u001b[0m         \u001b[1;32mif\u001b[0m \u001b[0mself\u001b[0m\u001b[1;33m.\u001b[0m\u001b[0mn_emb\u001b[0m \u001b[1;33m!=\u001b[0m \u001b[1;36m0\u001b[0m\u001b[1;33m:\u001b[0m\u001b[1;33m\u001b[0m\u001b[0m\n\u001b[1;32m--> 114\u001b[1;33m             \u001b[0mx\u001b[0m \u001b[1;33m=\u001b[0m \u001b[1;33m[\u001b[0m\u001b[0me\u001b[0m\u001b[1;33m(\u001b[0m\u001b[0mx_cat\u001b[0m\u001b[1;33m[\u001b[0m\u001b[1;33m:\u001b[0m\u001b[1;33m,\u001b[0m\u001b[0mi\u001b[0m\u001b[1;33m]\u001b[0m\u001b[1;33m)\u001b[0m \u001b[1;32mfor\u001b[0m \u001b[0mi\u001b[0m\u001b[1;33m,\u001b[0m\u001b[0me\u001b[0m \u001b[1;32min\u001b[0m \u001b[0menumerate\u001b[0m\u001b[1;33m(\u001b[0m\u001b[0mself\u001b[0m\u001b[1;33m.\u001b[0m\u001b[0membs\u001b[0m\u001b[1;33m)\u001b[0m\u001b[1;33m]\u001b[0m\u001b[1;33m\u001b[0m\u001b[0m\n\u001b[0m\u001b[0;32m    115\u001b[0m             \u001b[0mx\u001b[0m \u001b[1;33m=\u001b[0m \u001b[0mtorch\u001b[0m\u001b[1;33m.\u001b[0m\u001b[0mcat\u001b[0m\u001b[1;33m(\u001b[0m\u001b[0mx\u001b[0m\u001b[1;33m,\u001b[0m \u001b[1;36m1\u001b[0m\u001b[1;33m)\u001b[0m\u001b[1;33m\u001b[0m\u001b[0m\n\u001b[0;32m    116\u001b[0m             \u001b[0mx\u001b[0m \u001b[1;33m=\u001b[0m \u001b[0mself\u001b[0m\u001b[1;33m.\u001b[0m\u001b[0memb_drop\u001b[0m\u001b[1;33m(\u001b[0m\u001b[0mx\u001b[0m\u001b[1;33m)\u001b[0m\u001b[1;33m\u001b[0m\u001b[0m\n",
      "\u001b[1;32mC:\\Users\\NokChan\\.kaggle\\competitions\\talkingdata-adtracking-fraud-detection\\fastai\\column_data.py\u001b[0m in \u001b[0;36m<listcomp>\u001b[1;34m(.0)\u001b[0m\n\u001b[0;32m    112\u001b[0m     \u001b[1;32mdef\u001b[0m \u001b[0mforward\u001b[0m\u001b[1;33m(\u001b[0m\u001b[0mself\u001b[0m\u001b[1;33m,\u001b[0m \u001b[0mx_cat\u001b[0m\u001b[1;33m,\u001b[0m \u001b[0mx_cont\u001b[0m\u001b[1;33m)\u001b[0m\u001b[1;33m:\u001b[0m\u001b[1;33m\u001b[0m\u001b[0m\n\u001b[0;32m    113\u001b[0m         \u001b[1;32mif\u001b[0m \u001b[0mself\u001b[0m\u001b[1;33m.\u001b[0m\u001b[0mn_emb\u001b[0m \u001b[1;33m!=\u001b[0m \u001b[1;36m0\u001b[0m\u001b[1;33m:\u001b[0m\u001b[1;33m\u001b[0m\u001b[0m\n\u001b[1;32m--> 114\u001b[1;33m             \u001b[0mx\u001b[0m \u001b[1;33m=\u001b[0m \u001b[1;33m[\u001b[0m\u001b[0me\u001b[0m\u001b[1;33m(\u001b[0m\u001b[0mx_cat\u001b[0m\u001b[1;33m[\u001b[0m\u001b[1;33m:\u001b[0m\u001b[1;33m,\u001b[0m\u001b[0mi\u001b[0m\u001b[1;33m]\u001b[0m\u001b[1;33m)\u001b[0m \u001b[1;32mfor\u001b[0m \u001b[0mi\u001b[0m\u001b[1;33m,\u001b[0m\u001b[0me\u001b[0m \u001b[1;32min\u001b[0m \u001b[0menumerate\u001b[0m\u001b[1;33m(\u001b[0m\u001b[0mself\u001b[0m\u001b[1;33m.\u001b[0m\u001b[0membs\u001b[0m\u001b[1;33m)\u001b[0m\u001b[1;33m]\u001b[0m\u001b[1;33m\u001b[0m\u001b[0m\n\u001b[0m\u001b[0;32m    115\u001b[0m             \u001b[0mx\u001b[0m \u001b[1;33m=\u001b[0m \u001b[0mtorch\u001b[0m\u001b[1;33m.\u001b[0m\u001b[0mcat\u001b[0m\u001b[1;33m(\u001b[0m\u001b[0mx\u001b[0m\u001b[1;33m,\u001b[0m \u001b[1;36m1\u001b[0m\u001b[1;33m)\u001b[0m\u001b[1;33m\u001b[0m\u001b[0m\n\u001b[0;32m    116\u001b[0m             \u001b[0mx\u001b[0m \u001b[1;33m=\u001b[0m \u001b[0mself\u001b[0m\u001b[1;33m.\u001b[0m\u001b[0memb_drop\u001b[0m\u001b[1;33m(\u001b[0m\u001b[0mx\u001b[0m\u001b[1;33m)\u001b[0m\u001b[1;33m\u001b[0m\u001b[0m\n",
      "\u001b[1;32mC:\\Users\\NokChan\\Anaconda3\\envs\\fastai\\lib\\site-packages\\torch\\nn\\modules\\module.py\u001b[0m in \u001b[0;36m__call__\u001b[1;34m(self, *input, **kwargs)\u001b[0m\n\u001b[0;32m    489\u001b[0m             \u001b[0mresult\u001b[0m \u001b[1;33m=\u001b[0m \u001b[0mself\u001b[0m\u001b[1;33m.\u001b[0m\u001b[0m_slow_forward\u001b[0m\u001b[1;33m(\u001b[0m\u001b[1;33m*\u001b[0m\u001b[0minput\u001b[0m\u001b[1;33m,\u001b[0m \u001b[1;33m**\u001b[0m\u001b[0mkwargs\u001b[0m\u001b[1;33m)\u001b[0m\u001b[1;33m\u001b[0m\u001b[0m\n\u001b[0;32m    490\u001b[0m         \u001b[1;32melse\u001b[0m\u001b[1;33m:\u001b[0m\u001b[1;33m\u001b[0m\u001b[0m\n\u001b[1;32m--> 491\u001b[1;33m             \u001b[0mresult\u001b[0m \u001b[1;33m=\u001b[0m \u001b[0mself\u001b[0m\u001b[1;33m.\u001b[0m\u001b[0mforward\u001b[0m\u001b[1;33m(\u001b[0m\u001b[1;33m*\u001b[0m\u001b[0minput\u001b[0m\u001b[1;33m,\u001b[0m \u001b[1;33m**\u001b[0m\u001b[0mkwargs\u001b[0m\u001b[1;33m)\u001b[0m\u001b[1;33m\u001b[0m\u001b[0m\n\u001b[0m\u001b[0;32m    492\u001b[0m         \u001b[1;32mfor\u001b[0m \u001b[0mhook\u001b[0m \u001b[1;32min\u001b[0m \u001b[0mself\u001b[0m\u001b[1;33m.\u001b[0m\u001b[0m_forward_hooks\u001b[0m\u001b[1;33m.\u001b[0m\u001b[0mvalues\u001b[0m\u001b[1;33m(\u001b[0m\u001b[1;33m)\u001b[0m\u001b[1;33m:\u001b[0m\u001b[1;33m\u001b[0m\u001b[0m\n\u001b[0;32m    493\u001b[0m             \u001b[0mhook_result\u001b[0m \u001b[1;33m=\u001b[0m \u001b[0mhook\u001b[0m\u001b[1;33m(\u001b[0m\u001b[0mself\u001b[0m\u001b[1;33m,\u001b[0m \u001b[0minput\u001b[0m\u001b[1;33m,\u001b[0m \u001b[0mresult\u001b[0m\u001b[1;33m)\u001b[0m\u001b[1;33m\u001b[0m\u001b[0m\n",
      "\u001b[1;32mC:\\Users\\NokChan\\Anaconda3\\envs\\fastai\\lib\\site-packages\\torch\\nn\\modules\\sparse.py\u001b[0m in \u001b[0;36mforward\u001b[1;34m(self, input)\u001b[0m\n\u001b[0;32m    106\u001b[0m         return F.embedding(\n\u001b[0;32m    107\u001b[0m             \u001b[0minput\u001b[0m\u001b[1;33m,\u001b[0m \u001b[0mself\u001b[0m\u001b[1;33m.\u001b[0m\u001b[0mweight\u001b[0m\u001b[1;33m,\u001b[0m \u001b[0mself\u001b[0m\u001b[1;33m.\u001b[0m\u001b[0mpadding_idx\u001b[0m\u001b[1;33m,\u001b[0m \u001b[0mself\u001b[0m\u001b[1;33m.\u001b[0m\u001b[0mmax_norm\u001b[0m\u001b[1;33m,\u001b[0m\u001b[1;33m\u001b[0m\u001b[0m\n\u001b[1;32m--> 108\u001b[1;33m             self.norm_type, self.scale_grad_by_freq, self.sparse)\n\u001b[0m\u001b[0;32m    109\u001b[0m \u001b[1;33m\u001b[0m\u001b[0m\n\u001b[0;32m    110\u001b[0m     \u001b[1;32mdef\u001b[0m \u001b[0mextra_repr\u001b[0m\u001b[1;33m(\u001b[0m\u001b[0mself\u001b[0m\u001b[1;33m)\u001b[0m\u001b[1;33m:\u001b[0m\u001b[1;33m\u001b[0m\u001b[0m\n",
      "\u001b[1;32mC:\\Users\\NokChan\\Anaconda3\\envs\\fastai\\lib\\site-packages\\torch\\nn\\functional.py\u001b[0m in \u001b[0;36membedding\u001b[1;34m(input, weight, padding_idx, max_norm, norm_type, scale_grad_by_freq, sparse)\u001b[0m\n\u001b[0;32m   1062\u001b[0m                  [ 0.6262,  0.2438,  0.7471]]])\n\u001b[0;32m   1063\u001b[0m     \"\"\"\n\u001b[1;32m-> 1064\u001b[1;33m     \u001b[0minput\u001b[0m \u001b[1;33m=\u001b[0m \u001b[0minput\u001b[0m\u001b[1;33m.\u001b[0m\u001b[0mcontiguous\u001b[0m\u001b[1;33m(\u001b[0m\u001b[1;33m)\u001b[0m\u001b[1;33m\u001b[0m\u001b[0m\n\u001b[0m\u001b[0;32m   1065\u001b[0m     \u001b[1;32mif\u001b[0m \u001b[0mpadding_idx\u001b[0m \u001b[1;32mis\u001b[0m \u001b[1;32mnot\u001b[0m \u001b[1;32mNone\u001b[0m\u001b[1;33m:\u001b[0m\u001b[1;33m\u001b[0m\u001b[0m\n\u001b[0;32m   1066\u001b[0m         \u001b[1;32mif\u001b[0m \u001b[0mpadding_idx\u001b[0m \u001b[1;33m>\u001b[0m \u001b[1;36m0\u001b[0m\u001b[1;33m:\u001b[0m\u001b[1;33m\u001b[0m\u001b[0m\n",
      "\u001b[1;31mRuntimeError\u001b[0m: cuda runtime error (4) : unspecified launch failure at C:/Users/Administrator/Downloads/new-builder/win-wheel/pytorch/aten/src/THC/THCTensorCopy.cu:204"
     ]
    }
   ],
   "source": [
    "m.fit (1e-3, 1)"
   ]
  },
  {
   "cell_type": "code",
   "execution_count": 56,
   "metadata": {
    "ExecuteTime": {
     "end_time": "2018-05-01T01:23:11.027804Z",
     "start_time": "2018-05-01T01:23:10.765624Z"
    }
   },
   "outputs": [
    {
     "data": {
      "application/vnd.jupyter.widget-view+json": {
       "model_id": "b646884810e44ec9b03fbaa4b69125f6",
       "version_major": 2,
       "version_minor": 0
      },
      "text/html": [
       "<p>Failed to display Jupyter Widget of type <code>HBox</code>.</p>\n",
       "<p>\n",
       "  If you're reading this message in the Jupyter Notebook or JupyterLab Notebook, it may mean\n",
       "  that the widgets JavaScript is still loading. If this message persists, it\n",
       "  likely means that the widgets JavaScript library is either not installed or\n",
       "  not enabled. See the <a href=\"https://ipywidgets.readthedocs.io/en/stable/user_install.html\">Jupyter\n",
       "  Widgets Documentation</a> for setup instructions.\n",
       "</p>\n",
       "<p>\n",
       "  If you're reading this message in another frontend (for example, a static\n",
       "  rendering on GitHub or <a href=\"https://nbviewer.jupyter.org/\">NBViewer</a>),\n",
       "  it may mean that your frontend doesn't currently support widgets.\n",
       "</p>\n"
      ],
      "text/plain": [
       "HBox(children=(IntProgress(value=0, description='Epoch', max=1), HTML(value='')))"
      ]
     },
     "metadata": {},
     "output_type": "display_data"
    },
    {
     "name": "stdout",
     "output_type": "stream",
     "text": [
      "  0%|          | 0/469 [00:00<?, ?it/s]\n"
     ]
    },
    {
     "ename": "RuntimeError",
     "evalue": "cuda runtime error (4) : unspecified launch failure at C:/Users/Administrator/Downloads/new-builder/win-wheel/pytorch/aten/src/THC/THCTensorCopy.cu:204",
     "output_type": "error",
     "traceback": [
      "\u001b[1;31m---------------------------------------------------------------------------\u001b[0m",
      "\u001b[1;31mRuntimeError\u001b[0m                              Traceback (most recent call last)",
      "\u001b[1;32m<ipython-input-56-0510517b8367>\u001b[0m in \u001b[0;36m<module>\u001b[1;34m()\u001b[0m\n\u001b[1;32m----> 1\u001b[1;33m \u001b[0mm\u001b[0m\u001b[1;33m.\u001b[0m\u001b[0mlr_find\u001b[0m\u001b[1;33m(\u001b[0m\u001b[1;33m)\u001b[0m\u001b[1;33m\u001b[0m\u001b[0m\n\u001b[0m",
      "\u001b[1;32mC:\\Users\\NokChan\\.kaggle\\competitions\\talkingdata-adtracking-fraud-detection\\fastai\\learner.py\u001b[0m in \u001b[0;36mlr_find\u001b[1;34m(self, start_lr, end_lr, wds, linear, **kwargs)\u001b[0m\n\u001b[0;32m    328\u001b[0m         \u001b[0mlayer_opt\u001b[0m \u001b[1;33m=\u001b[0m \u001b[0mself\u001b[0m\u001b[1;33m.\u001b[0m\u001b[0mget_layer_opt\u001b[0m\u001b[1;33m(\u001b[0m\u001b[0mstart_lr\u001b[0m\u001b[1;33m,\u001b[0m \u001b[0mwds\u001b[0m\u001b[1;33m)\u001b[0m\u001b[1;33m\u001b[0m\u001b[0m\n\u001b[0;32m    329\u001b[0m         \u001b[0mself\u001b[0m\u001b[1;33m.\u001b[0m\u001b[0msched\u001b[0m \u001b[1;33m=\u001b[0m \u001b[0mLR_Finder\u001b[0m\u001b[1;33m(\u001b[0m\u001b[0mlayer_opt\u001b[0m\u001b[1;33m,\u001b[0m \u001b[0mlen\u001b[0m\u001b[1;33m(\u001b[0m\u001b[0mself\u001b[0m\u001b[1;33m.\u001b[0m\u001b[0mdata\u001b[0m\u001b[1;33m.\u001b[0m\u001b[0mtrn_dl\u001b[0m\u001b[1;33m)\u001b[0m\u001b[1;33m,\u001b[0m \u001b[0mend_lr\u001b[0m\u001b[1;33m,\u001b[0m \u001b[0mlinear\u001b[0m\u001b[1;33m=\u001b[0m\u001b[0mlinear\u001b[0m\u001b[1;33m)\u001b[0m\u001b[1;33m\u001b[0m\u001b[0m\n\u001b[1;32m--> 330\u001b[1;33m         \u001b[0mself\u001b[0m\u001b[1;33m.\u001b[0m\u001b[0mfit_gen\u001b[0m\u001b[1;33m(\u001b[0m\u001b[0mself\u001b[0m\u001b[1;33m.\u001b[0m\u001b[0mmodel\u001b[0m\u001b[1;33m,\u001b[0m \u001b[0mself\u001b[0m\u001b[1;33m.\u001b[0m\u001b[0mdata\u001b[0m\u001b[1;33m,\u001b[0m \u001b[0mlayer_opt\u001b[0m\u001b[1;33m,\u001b[0m \u001b[1;36m1\u001b[0m\u001b[1;33m,\u001b[0m \u001b[1;33m**\u001b[0m\u001b[0mkwargs\u001b[0m\u001b[1;33m)\u001b[0m\u001b[1;33m\u001b[0m\u001b[0m\n\u001b[0m\u001b[0;32m    331\u001b[0m         \u001b[0mself\u001b[0m\u001b[1;33m.\u001b[0m\u001b[0mload\u001b[0m\u001b[1;33m(\u001b[0m\u001b[1;34m'tmp'\u001b[0m\u001b[1;33m)\u001b[0m\u001b[1;33m\u001b[0m\u001b[0m\n\u001b[0;32m    332\u001b[0m \u001b[1;33m\u001b[0m\u001b[0m\n",
      "\u001b[1;32mC:\\Users\\NokChan\\.kaggle\\competitions\\talkingdata-adtracking-fraud-detection\\fastai\\learner.py\u001b[0m in \u001b[0;36mfit_gen\u001b[1;34m(self, model, data, layer_opt, n_cycle, cycle_len, cycle_mult, cycle_save_name, best_save_name, use_clr, use_clr_beta, metrics, callbacks, use_wd_sched, norm_wds, wds_sched_mult, use_swa, swa_start, swa_eval_freq, **kwargs)\u001b[0m\n\u001b[0;32m    232\u001b[0m             \u001b[0mmetrics\u001b[0m\u001b[1;33m=\u001b[0m\u001b[0mmetrics\u001b[0m\u001b[1;33m,\u001b[0m \u001b[0mcallbacks\u001b[0m\u001b[1;33m=\u001b[0m\u001b[0mcallbacks\u001b[0m\u001b[1;33m,\u001b[0m \u001b[0mreg_fn\u001b[0m\u001b[1;33m=\u001b[0m\u001b[0mself\u001b[0m\u001b[1;33m.\u001b[0m\u001b[0mreg_fn\u001b[0m\u001b[1;33m,\u001b[0m \u001b[0mclip\u001b[0m\u001b[1;33m=\u001b[0m\u001b[0mself\u001b[0m\u001b[1;33m.\u001b[0m\u001b[0mclip\u001b[0m\u001b[1;33m,\u001b[0m \u001b[0mfp16\u001b[0m\u001b[1;33m=\u001b[0m\u001b[0mself\u001b[0m\u001b[1;33m.\u001b[0m\u001b[0mfp16\u001b[0m\u001b[1;33m,\u001b[0m\u001b[1;33m\u001b[0m\u001b[0m\n\u001b[0;32m    233\u001b[0m             \u001b[0mswa_model\u001b[0m\u001b[1;33m=\u001b[0m\u001b[0mself\u001b[0m\u001b[1;33m.\u001b[0m\u001b[0mswa_model\u001b[0m \u001b[1;32mif\u001b[0m \u001b[0muse_swa\u001b[0m \u001b[1;32melse\u001b[0m \u001b[1;32mNone\u001b[0m\u001b[1;33m,\u001b[0m \u001b[0mswa_start\u001b[0m\u001b[1;33m=\u001b[0m\u001b[0mswa_start\u001b[0m\u001b[1;33m,\u001b[0m\u001b[1;33m\u001b[0m\u001b[0m\n\u001b[1;32m--> 234\u001b[1;33m             swa_eval_freq=swa_eval_freq, **kwargs)\n\u001b[0m\u001b[0;32m    235\u001b[0m \u001b[1;33m\u001b[0m\u001b[0m\n\u001b[0;32m    236\u001b[0m     \u001b[1;32mdef\u001b[0m \u001b[0mget_layer_groups\u001b[0m\u001b[1;33m(\u001b[0m\u001b[0mself\u001b[0m\u001b[1;33m)\u001b[0m\u001b[1;33m:\u001b[0m \u001b[1;32mreturn\u001b[0m \u001b[0mself\u001b[0m\u001b[1;33m.\u001b[0m\u001b[0mmodels\u001b[0m\u001b[1;33m.\u001b[0m\u001b[0mget_layer_groups\u001b[0m\u001b[1;33m(\u001b[0m\u001b[1;33m)\u001b[0m\u001b[1;33m\u001b[0m\u001b[0m\n",
      "\u001b[1;32mC:\\Users\\NokChan\\.kaggle\\competitions\\talkingdata-adtracking-fraud-detection\\fastai\\model.py\u001b[0m in \u001b[0;36mfit\u001b[1;34m(model, data, n_epochs, opt, crit, metrics, callbacks, stepper, swa_model, swa_start, swa_eval_freq, **kwargs)\u001b[0m\n\u001b[0;32m    127\u001b[0m             \u001b[0mbatch_num\u001b[0m \u001b[1;33m+=\u001b[0m \u001b[1;36m1\u001b[0m\u001b[1;33m\u001b[0m\u001b[0m\n\u001b[0;32m    128\u001b[0m             \u001b[1;32mfor\u001b[0m \u001b[0mcb\u001b[0m \u001b[1;32min\u001b[0m \u001b[0mcallbacks\u001b[0m\u001b[1;33m:\u001b[0m \u001b[0mcb\u001b[0m\u001b[1;33m.\u001b[0m\u001b[0mon_batch_begin\u001b[0m\u001b[1;33m(\u001b[0m\u001b[1;33m)\u001b[0m\u001b[1;33m\u001b[0m\u001b[0m\n\u001b[1;32m--> 129\u001b[1;33m             \u001b[0mloss\u001b[0m \u001b[1;33m=\u001b[0m \u001b[0mmodel_stepper\u001b[0m\u001b[1;33m.\u001b[0m\u001b[0mstep\u001b[0m\u001b[1;33m(\u001b[0m\u001b[0mV\u001b[0m\u001b[1;33m(\u001b[0m\u001b[0mx\u001b[0m\u001b[1;33m)\u001b[0m\u001b[1;33m,\u001b[0m\u001b[0mV\u001b[0m\u001b[1;33m(\u001b[0m\u001b[0my\u001b[0m\u001b[1;33m)\u001b[0m\u001b[1;33m,\u001b[0m \u001b[0mepoch\u001b[0m\u001b[1;33m)\u001b[0m\u001b[1;33m\u001b[0m\u001b[0m\n\u001b[0m\u001b[0;32m    130\u001b[0m             \u001b[0mavg_loss\u001b[0m \u001b[1;33m=\u001b[0m \u001b[0mavg_loss\u001b[0m \u001b[1;33m*\u001b[0m \u001b[0mavg_mom\u001b[0m \u001b[1;33m+\u001b[0m \u001b[0mloss\u001b[0m \u001b[1;33m*\u001b[0m \u001b[1;33m(\u001b[0m\u001b[1;36m1\u001b[0m\u001b[1;33m-\u001b[0m\u001b[0mavg_mom\u001b[0m\u001b[1;33m)\u001b[0m\u001b[1;33m\u001b[0m\u001b[0m\n\u001b[0;32m    131\u001b[0m             \u001b[0mdebias_loss\u001b[0m \u001b[1;33m=\u001b[0m \u001b[0mavg_loss\u001b[0m \u001b[1;33m/\u001b[0m \u001b[1;33m(\u001b[0m\u001b[1;36m1\u001b[0m \u001b[1;33m-\u001b[0m \u001b[0mavg_mom\u001b[0m\u001b[1;33m**\u001b[0m\u001b[0mbatch_num\u001b[0m\u001b[1;33m)\u001b[0m\u001b[1;33m\u001b[0m\u001b[0m\n",
      "\u001b[1;32mC:\\Users\\NokChan\\.kaggle\\competitions\\talkingdata-adtracking-fraud-detection\\fastai\\model.py\u001b[0m in \u001b[0;36mstep\u001b[1;34m(self, xs, y, epoch)\u001b[0m\n\u001b[0;32m     46\u001b[0m     \u001b[1;32mdef\u001b[0m \u001b[0mstep\u001b[0m\u001b[1;33m(\u001b[0m\u001b[0mself\u001b[0m\u001b[1;33m,\u001b[0m \u001b[0mxs\u001b[0m\u001b[1;33m,\u001b[0m \u001b[0my\u001b[0m\u001b[1;33m,\u001b[0m \u001b[0mepoch\u001b[0m\u001b[1;33m)\u001b[0m\u001b[1;33m:\u001b[0m\u001b[1;33m\u001b[0m\u001b[0m\n\u001b[0;32m     47\u001b[0m         \u001b[0mxtra\u001b[0m \u001b[1;33m=\u001b[0m \u001b[1;33m[\u001b[0m\u001b[1;33m]\u001b[0m\u001b[1;33m\u001b[0m\u001b[0m\n\u001b[1;32m---> 48\u001b[1;33m         \u001b[0moutput\u001b[0m \u001b[1;33m=\u001b[0m \u001b[0mself\u001b[0m\u001b[1;33m.\u001b[0m\u001b[0mm\u001b[0m\u001b[1;33m(\u001b[0m\u001b[1;33m*\u001b[0m\u001b[0mxs\u001b[0m\u001b[1;33m)\u001b[0m\u001b[1;33m\u001b[0m\u001b[0m\n\u001b[0m\u001b[0;32m     49\u001b[0m         \u001b[1;32mif\u001b[0m \u001b[0misinstance\u001b[0m\u001b[1;33m(\u001b[0m\u001b[0moutput\u001b[0m\u001b[1;33m,\u001b[0m\u001b[0mtuple\u001b[0m\u001b[1;33m)\u001b[0m\u001b[1;33m:\u001b[0m \u001b[0moutput\u001b[0m\u001b[1;33m,\u001b[0m\u001b[1;33m*\u001b[0m\u001b[0mxtra\u001b[0m \u001b[1;33m=\u001b[0m \u001b[0moutput\u001b[0m\u001b[1;33m\u001b[0m\u001b[0m\n\u001b[0;32m     50\u001b[0m         \u001b[1;32mif\u001b[0m \u001b[0mself\u001b[0m\u001b[1;33m.\u001b[0m\u001b[0mfp16\u001b[0m\u001b[1;33m:\u001b[0m \u001b[0mself\u001b[0m\u001b[1;33m.\u001b[0m\u001b[0mm\u001b[0m\u001b[1;33m.\u001b[0m\u001b[0mzero_grad\u001b[0m\u001b[1;33m(\u001b[0m\u001b[1;33m)\u001b[0m\u001b[1;33m\u001b[0m\u001b[0m\n",
      "\u001b[1;32mC:\\Users\\NokChan\\Anaconda3\\envs\\fastai\\lib\\site-packages\\torch\\nn\\modules\\module.py\u001b[0m in \u001b[0;36m__call__\u001b[1;34m(self, *input, **kwargs)\u001b[0m\n\u001b[0;32m    489\u001b[0m             \u001b[0mresult\u001b[0m \u001b[1;33m=\u001b[0m \u001b[0mself\u001b[0m\u001b[1;33m.\u001b[0m\u001b[0m_slow_forward\u001b[0m\u001b[1;33m(\u001b[0m\u001b[1;33m*\u001b[0m\u001b[0minput\u001b[0m\u001b[1;33m,\u001b[0m \u001b[1;33m**\u001b[0m\u001b[0mkwargs\u001b[0m\u001b[1;33m)\u001b[0m\u001b[1;33m\u001b[0m\u001b[0m\n\u001b[0;32m    490\u001b[0m         \u001b[1;32melse\u001b[0m\u001b[1;33m:\u001b[0m\u001b[1;33m\u001b[0m\u001b[0m\n\u001b[1;32m--> 491\u001b[1;33m             \u001b[0mresult\u001b[0m \u001b[1;33m=\u001b[0m \u001b[0mself\u001b[0m\u001b[1;33m.\u001b[0m\u001b[0mforward\u001b[0m\u001b[1;33m(\u001b[0m\u001b[1;33m*\u001b[0m\u001b[0minput\u001b[0m\u001b[1;33m,\u001b[0m \u001b[1;33m**\u001b[0m\u001b[0mkwargs\u001b[0m\u001b[1;33m)\u001b[0m\u001b[1;33m\u001b[0m\u001b[0m\n\u001b[0m\u001b[0;32m    492\u001b[0m         \u001b[1;32mfor\u001b[0m \u001b[0mhook\u001b[0m \u001b[1;32min\u001b[0m \u001b[0mself\u001b[0m\u001b[1;33m.\u001b[0m\u001b[0m_forward_hooks\u001b[0m\u001b[1;33m.\u001b[0m\u001b[0mvalues\u001b[0m\u001b[1;33m(\u001b[0m\u001b[1;33m)\u001b[0m\u001b[1;33m:\u001b[0m\u001b[1;33m\u001b[0m\u001b[0m\n\u001b[0;32m    493\u001b[0m             \u001b[0mhook_result\u001b[0m \u001b[1;33m=\u001b[0m \u001b[0mhook\u001b[0m\u001b[1;33m(\u001b[0m\u001b[0mself\u001b[0m\u001b[1;33m,\u001b[0m \u001b[0minput\u001b[0m\u001b[1;33m,\u001b[0m \u001b[0mresult\u001b[0m\u001b[1;33m)\u001b[0m\u001b[1;33m\u001b[0m\u001b[0m\n",
      "\u001b[1;32mC:\\Users\\NokChan\\.kaggle\\competitions\\talkingdata-adtracking-fraud-detection\\fastai\\column_data.py\u001b[0m in \u001b[0;36mforward\u001b[1;34m(self, x_cat, x_cont)\u001b[0m\n\u001b[0;32m    112\u001b[0m     \u001b[1;32mdef\u001b[0m \u001b[0mforward\u001b[0m\u001b[1;33m(\u001b[0m\u001b[0mself\u001b[0m\u001b[1;33m,\u001b[0m \u001b[0mx_cat\u001b[0m\u001b[1;33m,\u001b[0m \u001b[0mx_cont\u001b[0m\u001b[1;33m)\u001b[0m\u001b[1;33m:\u001b[0m\u001b[1;33m\u001b[0m\u001b[0m\n\u001b[0;32m    113\u001b[0m         \u001b[1;32mif\u001b[0m \u001b[0mself\u001b[0m\u001b[1;33m.\u001b[0m\u001b[0mn_emb\u001b[0m \u001b[1;33m!=\u001b[0m \u001b[1;36m0\u001b[0m\u001b[1;33m:\u001b[0m\u001b[1;33m\u001b[0m\u001b[0m\n\u001b[1;32m--> 114\u001b[1;33m             \u001b[0mx\u001b[0m \u001b[1;33m=\u001b[0m \u001b[1;33m[\u001b[0m\u001b[0me\u001b[0m\u001b[1;33m(\u001b[0m\u001b[0mx_cat\u001b[0m\u001b[1;33m[\u001b[0m\u001b[1;33m:\u001b[0m\u001b[1;33m,\u001b[0m\u001b[0mi\u001b[0m\u001b[1;33m]\u001b[0m\u001b[1;33m)\u001b[0m \u001b[1;32mfor\u001b[0m \u001b[0mi\u001b[0m\u001b[1;33m,\u001b[0m\u001b[0me\u001b[0m \u001b[1;32min\u001b[0m \u001b[0menumerate\u001b[0m\u001b[1;33m(\u001b[0m\u001b[0mself\u001b[0m\u001b[1;33m.\u001b[0m\u001b[0membs\u001b[0m\u001b[1;33m)\u001b[0m\u001b[1;33m]\u001b[0m\u001b[1;33m\u001b[0m\u001b[0m\n\u001b[0m\u001b[0;32m    115\u001b[0m             \u001b[0mx\u001b[0m \u001b[1;33m=\u001b[0m \u001b[0mtorch\u001b[0m\u001b[1;33m.\u001b[0m\u001b[0mcat\u001b[0m\u001b[1;33m(\u001b[0m\u001b[0mx\u001b[0m\u001b[1;33m,\u001b[0m \u001b[1;36m1\u001b[0m\u001b[1;33m)\u001b[0m\u001b[1;33m\u001b[0m\u001b[0m\n\u001b[0;32m    116\u001b[0m             \u001b[0mx\u001b[0m \u001b[1;33m=\u001b[0m \u001b[0mself\u001b[0m\u001b[1;33m.\u001b[0m\u001b[0memb_drop\u001b[0m\u001b[1;33m(\u001b[0m\u001b[0mx\u001b[0m\u001b[1;33m)\u001b[0m\u001b[1;33m\u001b[0m\u001b[0m\n",
      "\u001b[1;32mC:\\Users\\NokChan\\.kaggle\\competitions\\talkingdata-adtracking-fraud-detection\\fastai\\column_data.py\u001b[0m in \u001b[0;36m<listcomp>\u001b[1;34m(.0)\u001b[0m\n\u001b[0;32m    112\u001b[0m     \u001b[1;32mdef\u001b[0m \u001b[0mforward\u001b[0m\u001b[1;33m(\u001b[0m\u001b[0mself\u001b[0m\u001b[1;33m,\u001b[0m \u001b[0mx_cat\u001b[0m\u001b[1;33m,\u001b[0m \u001b[0mx_cont\u001b[0m\u001b[1;33m)\u001b[0m\u001b[1;33m:\u001b[0m\u001b[1;33m\u001b[0m\u001b[0m\n\u001b[0;32m    113\u001b[0m         \u001b[1;32mif\u001b[0m \u001b[0mself\u001b[0m\u001b[1;33m.\u001b[0m\u001b[0mn_emb\u001b[0m \u001b[1;33m!=\u001b[0m \u001b[1;36m0\u001b[0m\u001b[1;33m:\u001b[0m\u001b[1;33m\u001b[0m\u001b[0m\n\u001b[1;32m--> 114\u001b[1;33m             \u001b[0mx\u001b[0m \u001b[1;33m=\u001b[0m \u001b[1;33m[\u001b[0m\u001b[0me\u001b[0m\u001b[1;33m(\u001b[0m\u001b[0mx_cat\u001b[0m\u001b[1;33m[\u001b[0m\u001b[1;33m:\u001b[0m\u001b[1;33m,\u001b[0m\u001b[0mi\u001b[0m\u001b[1;33m]\u001b[0m\u001b[1;33m)\u001b[0m \u001b[1;32mfor\u001b[0m \u001b[0mi\u001b[0m\u001b[1;33m,\u001b[0m\u001b[0me\u001b[0m \u001b[1;32min\u001b[0m \u001b[0menumerate\u001b[0m\u001b[1;33m(\u001b[0m\u001b[0mself\u001b[0m\u001b[1;33m.\u001b[0m\u001b[0membs\u001b[0m\u001b[1;33m)\u001b[0m\u001b[1;33m]\u001b[0m\u001b[1;33m\u001b[0m\u001b[0m\n\u001b[0m\u001b[0;32m    115\u001b[0m             \u001b[0mx\u001b[0m \u001b[1;33m=\u001b[0m \u001b[0mtorch\u001b[0m\u001b[1;33m.\u001b[0m\u001b[0mcat\u001b[0m\u001b[1;33m(\u001b[0m\u001b[0mx\u001b[0m\u001b[1;33m,\u001b[0m \u001b[1;36m1\u001b[0m\u001b[1;33m)\u001b[0m\u001b[1;33m\u001b[0m\u001b[0m\n\u001b[0;32m    116\u001b[0m             \u001b[0mx\u001b[0m \u001b[1;33m=\u001b[0m \u001b[0mself\u001b[0m\u001b[1;33m.\u001b[0m\u001b[0memb_drop\u001b[0m\u001b[1;33m(\u001b[0m\u001b[0mx\u001b[0m\u001b[1;33m)\u001b[0m\u001b[1;33m\u001b[0m\u001b[0m\n",
      "\u001b[1;32mC:\\Users\\NokChan\\Anaconda3\\envs\\fastai\\lib\\site-packages\\torch\\nn\\modules\\module.py\u001b[0m in \u001b[0;36m__call__\u001b[1;34m(self, *input, **kwargs)\u001b[0m\n\u001b[0;32m    489\u001b[0m             \u001b[0mresult\u001b[0m \u001b[1;33m=\u001b[0m \u001b[0mself\u001b[0m\u001b[1;33m.\u001b[0m\u001b[0m_slow_forward\u001b[0m\u001b[1;33m(\u001b[0m\u001b[1;33m*\u001b[0m\u001b[0minput\u001b[0m\u001b[1;33m,\u001b[0m \u001b[1;33m**\u001b[0m\u001b[0mkwargs\u001b[0m\u001b[1;33m)\u001b[0m\u001b[1;33m\u001b[0m\u001b[0m\n\u001b[0;32m    490\u001b[0m         \u001b[1;32melse\u001b[0m\u001b[1;33m:\u001b[0m\u001b[1;33m\u001b[0m\u001b[0m\n\u001b[1;32m--> 491\u001b[1;33m             \u001b[0mresult\u001b[0m \u001b[1;33m=\u001b[0m \u001b[0mself\u001b[0m\u001b[1;33m.\u001b[0m\u001b[0mforward\u001b[0m\u001b[1;33m(\u001b[0m\u001b[1;33m*\u001b[0m\u001b[0minput\u001b[0m\u001b[1;33m,\u001b[0m \u001b[1;33m**\u001b[0m\u001b[0mkwargs\u001b[0m\u001b[1;33m)\u001b[0m\u001b[1;33m\u001b[0m\u001b[0m\n\u001b[0m\u001b[0;32m    492\u001b[0m         \u001b[1;32mfor\u001b[0m \u001b[0mhook\u001b[0m \u001b[1;32min\u001b[0m \u001b[0mself\u001b[0m\u001b[1;33m.\u001b[0m\u001b[0m_forward_hooks\u001b[0m\u001b[1;33m.\u001b[0m\u001b[0mvalues\u001b[0m\u001b[1;33m(\u001b[0m\u001b[1;33m)\u001b[0m\u001b[1;33m:\u001b[0m\u001b[1;33m\u001b[0m\u001b[0m\n\u001b[0;32m    493\u001b[0m             \u001b[0mhook_result\u001b[0m \u001b[1;33m=\u001b[0m \u001b[0mhook\u001b[0m\u001b[1;33m(\u001b[0m\u001b[0mself\u001b[0m\u001b[1;33m,\u001b[0m \u001b[0minput\u001b[0m\u001b[1;33m,\u001b[0m \u001b[0mresult\u001b[0m\u001b[1;33m)\u001b[0m\u001b[1;33m\u001b[0m\u001b[0m\n",
      "\u001b[1;32mC:\\Users\\NokChan\\Anaconda3\\envs\\fastai\\lib\\site-packages\\torch\\nn\\modules\\sparse.py\u001b[0m in \u001b[0;36mforward\u001b[1;34m(self, input)\u001b[0m\n\u001b[0;32m    106\u001b[0m         return F.embedding(\n\u001b[0;32m    107\u001b[0m             \u001b[0minput\u001b[0m\u001b[1;33m,\u001b[0m \u001b[0mself\u001b[0m\u001b[1;33m.\u001b[0m\u001b[0mweight\u001b[0m\u001b[1;33m,\u001b[0m \u001b[0mself\u001b[0m\u001b[1;33m.\u001b[0m\u001b[0mpadding_idx\u001b[0m\u001b[1;33m,\u001b[0m \u001b[0mself\u001b[0m\u001b[1;33m.\u001b[0m\u001b[0mmax_norm\u001b[0m\u001b[1;33m,\u001b[0m\u001b[1;33m\u001b[0m\u001b[0m\n\u001b[1;32m--> 108\u001b[1;33m             self.norm_type, self.scale_grad_by_freq, self.sparse)\n\u001b[0m\u001b[0;32m    109\u001b[0m \u001b[1;33m\u001b[0m\u001b[0m\n\u001b[0;32m    110\u001b[0m     \u001b[1;32mdef\u001b[0m \u001b[0mextra_repr\u001b[0m\u001b[1;33m(\u001b[0m\u001b[0mself\u001b[0m\u001b[1;33m)\u001b[0m\u001b[1;33m:\u001b[0m\u001b[1;33m\u001b[0m\u001b[0m\n",
      "\u001b[1;32mC:\\Users\\NokChan\\Anaconda3\\envs\\fastai\\lib\\site-packages\\torch\\nn\\functional.py\u001b[0m in \u001b[0;36membedding\u001b[1;34m(input, weight, padding_idx, max_norm, norm_type, scale_grad_by_freq, sparse)\u001b[0m\n\u001b[0;32m   1062\u001b[0m                  [ 0.6262,  0.2438,  0.7471]]])\n\u001b[0;32m   1063\u001b[0m     \"\"\"\n\u001b[1;32m-> 1064\u001b[1;33m     \u001b[0minput\u001b[0m \u001b[1;33m=\u001b[0m \u001b[0minput\u001b[0m\u001b[1;33m.\u001b[0m\u001b[0mcontiguous\u001b[0m\u001b[1;33m(\u001b[0m\u001b[1;33m)\u001b[0m\u001b[1;33m\u001b[0m\u001b[0m\n\u001b[0m\u001b[0;32m   1065\u001b[0m     \u001b[1;32mif\u001b[0m \u001b[0mpadding_idx\u001b[0m \u001b[1;32mis\u001b[0m \u001b[1;32mnot\u001b[0m \u001b[1;32mNone\u001b[0m\u001b[1;33m:\u001b[0m\u001b[1;33m\u001b[0m\u001b[0m\n\u001b[0;32m   1066\u001b[0m         \u001b[1;32mif\u001b[0m \u001b[0mpadding_idx\u001b[0m \u001b[1;33m>\u001b[0m \u001b[1;36m0\u001b[0m\u001b[1;33m:\u001b[0m\u001b[1;33m\u001b[0m\u001b[0m\n",
      "\u001b[1;31mRuntimeError\u001b[0m: cuda runtime error (4) : unspecified launch failure at C:/Users/Administrator/Downloads/new-builder/win-wheel/pytorch/aten/src/THC/THCTensorCopy.cu:204"
     ]
    }
   ],
   "source": [
    "m.lr_find()"
   ]
  },
  {
   "cell_type": "code",
   "execution_count": null,
   "metadata": {
    "ExecuteTime": {
     "end_time": "2018-05-01T01:21:00.772845Z",
     "start_time": "2018-05-01T01:20:52.900Z"
    }
   },
   "outputs": [],
   "source": [
    "m.sched.plot(100)"
   ]
  },
  {
   "cell_type": "code",
   "execution_count": null,
   "metadata": {},
   "outputs": [],
   "source": []
  },
  {
   "cell_type": "code",
   "execution_count": null,
   "metadata": {},
   "outputs": [],
   "source": []
  }
 ],
 "metadata": {
  "kernelspec": {
   "display_name": "Python 3",
   "language": "python",
   "name": "python3"
  },
  "language_info": {
   "codemirror_mode": {
    "name": "ipython",
    "version": 3
   },
   "file_extension": ".py",
   "mimetype": "text/x-python",
   "name": "python",
   "nbconvert_exporter": "python",
   "pygments_lexer": "ipython3",
   "version": "3.6.5"
  }
 },
 "nbformat": 4,
 "nbformat_minor": 1
}
