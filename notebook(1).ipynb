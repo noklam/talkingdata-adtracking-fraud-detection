{
 "cells": [
  {
   "cell_type": "code",
   "execution_count": 1,
   "metadata": {
    "ExecuteTime": {
     "end_time": "2018-05-01T16:02:26.202016Z",
     "start_time": "2018-05-01T16:02:24.920859Z"
    },
    "_cell_guid": "91acc64f-1d8a-472c-be6e-2d0b9a27b846",
    "_uuid": "c3188d99f10ffc51feac8624294a1f613e95c924"
   },
   "outputs": [
    {
     "name": "stderr",
     "output_type": "stream",
     "text": [
      "/home/channoklam_cnl/anaconda3/envs/fastai/lib/python3.6/site-packages/sklearn/cross_validation.py:41: DeprecationWarning: This module was deprecated in version 0.18 in favor of the model_selection module into which all the refactored classes and functions are moved. Also note that the interface of the new CV iterators are different from that of this module. This module will be removed in 0.20.\n",
      "  \"This module will be removed in 0.20.\", DeprecationWarning)\n"
     ]
    }
   ],
   "source": [
    "import pandas as pd\n",
    "import time\n",
    "import numpy as np\n",
    "from sklearn.cross_validation import train_test_split\n",
    "# import lightgbm as lgb\n",
    "from pandas_summary import DataFrameSummary\n",
    "pd.options.display.max_columns = 100\n",
    "pd.options.display.max_rows = 50\n",
    "from pathlib import Path\n",
    "from fastai.structured import *"
   ]
  },
  {
   "cell_type": "code",
   "execution_count": 2,
   "metadata": {
    "ExecuteTime": {
     "end_time": "2018-05-01T16:02:26.425089Z",
     "start_time": "2018-05-01T16:02:26.207502Z"
    }
   },
   "outputs": [],
   "source": [
    "import torch"
   ]
  },
  {
   "cell_type": "markdown",
   "metadata": {
    "_cell_guid": "93fb0066-7141-4735-a9f0-ee42a523274a",
    "_uuid": "008baf1d43fc8daf05b76e12f98d593efa5e0f62"
   },
   "source": [
    "## Pre-Processing"
   ]
  },
  {
   "cell_type": "code",
   "execution_count": 8,
   "metadata": {},
   "outputs": [],
   "source": [
    "dtypes = {\n",
    "            'ip'            : 'uint32',\n",
    "            'app'           : 'uint16',\n",
    "            'device'        : 'uint16',\n",
    "            'os'            : 'uint16',\n",
    "            'channel'       : 'uint16',\n",
    "            'is_attributed' : 'uint8',\n",
    "            'click_id'      : 'uint32'\n",
    "            }"
   ]
  },
  {
   "cell_type": "code",
   "execution_count": 4,
   "metadata": {
    "ExecuteTime": {
     "end_time": "2018-05-01T16:39:19.993395Z",
     "start_time": "2018-05-01T16:39:19.973312Z"
    }
   },
   "outputs": [],
   "source": [
    "def prepare_data(sample = False):\n",
    "    if sample == False: nrows = None\n",
    "    else: nrows = 100000\n",
    "    \n",
    "    \n",
    "    path = Path('.')\n",
    "\n",
    "    dtypes = {\n",
    "            'ip'            : 'uint32',\n",
    "            'app'           : 'uint16',\n",
    "            'device'        : 'uint16',\n",
    "            'os'            : 'uint16',\n",
    "            'channel'       : 'uint16',\n",
    "            'is_attributed' : 'uint8',\n",
    "            'click_id'      : 'uint32'\n",
    "            }\n",
    "\n",
    "    print('load train...')\n",
    "    train_df = pd.read_csv(\"train.csv.zip\", nrows=nrows, dtype=dtypes, usecols=['ip','app','device','os', 'channel', 'click_time', 'is_attributed'])\n",
    "    print('load test...')\n",
    "    test_df = pd.read_csv(\"test.csv.zip\", nrows=nrows, dtype=dtypes, usecols=['ip','app','device','os', 'channel', 'click_time', 'click_id'])\n",
    "    \n",
    "    return train_df, test_df"
   ]
  },
  {
   "cell_type": "code",
   "execution_count": 5,
   "metadata": {
    "ExecuteTime": {
     "end_time": "2018-05-01T16:39:20.548472Z",
     "start_time": "2018-05-01T16:39:20.544959Z"
    }
   },
   "outputs": [],
   "source": [
    "sample = False"
   ]
  },
  {
   "cell_type": "code",
   "execution_count": 6,
   "metadata": {
    "ExecuteTime": {
     "end_time": "2018-05-01T16:42:18.191682Z",
     "start_time": "2018-05-01T16:39:20.903437Z"
    }
   },
   "outputs": [
    {
     "name": "stdout",
     "output_type": "stream",
     "text": [
      "load train...\n"
     ]
    },
    {
     "ename": "ParserError",
     "evalue": "Error tokenizing data. C error: Calling read(nbytes) on source failed. Try engine='python'.",
     "output_type": "error",
     "traceback": [
      "\u001b[0;31m---------------------------------------------------------------------------\u001b[0m",
      "\u001b[0;31mParserError\u001b[0m                               Traceback (most recent call last)",
      "\u001b[0;32m<ipython-input-6-5e6043115dcd>\u001b[0m in \u001b[0;36m<module>\u001b[0;34m()\u001b[0m\n\u001b[0;32m----> 1\u001b[0;31m \u001b[0mtrain_df\u001b[0m\u001b[0;34m,\u001b[0m \u001b[0mtest_df\u001b[0m \u001b[0;34m=\u001b[0m \u001b[0mprepare_data\u001b[0m\u001b[0;34m(\u001b[0m\u001b[0msample\u001b[0m \u001b[0;34m=\u001b[0m \u001b[0msample\u001b[0m\u001b[0;34m)\u001b[0m\u001b[0;34m\u001b[0m\u001b[0m\n\u001b[0m",
      "\u001b[0;32m<ipython-input-4-9e1884eded04>\u001b[0m in \u001b[0;36mprepare_data\u001b[0;34m(sample)\u001b[0m\n\u001b[1;32m     17\u001b[0m \u001b[0;34m\u001b[0m\u001b[0m\n\u001b[1;32m     18\u001b[0m     \u001b[0mprint\u001b[0m\u001b[0;34m(\u001b[0m\u001b[0;34m'load train...'\u001b[0m\u001b[0;34m)\u001b[0m\u001b[0;34m\u001b[0m\u001b[0m\n\u001b[0;32m---> 19\u001b[0;31m     \u001b[0mtrain_df\u001b[0m \u001b[0;34m=\u001b[0m \u001b[0mpd\u001b[0m\u001b[0;34m.\u001b[0m\u001b[0mread_csv\u001b[0m\u001b[0;34m(\u001b[0m\u001b[0;34m\"train.csv.zip\"\u001b[0m\u001b[0;34m,\u001b[0m \u001b[0mnrows\u001b[0m\u001b[0;34m=\u001b[0m\u001b[0mnrows\u001b[0m\u001b[0;34m,\u001b[0m \u001b[0mdtype\u001b[0m\u001b[0;34m=\u001b[0m\u001b[0mdtypes\u001b[0m\u001b[0;34m,\u001b[0m \u001b[0musecols\u001b[0m\u001b[0;34m=\u001b[0m\u001b[0;34m[\u001b[0m\u001b[0;34m'ip'\u001b[0m\u001b[0;34m,\u001b[0m\u001b[0;34m'app'\u001b[0m\u001b[0;34m,\u001b[0m\u001b[0;34m'device'\u001b[0m\u001b[0;34m,\u001b[0m\u001b[0;34m'os'\u001b[0m\u001b[0;34m,\u001b[0m \u001b[0;34m'channel'\u001b[0m\u001b[0;34m,\u001b[0m \u001b[0;34m'click_time'\u001b[0m\u001b[0;34m,\u001b[0m \u001b[0;34m'is_attributed'\u001b[0m\u001b[0;34m]\u001b[0m\u001b[0;34m)\u001b[0m\u001b[0;34m\u001b[0m\u001b[0m\n\u001b[0m\u001b[1;32m     20\u001b[0m     \u001b[0mprint\u001b[0m\u001b[0;34m(\u001b[0m\u001b[0;34m'load test...'\u001b[0m\u001b[0;34m)\u001b[0m\u001b[0;34m\u001b[0m\u001b[0m\n\u001b[1;32m     21\u001b[0m     \u001b[0mtest_df\u001b[0m \u001b[0;34m=\u001b[0m \u001b[0mpd\u001b[0m\u001b[0;34m.\u001b[0m\u001b[0mread_csv\u001b[0m\u001b[0;34m(\u001b[0m\u001b[0;34m\"test.csv.zip\"\u001b[0m\u001b[0;34m,\u001b[0m \u001b[0mnrows\u001b[0m\u001b[0;34m=\u001b[0m\u001b[0mnrows\u001b[0m\u001b[0;34m,\u001b[0m \u001b[0mdtype\u001b[0m\u001b[0;34m=\u001b[0m\u001b[0mdtypes\u001b[0m\u001b[0;34m,\u001b[0m \u001b[0musecols\u001b[0m\u001b[0;34m=\u001b[0m\u001b[0;34m[\u001b[0m\u001b[0;34m'ip'\u001b[0m\u001b[0;34m,\u001b[0m\u001b[0;34m'app'\u001b[0m\u001b[0;34m,\u001b[0m\u001b[0;34m'device'\u001b[0m\u001b[0;34m,\u001b[0m\u001b[0;34m'os'\u001b[0m\u001b[0;34m,\u001b[0m \u001b[0;34m'channel'\u001b[0m\u001b[0;34m,\u001b[0m \u001b[0;34m'click_time'\u001b[0m\u001b[0;34m,\u001b[0m \u001b[0;34m'click_id'\u001b[0m\u001b[0;34m]\u001b[0m\u001b[0;34m)\u001b[0m\u001b[0;34m\u001b[0m\u001b[0m\n",
      "\u001b[0;32m~/anaconda3/envs/fastai/lib/python3.6/site-packages/pandas/io/parsers.py\u001b[0m in \u001b[0;36mparser_f\u001b[0;34m(filepath_or_buffer, sep, delimiter, header, names, index_col, usecols, squeeze, prefix, mangle_dupe_cols, dtype, engine, converters, true_values, false_values, skipinitialspace, skiprows, nrows, na_values, keep_default_na, na_filter, verbose, skip_blank_lines, parse_dates, infer_datetime_format, keep_date_col, date_parser, dayfirst, iterator, chunksize, compression, thousands, decimal, lineterminator, quotechar, quoting, escapechar, comment, encoding, dialect, tupleize_cols, error_bad_lines, warn_bad_lines, skipfooter, skip_footer, doublequote, delim_whitespace, as_recarray, compact_ints, use_unsigned, low_memory, buffer_lines, memory_map, float_precision)\u001b[0m\n\u001b[1;32m    707\u001b[0m                     skip_blank_lines=skip_blank_lines)\n\u001b[1;32m    708\u001b[0m \u001b[0;34m\u001b[0m\u001b[0m\n\u001b[0;32m--> 709\u001b[0;31m         \u001b[0;32mreturn\u001b[0m \u001b[0m_read\u001b[0m\u001b[0;34m(\u001b[0m\u001b[0mfilepath_or_buffer\u001b[0m\u001b[0;34m,\u001b[0m \u001b[0mkwds\u001b[0m\u001b[0;34m)\u001b[0m\u001b[0;34m\u001b[0m\u001b[0m\n\u001b[0m\u001b[1;32m    710\u001b[0m \u001b[0;34m\u001b[0m\u001b[0m\n\u001b[1;32m    711\u001b[0m     \u001b[0mparser_f\u001b[0m\u001b[0;34m.\u001b[0m\u001b[0m__name__\u001b[0m \u001b[0;34m=\u001b[0m \u001b[0mname\u001b[0m\u001b[0;34m\u001b[0m\u001b[0m\n",
      "\u001b[0;32m~/anaconda3/envs/fastai/lib/python3.6/site-packages/pandas/io/parsers.py\u001b[0m in \u001b[0;36m_read\u001b[0;34m(filepath_or_buffer, kwds)\u001b[0m\n\u001b[1;32m    453\u001b[0m \u001b[0;34m\u001b[0m\u001b[0m\n\u001b[1;32m    454\u001b[0m     \u001b[0;32mtry\u001b[0m\u001b[0;34m:\u001b[0m\u001b[0;34m\u001b[0m\u001b[0m\n\u001b[0;32m--> 455\u001b[0;31m         \u001b[0mdata\u001b[0m \u001b[0;34m=\u001b[0m \u001b[0mparser\u001b[0m\u001b[0;34m.\u001b[0m\u001b[0mread\u001b[0m\u001b[0;34m(\u001b[0m\u001b[0mnrows\u001b[0m\u001b[0;34m)\u001b[0m\u001b[0;34m\u001b[0m\u001b[0m\n\u001b[0m\u001b[1;32m    456\u001b[0m     \u001b[0;32mfinally\u001b[0m\u001b[0;34m:\u001b[0m\u001b[0;34m\u001b[0m\u001b[0m\n\u001b[1;32m    457\u001b[0m         \u001b[0mparser\u001b[0m\u001b[0;34m.\u001b[0m\u001b[0mclose\u001b[0m\u001b[0;34m(\u001b[0m\u001b[0;34m)\u001b[0m\u001b[0;34m\u001b[0m\u001b[0m\n",
      "\u001b[0;32m~/anaconda3/envs/fastai/lib/python3.6/site-packages/pandas/io/parsers.py\u001b[0m in \u001b[0;36mread\u001b[0;34m(self, nrows)\u001b[0m\n\u001b[1;32m   1067\u001b[0m                 \u001b[0;32mraise\u001b[0m \u001b[0mValueError\u001b[0m\u001b[0;34m(\u001b[0m\u001b[0;34m'skipfooter not supported for iteration'\u001b[0m\u001b[0;34m)\u001b[0m\u001b[0;34m\u001b[0m\u001b[0m\n\u001b[1;32m   1068\u001b[0m \u001b[0;34m\u001b[0m\u001b[0m\n\u001b[0;32m-> 1069\u001b[0;31m         \u001b[0mret\u001b[0m \u001b[0;34m=\u001b[0m \u001b[0mself\u001b[0m\u001b[0;34m.\u001b[0m\u001b[0m_engine\u001b[0m\u001b[0;34m.\u001b[0m\u001b[0mread\u001b[0m\u001b[0;34m(\u001b[0m\u001b[0mnrows\u001b[0m\u001b[0;34m)\u001b[0m\u001b[0;34m\u001b[0m\u001b[0m\n\u001b[0m\u001b[1;32m   1070\u001b[0m \u001b[0;34m\u001b[0m\u001b[0m\n\u001b[1;32m   1071\u001b[0m         \u001b[0;32mif\u001b[0m \u001b[0mself\u001b[0m\u001b[0;34m.\u001b[0m\u001b[0moptions\u001b[0m\u001b[0;34m.\u001b[0m\u001b[0mget\u001b[0m\u001b[0;34m(\u001b[0m\u001b[0;34m'as_recarray'\u001b[0m\u001b[0;34m)\u001b[0m\u001b[0;34m:\u001b[0m\u001b[0;34m\u001b[0m\u001b[0m\n",
      "\u001b[0;32m~/anaconda3/envs/fastai/lib/python3.6/site-packages/pandas/io/parsers.py\u001b[0m in \u001b[0;36mread\u001b[0;34m(self, nrows)\u001b[0m\n\u001b[1;32m   1837\u001b[0m     \u001b[0;32mdef\u001b[0m \u001b[0mread\u001b[0m\u001b[0;34m(\u001b[0m\u001b[0mself\u001b[0m\u001b[0;34m,\u001b[0m \u001b[0mnrows\u001b[0m\u001b[0;34m=\u001b[0m\u001b[0;32mNone\u001b[0m\u001b[0;34m)\u001b[0m\u001b[0;34m:\u001b[0m\u001b[0;34m\u001b[0m\u001b[0m\n\u001b[1;32m   1838\u001b[0m         \u001b[0;32mtry\u001b[0m\u001b[0;34m:\u001b[0m\u001b[0;34m\u001b[0m\u001b[0m\n\u001b[0;32m-> 1839\u001b[0;31m             \u001b[0mdata\u001b[0m \u001b[0;34m=\u001b[0m \u001b[0mself\u001b[0m\u001b[0;34m.\u001b[0m\u001b[0m_reader\u001b[0m\u001b[0;34m.\u001b[0m\u001b[0mread\u001b[0m\u001b[0;34m(\u001b[0m\u001b[0mnrows\u001b[0m\u001b[0;34m)\u001b[0m\u001b[0;34m\u001b[0m\u001b[0m\n\u001b[0m\u001b[1;32m   1840\u001b[0m         \u001b[0;32mexcept\u001b[0m \u001b[0mStopIteration\u001b[0m\u001b[0;34m:\u001b[0m\u001b[0;34m\u001b[0m\u001b[0m\n\u001b[1;32m   1841\u001b[0m             \u001b[0;32mif\u001b[0m \u001b[0mself\u001b[0m\u001b[0;34m.\u001b[0m\u001b[0m_first_chunk\u001b[0m\u001b[0;34m:\u001b[0m\u001b[0;34m\u001b[0m\u001b[0m\n",
      "\u001b[0;32mpandas/_libs/parsers.pyx\u001b[0m in \u001b[0;36mpandas._libs.parsers.TextReader.read\u001b[0;34m()\u001b[0m\n",
      "\u001b[0;32mpandas/_libs/parsers.pyx\u001b[0m in \u001b[0;36mpandas._libs.parsers.TextReader._read_low_memory\u001b[0;34m()\u001b[0m\n",
      "\u001b[0;32mpandas/_libs/parsers.pyx\u001b[0m in \u001b[0;36mpandas._libs.parsers.TextReader._read_rows\u001b[0;34m()\u001b[0m\n",
      "\u001b[0;32mpandas/_libs/parsers.pyx\u001b[0m in \u001b[0;36mpandas._libs.parsers.TextReader._tokenize_rows\u001b[0;34m()\u001b[0m\n",
      "\u001b[0;32mpandas/_libs/parsers.pyx\u001b[0m in \u001b[0;36mpandas._libs.parsers.raise_parser_error\u001b[0;34m()\u001b[0m\n",
      "\u001b[0;31mParserError\u001b[0m: Error tokenizing data. C error: Calling read(nbytes) on source failed. Try engine='python'."
     ]
    }
   ],
   "source": [
    "train_df, test_df = prepare_data(sample = sample)"
   ]
  },
  {
   "cell_type": "code",
   "execution_count": null,
   "metadata": {
    "ExecuteTime": {
     "end_time": "2018-05-01T16:42:18.215245Z",
     "start_time": "2018-05-01T16:42:18.199202Z"
    }
   },
   "outputs": [],
   "source": [
    "train_df.shape, test_df.shape"
   ]
  },
  {
   "cell_type": "code",
   "execution_count": null,
   "metadata": {},
   "outputs": [],
   "source": [
    "train_df.head()"
   ]
  },
  {
   "cell_type": "code",
   "execution_count": null,
   "metadata": {
    "scrolled": true
   },
   "outputs": [],
   "source": [
    "train_df.click_time.max()"
   ]
  },
  {
   "cell_type": "code",
   "execution_count": null,
   "metadata": {},
   "outputs": [],
   "source": [
    "train_df.click_time.min()"
   ]
  },
  {
   "cell_type": "code",
   "execution_count": null,
   "metadata": {},
   "outputs": [],
   "source": [
    "train_df.memory_usage()/1028/1028"
   ]
  },
  {
   "cell_type": "code",
   "execution_count": null,
   "metadata": {
    "scrolled": false
   },
   "outputs": [],
   "source": [
    "test_df.memory_usage()/1028/1028"
   ]
  },
  {
   "cell_type": "code",
   "execution_count": null,
   "metadata": {
    "ExecuteTime": {
     "end_time": "2018-05-01T16:42:18.230787Z",
     "start_time": "2018-05-01T16:42:18.218255Z"
    }
   },
   "outputs": [],
   "source": [
    "train_df.shape"
   ]
  },
  {
   "cell_type": "code",
   "execution_count": null,
   "metadata": {},
   "outputs": [],
   "source": [
    "train_df.dtypes"
   ]
  },
  {
   "cell_type": "code",
   "execution_count": null,
   "metadata": {
    "ExecuteTime": {
     "end_time": "2018-05-01T16:43:23.225332Z",
     "start_time": "2018-05-01T16:42:18.234296Z"
    },
    "_cell_guid": "0c859849-119a-4f01-aa32-e9194559755d",
    "_uuid": "9929f0af4c9f130276df5a101f10409b2393a042"
   },
   "outputs": [],
   "source": [
    "train_df.click_time = pd.to_datetime(train_df.click_time)\n",
    "test_df.click_time = pd.to_datetime(test_df.click_time)"
   ]
  },
  {
   "cell_type": "code",
   "execution_count": 9,
   "metadata": {
    "ExecuteTime": {
     "end_time": "2018-05-01T16:43:23.279476Z",
     "start_time": "2018-05-01T16:43:23.233855Z"
    },
    "_cell_guid": "01f91c63-581e-4f9a-aab4-f29afe89c1c7",
    "_uuid": "7f5236280898c1b2a842ca508cce470d8a034d45"
   },
   "outputs": [],
   "source": [
    "def add_datepart(df, fldname, drop=True):\n",
    "\n",
    "    fld = df[fldname]\n",
    "    if not np.issubdtype(fld.dtype, np.datetime64):\n",
    "        df[fldname] = fld = pd.to_datetime(fld, infer_datetime_format=True)\n",
    "    targ_pre = re.sub('[Dd]ate$', '', fldname)\n",
    "    for n in ( 'Day','Hour','Minute','Second'\n",
    "             ):\n",
    "        df[targ_pre+n] = getattr(fld.dt,n.lower()).astype(np.int8)\n",
    "    df[targ_pre+'Elapsed'] = fld.astype(np.int64) // 10**9\n",
    "    if drop: df.drop(fldname, axis=1, inplace=True)"
   ]
  },
  {
   "cell_type": "code",
   "execution_count": null,
   "metadata": {
    "ExecuteTime": {
     "end_time": "2018-05-01T16:43:23.298527Z",
     "start_time": "2018-05-01T16:43:23.290004Z"
    },
    "_cell_guid": "147939f7-2b8c-49be-951d-d3a9af4c3ceb",
    "_uuid": "07b497514135ca15b75ff65a59c2ea09a7e82ad5"
   },
   "outputs": [],
   "source": [
    "# tables = [train_df, test_df]\n",
    "# from IPython.display import HTML\n",
    "# for t in tables:\n",
    "#     df = DataFrameSummary(t)\n",
    "#     display(t.head())\n",
    "#     display(df.summary())"
   ]
  },
  {
   "cell_type": "code",
   "execution_count": null,
   "metadata": {
    "ExecuteTime": {
     "end_time": "2018-05-01T16:43:23.310559Z",
     "start_time": "2018-05-01T16:43:23.302036Z"
    },
    "_cell_guid": "1dcfc02c-ea89-4a09-9a36-a0c2d12d6ed2",
    "_uuid": "c6e8d3bdfa3358c815cc35e3aa4f7c28ab5be875",
    "scrolled": true
   },
   "outputs": [],
   "source": [
    "# train_df.click_time.describe()"
   ]
  },
  {
   "cell_type": "code",
   "execution_count": null,
   "metadata": {
    "ExecuteTime": {
     "end_time": "2018-05-01T16:43:23.325097Z",
     "start_time": "2018-05-01T16:43:23.315573Z"
    },
    "_cell_guid": "f9969495-f8ef-4ade-8b5a-91ec97bf2d87",
    "_uuid": "260e0b2543d5bc0ca45b7df33add5c89f614cf53"
   },
   "outputs": [],
   "source": [
    "# test_df.click_time.describe()"
   ]
  },
  {
   "cell_type": "code",
   "execution_count": null,
   "metadata": {},
   "outputs": [],
   "source": [
    "test_df.memory_usage().sum()/1028/1028"
   ]
  },
  {
   "cell_type": "code",
   "execution_count": null,
   "metadata": {},
   "outputs": [],
   "source": [
    "train_df.memory_usage().sum()/1028/1028"
   ]
  },
  {
   "cell_type": "code",
   "execution_count": null,
   "metadata": {
    "ExecuteTime": {
     "end_time": "2018-05-01T16:43:31.951511Z",
     "start_time": "2018-05-01T16:43:23.329109Z"
    },
    "_cell_guid": "04adf489-dd08-4d93-8005-160ee000633d",
    "_uuid": "d327b6e9775de4e41fb5e37d9663b8cbe95fe9f2"
   },
   "outputs": [],
   "source": [
    "import gc\n",
    "import re\n",
    "\n",
    "n_train = len(train_df)\n",
    "train_df=train_df.append(test_df)\n",
    "\n",
    "del test_df\n",
    "gc.collect()"
   ]
  },
  {
   "cell_type": "code",
   "execution_count": null,
   "metadata": {},
   "outputs": [],
   "source": [
    "train_df.memory_usage()/1024/1024"
   ]
  },
  {
   "cell_type": "code",
   "execution_count": null,
   "metadata": {
    "scrolled": true
   },
   "outputs": [],
   "source": [
    "train_df['is_attributed'].fillna(-1,inplace=True)\n",
    "train_df['is_attributed'] = train_df['is_attributed'].astype(np.int8);"
   ]
  },
  {
   "cell_type": "code",
   "execution_count": null,
   "metadata": {},
   "outputs": [],
   "source": [
    "train_df['click_id'].fillna(-1,inplace=True)\n",
    "train_df['click_id'] = train_df['click_id'].astype(np.int8)"
   ]
  },
  {
   "cell_type": "code",
   "execution_count": null,
   "metadata": {},
   "outputs": [],
   "source": [
    "train_df.memory_usage()/1024/1024"
   ]
  },
  {
   "cell_type": "code",
   "execution_count": null,
   "metadata": {},
   "outputs": [],
   "source": [
    "# train_df.to_csv('tmp.csv',index=False)"
   ]
  },
  {
   "cell_type": "code",
   "execution_count": null,
   "metadata": {},
   "outputs": [],
   "source": [
    "train_df.memory_usage().sum()/1028/1028"
   ]
  },
  {
   "cell_type": "code",
   "execution_count": 13,
   "metadata": {},
   "outputs": [
    {
     "data": {
      "text/plain": [
       "Index                 0.000076\n",
       "app                  19.073486\n",
       "channel              19.073486\n",
       "click_id             38.146973\n",
       "device               19.073486\n",
       "ip                   38.146973\n",
       "is_attributed         9.536743\n",
       "os                   19.073486\n",
       "click_timeDay         9.536743\n",
       "click_timeHour        9.536743\n",
       "click_timeMinute      9.536743\n",
       "click_timeSecond      9.536743\n",
       "click_timeElapsed    76.293945\n",
       "dtype: float64"
      ]
     },
     "execution_count": 13,
     "metadata": {},
     "output_type": "execute_result"
    }
   ],
   "source": [
    "train_df[0].memory_usage()/1024/1024"
   ]
  },
  {
   "cell_type": "code",
   "execution_count": 20,
   "metadata": {},
   "outputs": [],
   "source": [
    "import gc"
   ]
  },
  {
   "cell_type": "code",
   "execution_count": 15,
   "metadata": {
    "ExecuteTime": {
     "end_time": "2018-05-01T16:43:31.951511Z",
     "start_time": "2018-05-01T16:43:23.329109Z"
    },
    "_cell_guid": "04adf489-dd08-4d93-8005-160ee000633d",
    "_uuid": "d327b6e9775de4e41fb5e37d9663b8cbe95fe9f2",
    "collapsed": true
   },
   "outputs": [
    {
     "name": "stdout",
     "output_type": "stream",
     "text": [
      "0\n",
      "CPU times: user 14.1 s, sys: 235 ms, total: 14.3 s\n",
      "Wall time: 3.96 s\n"
     ]
    },
    {
     "data": {
      "text/html": [
       "<div>\n",
       "<style scoped>\n",
       "    .dataframe tbody tr th:only-of-type {\n",
       "        vertical-align: middle;\n",
       "    }\n",
       "\n",
       "    .dataframe tbody tr th {\n",
       "        vertical-align: top;\n",
       "    }\n",
       "\n",
       "    .dataframe thead th {\n",
       "        text-align: right;\n",
       "    }\n",
       "</style>\n",
       "<table border=\"1\" class=\"dataframe\">\n",
       "  <thead>\n",
       "    <tr style=\"text-align: right;\">\n",
       "      <th></th>\n",
       "      <th>app</th>\n",
       "      <th>channel</th>\n",
       "      <th>click_id</th>\n",
       "      <th>device</th>\n",
       "      <th>ip</th>\n",
       "      <th>is_attributed</th>\n",
       "      <th>os</th>\n",
       "      <th>click_timeDay</th>\n",
       "      <th>click_timeHour</th>\n",
       "      <th>click_timeMinute</th>\n",
       "      <th>click_timeSecond</th>\n",
       "      <th>click_timeElapsed</th>\n",
       "    </tr>\n",
       "  </thead>\n",
       "  <tbody>\n",
       "    <tr>\n",
       "      <th>0</th>\n",
       "      <td>3</td>\n",
       "      <td>379</td>\n",
       "      <td>4294967295</td>\n",
       "      <td>1</td>\n",
       "      <td>83230</td>\n",
       "      <td>0</td>\n",
       "      <td>13</td>\n",
       "      <td>6</td>\n",
       "      <td>14</td>\n",
       "      <td>32</td>\n",
       "      <td>21</td>\n",
       "      <td>1509978741</td>\n",
       "    </tr>\n",
       "    <tr>\n",
       "      <th>1</th>\n",
       "      <td>3</td>\n",
       "      <td>379</td>\n",
       "      <td>4294967295</td>\n",
       "      <td>1</td>\n",
       "      <td>17357</td>\n",
       "      <td>0</td>\n",
       "      <td>19</td>\n",
       "      <td>6</td>\n",
       "      <td>14</td>\n",
       "      <td>33</td>\n",
       "      <td>34</td>\n",
       "      <td>1509978814</td>\n",
       "    </tr>\n",
       "    <tr>\n",
       "      <th>2</th>\n",
       "      <td>3</td>\n",
       "      <td>379</td>\n",
       "      <td>4294967295</td>\n",
       "      <td>1</td>\n",
       "      <td>35810</td>\n",
       "      <td>0</td>\n",
       "      <td>13</td>\n",
       "      <td>6</td>\n",
       "      <td>14</td>\n",
       "      <td>34</td>\n",
       "      <td>12</td>\n",
       "      <td>1509978852</td>\n",
       "    </tr>\n",
       "    <tr>\n",
       "      <th>3</th>\n",
       "      <td>14</td>\n",
       "      <td>478</td>\n",
       "      <td>4294967295</td>\n",
       "      <td>1</td>\n",
       "      <td>45745</td>\n",
       "      <td>0</td>\n",
       "      <td>13</td>\n",
       "      <td>6</td>\n",
       "      <td>14</td>\n",
       "      <td>34</td>\n",
       "      <td>52</td>\n",
       "      <td>1509978892</td>\n",
       "    </tr>\n",
       "    <tr>\n",
       "      <th>4</th>\n",
       "      <td>3</td>\n",
       "      <td>379</td>\n",
       "      <td>4294967295</td>\n",
       "      <td>1</td>\n",
       "      <td>161007</td>\n",
       "      <td>0</td>\n",
       "      <td>13</td>\n",
       "      <td>6</td>\n",
       "      <td>14</td>\n",
       "      <td>35</td>\n",
       "      <td>8</td>\n",
       "      <td>1509978908</td>\n",
       "    </tr>\n",
       "  </tbody>\n",
       "</table>\n",
       "</div>"
      ],
      "text/plain": [
       "   app  channel    click_id  device      ip  is_attributed  os  click_timeDay  \\\n",
       "0    3      379  4294967295       1   83230              0  13              6   \n",
       "1    3      379  4294967295       1   17357              0  19              6   \n",
       "2    3      379  4294967295       1   35810              0  13              6   \n",
       "3   14      478  4294967295       1   45745              0  13              6   \n",
       "4    3      379  4294967295       1  161007              0  13              6   \n",
       "\n",
       "   click_timeHour  click_timeMinute  click_timeSecond  click_timeElapsed  \n",
       "0              14                32                21         1509978741  \n",
       "1              14                33                34         1509978814  \n",
       "2              14                34                12         1509978852  \n",
       "3              14                34                52         1509978892  \n",
       "4              14                35                 8         1509978908  "
      ]
     },
     "metadata": {},
     "output_type": "display_data"
    },
    {
     "name": "stdout",
     "output_type": "stream",
     "text": [
      "1\n",
      "CPU times: user 13.9 s, sys: 243 ms, total: 14.2 s\n",
      "Wall time: 3.92 s\n"
     ]
    },
    {
     "data": {
      "text/html": [
       "<div>\n",
       "<style scoped>\n",
       "    .dataframe tbody tr th:only-of-type {\n",
       "        vertical-align: middle;\n",
       "    }\n",
       "\n",
       "    .dataframe tbody tr th {\n",
       "        vertical-align: top;\n",
       "    }\n",
       "\n",
       "    .dataframe thead th {\n",
       "        text-align: right;\n",
       "    }\n",
       "</style>\n",
       "<table border=\"1\" class=\"dataframe\">\n",
       "  <thead>\n",
       "    <tr style=\"text-align: right;\">\n",
       "      <th></th>\n",
       "      <th>app</th>\n",
       "      <th>channel</th>\n",
       "      <th>click_id</th>\n",
       "      <th>device</th>\n",
       "      <th>ip</th>\n",
       "      <th>is_attributed</th>\n",
       "      <th>os</th>\n",
       "      <th>click_timeDay</th>\n",
       "      <th>click_timeHour</th>\n",
       "      <th>click_timeMinute</th>\n",
       "      <th>click_timeSecond</th>\n",
       "      <th>click_timeElapsed</th>\n",
       "    </tr>\n",
       "  </thead>\n",
       "  <tbody>\n",
       "    <tr>\n",
       "      <th>10000000</th>\n",
       "      <td>15</td>\n",
       "      <td>245</td>\n",
       "      <td>4294967295</td>\n",
       "      <td>1</td>\n",
       "      <td>117021</td>\n",
       "      <td>0</td>\n",
       "      <td>22</td>\n",
       "      <td>7</td>\n",
       "      <td>0</td>\n",
       "      <td>12</td>\n",
       "      <td>3</td>\n",
       "      <td>1510013523</td>\n",
       "    </tr>\n",
       "    <tr>\n",
       "      <th>10000001</th>\n",
       "      <td>3</td>\n",
       "      <td>211</td>\n",
       "      <td>4294967295</td>\n",
       "      <td>1</td>\n",
       "      <td>5348</td>\n",
       "      <td>0</td>\n",
       "      <td>13</td>\n",
       "      <td>7</td>\n",
       "      <td>0</td>\n",
       "      <td>12</td>\n",
       "      <td>3</td>\n",
       "      <td>1510013523</td>\n",
       "    </tr>\n",
       "    <tr>\n",
       "      <th>10000002</th>\n",
       "      <td>2</td>\n",
       "      <td>435</td>\n",
       "      <td>4294967295</td>\n",
       "      <td>1</td>\n",
       "      <td>27815</td>\n",
       "      <td>0</td>\n",
       "      <td>19</td>\n",
       "      <td>7</td>\n",
       "      <td>0</td>\n",
       "      <td>12</td>\n",
       "      <td>3</td>\n",
       "      <td>1510013523</td>\n",
       "    </tr>\n",
       "    <tr>\n",
       "      <th>10000003</th>\n",
       "      <td>1</td>\n",
       "      <td>118</td>\n",
       "      <td>4294967295</td>\n",
       "      <td>1</td>\n",
       "      <td>80306</td>\n",
       "      <td>0</td>\n",
       "      <td>22</td>\n",
       "      <td>7</td>\n",
       "      <td>0</td>\n",
       "      <td>12</td>\n",
       "      <td>3</td>\n",
       "      <td>1510013523</td>\n",
       "    </tr>\n",
       "    <tr>\n",
       "      <th>10000004</th>\n",
       "      <td>3</td>\n",
       "      <td>489</td>\n",
       "      <td>4294967295</td>\n",
       "      <td>1</td>\n",
       "      <td>115066</td>\n",
       "      <td>0</td>\n",
       "      <td>13</td>\n",
       "      <td>7</td>\n",
       "      <td>0</td>\n",
       "      <td>12</td>\n",
       "      <td>4</td>\n",
       "      <td>1510013524</td>\n",
       "    </tr>\n",
       "  </tbody>\n",
       "</table>\n",
       "</div>"
      ],
      "text/plain": [
       "          app  channel    click_id  device      ip  is_attributed  os  \\\n",
       "10000000   15      245  4294967295       1  117021              0  22   \n",
       "10000001    3      211  4294967295       1    5348              0  13   \n",
       "10000002    2      435  4294967295       1   27815              0  19   \n",
       "10000003    1      118  4294967295       1   80306              0  22   \n",
       "10000004    3      489  4294967295       1  115066              0  13   \n",
       "\n",
       "          click_timeDay  click_timeHour  click_timeMinute  click_timeSecond  \\\n",
       "10000000              7               0                12                 3   \n",
       "10000001              7               0                12                 3   \n",
       "10000002              7               0                12                 3   \n",
       "10000003              7               0                12                 3   \n",
       "10000004              7               0                12                 4   \n",
       "\n",
       "          click_timeElapsed  \n",
       "10000000         1510013523  \n",
       "10000001         1510013523  \n",
       "10000002         1510013523  \n",
       "10000003         1510013523  \n",
       "10000004         1510013524  "
      ]
     },
     "metadata": {},
     "output_type": "display_data"
    },
    {
     "name": "stdout",
     "output_type": "stream",
     "text": [
      "2\n",
      "CPU times: user 14.7 s, sys: 351 ms, total: 15 s\n",
      "Wall time: 4.25 s\n"
     ]
    },
    {
     "data": {
      "text/html": [
       "<div>\n",
       "<style scoped>\n",
       "    .dataframe tbody tr th:only-of-type {\n",
       "        vertical-align: middle;\n",
       "    }\n",
       "\n",
       "    .dataframe tbody tr th {\n",
       "        vertical-align: top;\n",
       "    }\n",
       "\n",
       "    .dataframe thead th {\n",
       "        text-align: right;\n",
       "    }\n",
       "</style>\n",
       "<table border=\"1\" class=\"dataframe\">\n",
       "  <thead>\n",
       "    <tr style=\"text-align: right;\">\n",
       "      <th></th>\n",
       "      <th>app</th>\n",
       "      <th>channel</th>\n",
       "      <th>click_id</th>\n",
       "      <th>device</th>\n",
       "      <th>ip</th>\n",
       "      <th>is_attributed</th>\n",
       "      <th>os</th>\n",
       "      <th>click_timeDay</th>\n",
       "      <th>click_timeHour</th>\n",
       "      <th>click_timeMinute</th>\n",
       "      <th>click_timeSecond</th>\n",
       "      <th>click_timeElapsed</th>\n",
       "    </tr>\n",
       "  </thead>\n",
       "  <tbody>\n",
       "    <tr>\n",
       "      <th>20000000</th>\n",
       "      <td>9</td>\n",
       "      <td>442</td>\n",
       "      <td>4294967295</td>\n",
       "      <td>1</td>\n",
       "      <td>66793</td>\n",
       "      <td>0</td>\n",
       "      <td>19</td>\n",
       "      <td>7</td>\n",
       "      <td>3</td>\n",
       "      <td>12</td>\n",
       "      <td>43</td>\n",
       "      <td>1510024363</td>\n",
       "    </tr>\n",
       "    <tr>\n",
       "      <th>20000001</th>\n",
       "      <td>3</td>\n",
       "      <td>115</td>\n",
       "      <td>4294967295</td>\n",
       "      <td>1</td>\n",
       "      <td>20970</td>\n",
       "      <td>0</td>\n",
       "      <td>19</td>\n",
       "      <td>7</td>\n",
       "      <td>3</td>\n",
       "      <td>12</td>\n",
       "      <td>43</td>\n",
       "      <td>1510024363</td>\n",
       "    </tr>\n",
       "    <tr>\n",
       "      <th>20000002</th>\n",
       "      <td>18</td>\n",
       "      <td>134</td>\n",
       "      <td>4294967295</td>\n",
       "      <td>1</td>\n",
       "      <td>49197</td>\n",
       "      <td>0</td>\n",
       "      <td>6</td>\n",
       "      <td>7</td>\n",
       "      <td>3</td>\n",
       "      <td>12</td>\n",
       "      <td>43</td>\n",
       "      <td>1510024363</td>\n",
       "    </tr>\n",
       "    <tr>\n",
       "      <th>20000003</th>\n",
       "      <td>12</td>\n",
       "      <td>259</td>\n",
       "      <td>4294967295</td>\n",
       "      <td>1</td>\n",
       "      <td>116581</td>\n",
       "      <td>0</td>\n",
       "      <td>13</td>\n",
       "      <td>7</td>\n",
       "      <td>3</td>\n",
       "      <td>12</td>\n",
       "      <td>43</td>\n",
       "      <td>1510024363</td>\n",
       "    </tr>\n",
       "    <tr>\n",
       "      <th>20000004</th>\n",
       "      <td>15</td>\n",
       "      <td>386</td>\n",
       "      <td>4294967295</td>\n",
       "      <td>1</td>\n",
       "      <td>38575</td>\n",
       "      <td>0</td>\n",
       "      <td>19</td>\n",
       "      <td>7</td>\n",
       "      <td>3</td>\n",
       "      <td>12</td>\n",
       "      <td>43</td>\n",
       "      <td>1510024363</td>\n",
       "    </tr>\n",
       "  </tbody>\n",
       "</table>\n",
       "</div>"
      ],
      "text/plain": [
       "          app  channel    click_id  device      ip  is_attributed  os  \\\n",
       "20000000    9      442  4294967295       1   66793              0  19   \n",
       "20000001    3      115  4294967295       1   20970              0  19   \n",
       "20000002   18      134  4294967295       1   49197              0   6   \n",
       "20000003   12      259  4294967295       1  116581              0  13   \n",
       "20000004   15      386  4294967295       1   38575              0  19   \n",
       "\n",
       "          click_timeDay  click_timeHour  click_timeMinute  click_timeSecond  \\\n",
       "20000000              7               3                12                43   \n",
       "20000001              7               3                12                43   \n",
       "20000002              7               3                12                43   \n",
       "20000003              7               3                12                43   \n",
       "20000004              7               3                12                43   \n",
       "\n",
       "          click_timeElapsed  \n",
       "20000000         1510024363  \n",
       "20000001         1510024363  \n",
       "20000002         1510024363  \n",
       "20000003         1510024363  \n",
       "20000004         1510024363  "
      ]
     },
     "metadata": {},
     "output_type": "display_data"
    },
    {
     "name": "stdout",
     "output_type": "stream",
     "text": [
      "3\n",
      "CPU times: user 14.7 s, sys: 828 ms, total: 15.6 s\n",
      "Wall time: 4.12 s\n"
     ]
    },
    {
     "data": {
      "text/html": [
       "<div>\n",
       "<style scoped>\n",
       "    .dataframe tbody tr th:only-of-type {\n",
       "        vertical-align: middle;\n",
       "    }\n",
       "\n",
       "    .dataframe tbody tr th {\n",
       "        vertical-align: top;\n",
       "    }\n",
       "\n",
       "    .dataframe thead th {\n",
       "        text-align: right;\n",
       "    }\n",
       "</style>\n",
       "<table border=\"1\" class=\"dataframe\">\n",
       "  <thead>\n",
       "    <tr style=\"text-align: right;\">\n",
       "      <th></th>\n",
       "      <th>app</th>\n",
       "      <th>channel</th>\n",
       "      <th>click_id</th>\n",
       "      <th>device</th>\n",
       "      <th>ip</th>\n",
       "      <th>is_attributed</th>\n",
       "      <th>os</th>\n",
       "      <th>click_timeDay</th>\n",
       "      <th>click_timeHour</th>\n",
       "      <th>click_timeMinute</th>\n",
       "      <th>click_timeSecond</th>\n",
       "      <th>click_timeElapsed</th>\n",
       "    </tr>\n",
       "  </thead>\n",
       "  <tbody>\n",
       "    <tr>\n",
       "      <th>30000000</th>\n",
       "      <td>14</td>\n",
       "      <td>489</td>\n",
       "      <td>4294967295</td>\n",
       "      <td>1</td>\n",
       "      <td>114719</td>\n",
       "      <td>0</td>\n",
       "      <td>15</td>\n",
       "      <td>7</td>\n",
       "      <td>6</td>\n",
       "      <td>11</td>\n",
       "      <td>54</td>\n",
       "      <td>1510035114</td>\n",
       "    </tr>\n",
       "    <tr>\n",
       "      <th>30000001</th>\n",
       "      <td>2</td>\n",
       "      <td>122</td>\n",
       "      <td>4294967295</td>\n",
       "      <td>1</td>\n",
       "      <td>73213</td>\n",
       "      <td>0</td>\n",
       "      <td>19</td>\n",
       "      <td>7</td>\n",
       "      <td>6</td>\n",
       "      <td>11</td>\n",
       "      <td>54</td>\n",
       "      <td>1510035114</td>\n",
       "    </tr>\n",
       "    <tr>\n",
       "      <th>30000002</th>\n",
       "      <td>3</td>\n",
       "      <td>280</td>\n",
       "      <td>4294967295</td>\n",
       "      <td>1</td>\n",
       "      <td>34036</td>\n",
       "      <td>0</td>\n",
       "      <td>19</td>\n",
       "      <td>7</td>\n",
       "      <td>6</td>\n",
       "      <td>11</td>\n",
       "      <td>54</td>\n",
       "      <td>1510035114</td>\n",
       "    </tr>\n",
       "    <tr>\n",
       "      <th>30000003</th>\n",
       "      <td>15</td>\n",
       "      <td>315</td>\n",
       "      <td>4294967295</td>\n",
       "      <td>1</td>\n",
       "      <td>64202</td>\n",
       "      <td>0</td>\n",
       "      <td>41</td>\n",
       "      <td>7</td>\n",
       "      <td>6</td>\n",
       "      <td>11</td>\n",
       "      <td>54</td>\n",
       "      <td>1510035114</td>\n",
       "    </tr>\n",
       "    <tr>\n",
       "      <th>30000004</th>\n",
       "      <td>18</td>\n",
       "      <td>134</td>\n",
       "      <td>4294967295</td>\n",
       "      <td>1</td>\n",
       "      <td>7647</td>\n",
       "      <td>0</td>\n",
       "      <td>19</td>\n",
       "      <td>7</td>\n",
       "      <td>6</td>\n",
       "      <td>11</td>\n",
       "      <td>54</td>\n",
       "      <td>1510035114</td>\n",
       "    </tr>\n",
       "  </tbody>\n",
       "</table>\n",
       "</div>"
      ],
      "text/plain": [
       "          app  channel    click_id  device      ip  is_attributed  os  \\\n",
       "30000000   14      489  4294967295       1  114719              0  15   \n",
       "30000001    2      122  4294967295       1   73213              0  19   \n",
       "30000002    3      280  4294967295       1   34036              0  19   \n",
       "30000003   15      315  4294967295       1   64202              0  41   \n",
       "30000004   18      134  4294967295       1    7647              0  19   \n",
       "\n",
       "          click_timeDay  click_timeHour  click_timeMinute  click_timeSecond  \\\n",
       "30000000              7               6                11                54   \n",
       "30000001              7               6                11                54   \n",
       "30000002              7               6                11                54   \n",
       "30000003              7               6                11                54   \n",
       "30000004              7               6                11                54   \n",
       "\n",
       "          click_timeElapsed  \n",
       "30000000         1510035114  \n",
       "30000001         1510035114  \n",
       "30000002         1510035114  \n",
       "30000003         1510035114  \n",
       "30000004         1510035114  "
      ]
     },
     "metadata": {},
     "output_type": "display_data"
    },
    {
     "name": "stdout",
     "output_type": "stream",
     "text": [
      "4\n",
      "CPU times: user 14.7 s, sys: 1.26 s, total: 16 s\n",
      "Wall time: 4.16 s\n"
     ]
    },
    {
     "data": {
      "text/html": [
       "<div>\n",
       "<style scoped>\n",
       "    .dataframe tbody tr th:only-of-type {\n",
       "        vertical-align: middle;\n",
       "    }\n",
       "\n",
       "    .dataframe tbody tr th {\n",
       "        vertical-align: top;\n",
       "    }\n",
       "\n",
       "    .dataframe thead th {\n",
       "        text-align: right;\n",
       "    }\n",
       "</style>\n",
       "<table border=\"1\" class=\"dataframe\">\n",
       "  <thead>\n",
       "    <tr style=\"text-align: right;\">\n",
       "      <th></th>\n",
       "      <th>app</th>\n",
       "      <th>channel</th>\n",
       "      <th>click_id</th>\n",
       "      <th>device</th>\n",
       "      <th>ip</th>\n",
       "      <th>is_attributed</th>\n",
       "      <th>os</th>\n",
       "      <th>click_timeDay</th>\n",
       "      <th>click_timeHour</th>\n",
       "      <th>click_timeMinute</th>\n",
       "      <th>click_timeSecond</th>\n",
       "      <th>click_timeElapsed</th>\n",
       "    </tr>\n",
       "  </thead>\n",
       "  <tbody>\n",
       "    <tr>\n",
       "      <th>40000000</th>\n",
       "      <td>8</td>\n",
       "      <td>145</td>\n",
       "      <td>4294967295</td>\n",
       "      <td>1</td>\n",
       "      <td>48281</td>\n",
       "      <td>0</td>\n",
       "      <td>19</td>\n",
       "      <td>7</td>\n",
       "      <td>9</td>\n",
       "      <td>39</td>\n",
       "      <td>40</td>\n",
       "      <td>1510047580</td>\n",
       "    </tr>\n",
       "    <tr>\n",
       "      <th>40000001</th>\n",
       "      <td>27</td>\n",
       "      <td>153</td>\n",
       "      <td>4294967295</td>\n",
       "      <td>1</td>\n",
       "      <td>5348</td>\n",
       "      <td>0</td>\n",
       "      <td>47</td>\n",
       "      <td>7</td>\n",
       "      <td>9</td>\n",
       "      <td>39</td>\n",
       "      <td>40</td>\n",
       "      <td>1510047580</td>\n",
       "    </tr>\n",
       "    <tr>\n",
       "      <th>40000002</th>\n",
       "      <td>26</td>\n",
       "      <td>121</td>\n",
       "      <td>4294967295</td>\n",
       "      <td>1</td>\n",
       "      <td>118229</td>\n",
       "      <td>0</td>\n",
       "      <td>18</td>\n",
       "      <td>7</td>\n",
       "      <td>9</td>\n",
       "      <td>39</td>\n",
       "      <td>40</td>\n",
       "      <td>1510047580</td>\n",
       "    </tr>\n",
       "    <tr>\n",
       "      <th>40000003</th>\n",
       "      <td>2</td>\n",
       "      <td>219</td>\n",
       "      <td>4294967295</td>\n",
       "      <td>1</td>\n",
       "      <td>67836</td>\n",
       "      <td>0</td>\n",
       "      <td>6</td>\n",
       "      <td>7</td>\n",
       "      <td>9</td>\n",
       "      <td>39</td>\n",
       "      <td>40</td>\n",
       "      <td>1510047580</td>\n",
       "    </tr>\n",
       "    <tr>\n",
       "      <th>40000004</th>\n",
       "      <td>1</td>\n",
       "      <td>153</td>\n",
       "      <td>4294967295</td>\n",
       "      <td>2</td>\n",
       "      <td>59125</td>\n",
       "      <td>0</td>\n",
       "      <td>5</td>\n",
       "      <td>7</td>\n",
       "      <td>9</td>\n",
       "      <td>39</td>\n",
       "      <td>40</td>\n",
       "      <td>1510047580</td>\n",
       "    </tr>\n",
       "  </tbody>\n",
       "</table>\n",
       "</div>"
      ],
      "text/plain": [
       "          app  channel    click_id  device      ip  is_attributed  os  \\\n",
       "40000000    8      145  4294967295       1   48281              0  19   \n",
       "40000001   27      153  4294967295       1    5348              0  47   \n",
       "40000002   26      121  4294967295       1  118229              0  18   \n",
       "40000003    2      219  4294967295       1   67836              0   6   \n",
       "40000004    1      153  4294967295       2   59125              0   5   \n",
       "\n",
       "          click_timeDay  click_timeHour  click_timeMinute  click_timeSecond  \\\n",
       "40000000              7               9                39                40   \n",
       "40000001              7               9                39                40   \n",
       "40000002              7               9                39                40   \n",
       "40000003              7               9                39                40   \n",
       "40000004              7               9                39                40   \n",
       "\n",
       "          click_timeElapsed  \n",
       "40000000         1510047580  \n",
       "40000001         1510047580  \n",
       "40000002         1510047580  \n",
       "40000003         1510047580  \n",
       "40000004         1510047580  "
      ]
     },
     "metadata": {},
     "output_type": "display_data"
    },
    {
     "name": "stdout",
     "output_type": "stream",
     "text": [
      "5\n",
      "CPU times: user 14.9 s, sys: 867 ms, total: 15.8 s\n",
      "Wall time: 4.13 s\n"
     ]
    },
    {
     "data": {
      "text/html": [
       "<div>\n",
       "<style scoped>\n",
       "    .dataframe tbody tr th:only-of-type {\n",
       "        vertical-align: middle;\n",
       "    }\n",
       "\n",
       "    .dataframe tbody tr th {\n",
       "        vertical-align: top;\n",
       "    }\n",
       "\n",
       "    .dataframe thead th {\n",
       "        text-align: right;\n",
       "    }\n",
       "</style>\n",
       "<table border=\"1\" class=\"dataframe\">\n",
       "  <thead>\n",
       "    <tr style=\"text-align: right;\">\n",
       "      <th></th>\n",
       "      <th>app</th>\n",
       "      <th>channel</th>\n",
       "      <th>click_id</th>\n",
       "      <th>device</th>\n",
       "      <th>ip</th>\n",
       "      <th>is_attributed</th>\n",
       "      <th>os</th>\n",
       "      <th>click_timeDay</th>\n",
       "      <th>click_timeHour</th>\n",
       "      <th>click_timeMinute</th>\n",
       "      <th>click_timeSecond</th>\n",
       "      <th>click_timeElapsed</th>\n",
       "    </tr>\n",
       "  </thead>\n",
       "  <tbody>\n",
       "    <tr>\n",
       "      <th>50000000</th>\n",
       "      <td>3</td>\n",
       "      <td>489</td>\n",
       "      <td>4294967295</td>\n",
       "      <td>1</td>\n",
       "      <td>189769</td>\n",
       "      <td>0</td>\n",
       "      <td>6</td>\n",
       "      <td>7</td>\n",
       "      <td>12</td>\n",
       "      <td>50</td>\n",
       "      <td>58</td>\n",
       "      <td>1510059058</td>\n",
       "    </tr>\n",
       "    <tr>\n",
       "      <th>50000001</th>\n",
       "      <td>6</td>\n",
       "      <td>459</td>\n",
       "      <td>4294967295</td>\n",
       "      <td>1</td>\n",
       "      <td>51745</td>\n",
       "      <td>0</td>\n",
       "      <td>6</td>\n",
       "      <td>7</td>\n",
       "      <td>12</td>\n",
       "      <td>50</td>\n",
       "      <td>58</td>\n",
       "      <td>1510059058</td>\n",
       "    </tr>\n",
       "    <tr>\n",
       "      <th>50000002</th>\n",
       "      <td>18</td>\n",
       "      <td>134</td>\n",
       "      <td>4294967295</td>\n",
       "      <td>1</td>\n",
       "      <td>90425</td>\n",
       "      <td>0</td>\n",
       "      <td>19</td>\n",
       "      <td>7</td>\n",
       "      <td>12</td>\n",
       "      <td>50</td>\n",
       "      <td>58</td>\n",
       "      <td>1510059058</td>\n",
       "    </tr>\n",
       "    <tr>\n",
       "      <th>50000003</th>\n",
       "      <td>3</td>\n",
       "      <td>173</td>\n",
       "      <td>4294967295</td>\n",
       "      <td>1</td>\n",
       "      <td>2463</td>\n",
       "      <td>0</td>\n",
       "      <td>19</td>\n",
       "      <td>7</td>\n",
       "      <td>12</td>\n",
       "      <td>50</td>\n",
       "      <td>58</td>\n",
       "      <td>1510059058</td>\n",
       "    </tr>\n",
       "    <tr>\n",
       "      <th>50000004</th>\n",
       "      <td>11</td>\n",
       "      <td>481</td>\n",
       "      <td>4294967295</td>\n",
       "      <td>1</td>\n",
       "      <td>25097</td>\n",
       "      <td>0</td>\n",
       "      <td>19</td>\n",
       "      <td>7</td>\n",
       "      <td>12</td>\n",
       "      <td>50</td>\n",
       "      <td>58</td>\n",
       "      <td>1510059058</td>\n",
       "    </tr>\n",
       "  </tbody>\n",
       "</table>\n",
       "</div>"
      ],
      "text/plain": [
       "          app  channel    click_id  device      ip  is_attributed  os  \\\n",
       "50000000    3      489  4294967295       1  189769              0   6   \n",
       "50000001    6      459  4294967295       1   51745              0   6   \n",
       "50000002   18      134  4294967295       1   90425              0  19   \n",
       "50000003    3      173  4294967295       1    2463              0  19   \n",
       "50000004   11      481  4294967295       1   25097              0  19   \n",
       "\n",
       "          click_timeDay  click_timeHour  click_timeMinute  click_timeSecond  \\\n",
       "50000000              7              12                50                58   \n",
       "50000001              7              12                50                58   \n",
       "50000002              7              12                50                58   \n",
       "50000003              7              12                50                58   \n",
       "50000004              7              12                50                58   \n",
       "\n",
       "          click_timeElapsed  \n",
       "50000000         1510059058  \n",
       "50000001         1510059058  \n",
       "50000002         1510059058  \n",
       "50000003         1510059058  \n",
       "50000004         1510059058  "
      ]
     },
     "metadata": {},
     "output_type": "display_data"
    },
    {
     "name": "stdout",
     "output_type": "stream",
     "text": [
      "6\n",
      "CPU times: user 14.9 s, sys: 1.57 s, total: 16.5 s\n",
      "Wall time: 4.37 s\n"
     ]
    },
    {
     "data": {
      "text/html": [
       "<div>\n",
       "<style scoped>\n",
       "    .dataframe tbody tr th:only-of-type {\n",
       "        vertical-align: middle;\n",
       "    }\n",
       "\n",
       "    .dataframe tbody tr th {\n",
       "        vertical-align: top;\n",
       "    }\n",
       "\n",
       "    .dataframe thead th {\n",
       "        text-align: right;\n",
       "    }\n",
       "</style>\n",
       "<table border=\"1\" class=\"dataframe\">\n",
       "  <thead>\n",
       "    <tr style=\"text-align: right;\">\n",
       "      <th></th>\n",
       "      <th>app</th>\n",
       "      <th>channel</th>\n",
       "      <th>click_id</th>\n",
       "      <th>device</th>\n",
       "      <th>ip</th>\n",
       "      <th>is_attributed</th>\n",
       "      <th>os</th>\n",
       "      <th>click_timeDay</th>\n",
       "      <th>click_timeHour</th>\n",
       "      <th>click_timeMinute</th>\n",
       "      <th>click_timeSecond</th>\n",
       "      <th>click_timeElapsed</th>\n",
       "    </tr>\n",
       "  </thead>\n",
       "  <tbody>\n",
       "    <tr>\n",
       "      <th>60000000</th>\n",
       "      <td>14</td>\n",
       "      <td>401</td>\n",
       "      <td>4294967295</td>\n",
       "      <td>1</td>\n",
       "      <td>77609</td>\n",
       "      <td>0</td>\n",
       "      <td>13</td>\n",
       "      <td>7</td>\n",
       "      <td>16</td>\n",
       "      <td>5</td>\n",
       "      <td>38</td>\n",
       "      <td>1510070738</td>\n",
       "    </tr>\n",
       "    <tr>\n",
       "      <th>60000001</th>\n",
       "      <td>23</td>\n",
       "      <td>153</td>\n",
       "      <td>4294967295</td>\n",
       "      <td>1</td>\n",
       "      <td>74640</td>\n",
       "      <td>0</td>\n",
       "      <td>19</td>\n",
       "      <td>7</td>\n",
       "      <td>16</td>\n",
       "      <td>5</td>\n",
       "      <td>38</td>\n",
       "      <td>1510070738</td>\n",
       "    </tr>\n",
       "    <tr>\n",
       "      <th>60000002</th>\n",
       "      <td>12</td>\n",
       "      <td>178</td>\n",
       "      <td>4294967295</td>\n",
       "      <td>1</td>\n",
       "      <td>9886</td>\n",
       "      <td>0</td>\n",
       "      <td>13</td>\n",
       "      <td>7</td>\n",
       "      <td>16</td>\n",
       "      <td>5</td>\n",
       "      <td>38</td>\n",
       "      <td>1510070738</td>\n",
       "    </tr>\n",
       "    <tr>\n",
       "      <th>60000003</th>\n",
       "      <td>2</td>\n",
       "      <td>237</td>\n",
       "      <td>4294967295</td>\n",
       "      <td>1</td>\n",
       "      <td>26890</td>\n",
       "      <td>0</td>\n",
       "      <td>31</td>\n",
       "      <td>7</td>\n",
       "      <td>16</td>\n",
       "      <td>5</td>\n",
       "      <td>38</td>\n",
       "      <td>1510070738</td>\n",
       "    </tr>\n",
       "    <tr>\n",
       "      <th>60000004</th>\n",
       "      <td>12</td>\n",
       "      <td>178</td>\n",
       "      <td>4294967295</td>\n",
       "      <td>1</td>\n",
       "      <td>106524</td>\n",
       "      <td>0</td>\n",
       "      <td>20</td>\n",
       "      <td>7</td>\n",
       "      <td>16</td>\n",
       "      <td>5</td>\n",
       "      <td>38</td>\n",
       "      <td>1510070738</td>\n",
       "    </tr>\n",
       "  </tbody>\n",
       "</table>\n",
       "</div>"
      ],
      "text/plain": [
       "          app  channel    click_id  device      ip  is_attributed  os  \\\n",
       "60000000   14      401  4294967295       1   77609              0  13   \n",
       "60000001   23      153  4294967295       1   74640              0  19   \n",
       "60000002   12      178  4294967295       1    9886              0  13   \n",
       "60000003    2      237  4294967295       1   26890              0  31   \n",
       "60000004   12      178  4294967295       1  106524              0  20   \n",
       "\n",
       "          click_timeDay  click_timeHour  click_timeMinute  click_timeSecond  \\\n",
       "60000000              7              16                 5                38   \n",
       "60000001              7              16                 5                38   \n",
       "60000002              7              16                 5                38   \n",
       "60000003              7              16                 5                38   \n",
       "60000004              7              16                 5                38   \n",
       "\n",
       "          click_timeElapsed  \n",
       "60000000         1510070738  \n",
       "60000001         1510070738  \n",
       "60000002         1510070738  \n",
       "60000003         1510070738  \n",
       "60000004         1510070738  "
      ]
     },
     "metadata": {},
     "output_type": "display_data"
    },
    {
     "name": "stdout",
     "output_type": "stream",
     "text": [
      "7\n",
      "CPU times: user 14.9 s, sys: 1.58 s, total: 16.5 s\n",
      "Wall time: 4.36 s\n"
     ]
    },
    {
     "data": {
      "text/html": [
       "<div>\n",
       "<style scoped>\n",
       "    .dataframe tbody tr th:only-of-type {\n",
       "        vertical-align: middle;\n",
       "    }\n",
       "\n",
       "    .dataframe tbody tr th {\n",
       "        vertical-align: top;\n",
       "    }\n",
       "\n",
       "    .dataframe thead th {\n",
       "        text-align: right;\n",
       "    }\n",
       "</style>\n",
       "<table border=\"1\" class=\"dataframe\">\n",
       "  <thead>\n",
       "    <tr style=\"text-align: right;\">\n",
       "      <th></th>\n",
       "      <th>app</th>\n",
       "      <th>channel</th>\n",
       "      <th>click_id</th>\n",
       "      <th>device</th>\n",
       "      <th>ip</th>\n",
       "      <th>is_attributed</th>\n",
       "      <th>os</th>\n",
       "      <th>click_timeDay</th>\n",
       "      <th>click_timeHour</th>\n",
       "      <th>click_timeMinute</th>\n",
       "      <th>click_timeSecond</th>\n",
       "      <th>click_timeElapsed</th>\n",
       "    </tr>\n",
       "  </thead>\n",
       "  <tbody>\n",
       "    <tr>\n",
       "      <th>70000000</th>\n",
       "      <td>6</td>\n",
       "      <td>125</td>\n",
       "      <td>4294967295</td>\n",
       "      <td>1</td>\n",
       "      <td>214092</td>\n",
       "      <td>0</td>\n",
       "      <td>19</td>\n",
       "      <td>8</td>\n",
       "      <td>0</td>\n",
       "      <td>18</td>\n",
       "      <td>16</td>\n",
       "      <td>1510100296</td>\n",
       "    </tr>\n",
       "    <tr>\n",
       "      <th>70000001</th>\n",
       "      <td>3</td>\n",
       "      <td>480</td>\n",
       "      <td>4294967295</td>\n",
       "      <td>1</td>\n",
       "      <td>7938</td>\n",
       "      <td>0</td>\n",
       "      <td>19</td>\n",
       "      <td>8</td>\n",
       "      <td>0</td>\n",
       "      <td>18</td>\n",
       "      <td>16</td>\n",
       "      <td>1510100296</td>\n",
       "    </tr>\n",
       "    <tr>\n",
       "      <th>70000002</th>\n",
       "      <td>9</td>\n",
       "      <td>134</td>\n",
       "      <td>4294967295</td>\n",
       "      <td>1</td>\n",
       "      <td>165408</td>\n",
       "      <td>0</td>\n",
       "      <td>8</td>\n",
       "      <td>8</td>\n",
       "      <td>0</td>\n",
       "      <td>18</td>\n",
       "      <td>16</td>\n",
       "      <td>1510100296</td>\n",
       "    </tr>\n",
       "    <tr>\n",
       "      <th>70000003</th>\n",
       "      <td>3</td>\n",
       "      <td>371</td>\n",
       "      <td>4294967295</td>\n",
       "      <td>1</td>\n",
       "      <td>96139</td>\n",
       "      <td>0</td>\n",
       "      <td>13</td>\n",
       "      <td>8</td>\n",
       "      <td>0</td>\n",
       "      <td>18</td>\n",
       "      <td>16</td>\n",
       "      <td>1510100296</td>\n",
       "    </tr>\n",
       "    <tr>\n",
       "      <th>70000004</th>\n",
       "      <td>3</td>\n",
       "      <td>280</td>\n",
       "      <td>4294967295</td>\n",
       "      <td>1</td>\n",
       "      <td>108329</td>\n",
       "      <td>0</td>\n",
       "      <td>30</td>\n",
       "      <td>8</td>\n",
       "      <td>0</td>\n",
       "      <td>18</td>\n",
       "      <td>16</td>\n",
       "      <td>1510100296</td>\n",
       "    </tr>\n",
       "  </tbody>\n",
       "</table>\n",
       "</div>"
      ],
      "text/plain": [
       "          app  channel    click_id  device      ip  is_attributed  os  \\\n",
       "70000000    6      125  4294967295       1  214092              0  19   \n",
       "70000001    3      480  4294967295       1    7938              0  19   \n",
       "70000002    9      134  4294967295       1  165408              0   8   \n",
       "70000003    3      371  4294967295       1   96139              0  13   \n",
       "70000004    3      280  4294967295       1  108329              0  30   \n",
       "\n",
       "          click_timeDay  click_timeHour  click_timeMinute  click_timeSecond  \\\n",
       "70000000              8               0                18                16   \n",
       "70000001              8               0                18                16   \n",
       "70000002              8               0                18                16   \n",
       "70000003              8               0                18                16   \n",
       "70000004              8               0                18                16   \n",
       "\n",
       "          click_timeElapsed  \n",
       "70000000         1510100296  \n",
       "70000001         1510100296  \n",
       "70000002         1510100296  \n",
       "70000003         1510100296  \n",
       "70000004         1510100296  "
      ]
     },
     "metadata": {},
     "output_type": "display_data"
    },
    {
     "name": "stdout",
     "output_type": "stream",
     "text": [
      "8\n",
      "CPU times: user 14.8 s, sys: 1.72 s, total: 16.5 s\n",
      "Wall time: 4.38 s\n"
     ]
    },
    {
     "data": {
      "text/html": [
       "<div>\n",
       "<style scoped>\n",
       "    .dataframe tbody tr th:only-of-type {\n",
       "        vertical-align: middle;\n",
       "    }\n",
       "\n",
       "    .dataframe tbody tr th {\n",
       "        vertical-align: top;\n",
       "    }\n",
       "\n",
       "    .dataframe thead th {\n",
       "        text-align: right;\n",
       "    }\n",
       "</style>\n",
       "<table border=\"1\" class=\"dataframe\">\n",
       "  <thead>\n",
       "    <tr style=\"text-align: right;\">\n",
       "      <th></th>\n",
       "      <th>app</th>\n",
       "      <th>channel</th>\n",
       "      <th>click_id</th>\n",
       "      <th>device</th>\n",
       "      <th>ip</th>\n",
       "      <th>is_attributed</th>\n",
       "      <th>os</th>\n",
       "      <th>click_timeDay</th>\n",
       "      <th>click_timeHour</th>\n",
       "      <th>click_timeMinute</th>\n",
       "      <th>click_timeSecond</th>\n",
       "      <th>click_timeElapsed</th>\n",
       "    </tr>\n",
       "  </thead>\n",
       "  <tbody>\n",
       "    <tr>\n",
       "      <th>80000000</th>\n",
       "      <td>24</td>\n",
       "      <td>178</td>\n",
       "      <td>4294967295</td>\n",
       "      <td>1</td>\n",
       "      <td>4052</td>\n",
       "      <td>0</td>\n",
       "      <td>13</td>\n",
       "      <td>8</td>\n",
       "      <td>3</td>\n",
       "      <td>16</td>\n",
       "      <td>45</td>\n",
       "      <td>1510111005</td>\n",
       "    </tr>\n",
       "    <tr>\n",
       "      <th>80000001</th>\n",
       "      <td>12</td>\n",
       "      <td>124</td>\n",
       "      <td>4294967295</td>\n",
       "      <td>1</td>\n",
       "      <td>15490</td>\n",
       "      <td>0</td>\n",
       "      <td>19</td>\n",
       "      <td>8</td>\n",
       "      <td>3</td>\n",
       "      <td>16</td>\n",
       "      <td>45</td>\n",
       "      <td>1510111005</td>\n",
       "    </tr>\n",
       "    <tr>\n",
       "      <th>80000002</th>\n",
       "      <td>3</td>\n",
       "      <td>280</td>\n",
       "      <td>4294967295</td>\n",
       "      <td>2</td>\n",
       "      <td>93592</td>\n",
       "      <td>0</td>\n",
       "      <td>9</td>\n",
       "      <td>8</td>\n",
       "      <td>3</td>\n",
       "      <td>16</td>\n",
       "      <td>45</td>\n",
       "      <td>1510111005</td>\n",
       "    </tr>\n",
       "    <tr>\n",
       "      <th>80000003</th>\n",
       "      <td>12</td>\n",
       "      <td>245</td>\n",
       "      <td>4294967295</td>\n",
       "      <td>1</td>\n",
       "      <td>81239</td>\n",
       "      <td>0</td>\n",
       "      <td>13</td>\n",
       "      <td>8</td>\n",
       "      <td>3</td>\n",
       "      <td>16</td>\n",
       "      <td>45</td>\n",
       "      <td>1510111005</td>\n",
       "    </tr>\n",
       "    <tr>\n",
       "      <th>80000004</th>\n",
       "      <td>26</td>\n",
       "      <td>121</td>\n",
       "      <td>4294967295</td>\n",
       "      <td>1</td>\n",
       "      <td>69020</td>\n",
       "      <td>0</td>\n",
       "      <td>10</td>\n",
       "      <td>8</td>\n",
       "      <td>3</td>\n",
       "      <td>16</td>\n",
       "      <td>45</td>\n",
       "      <td>1510111005</td>\n",
       "    </tr>\n",
       "  </tbody>\n",
       "</table>\n",
       "</div>"
      ],
      "text/plain": [
       "          app  channel    click_id  device     ip  is_attributed  os  \\\n",
       "80000000   24      178  4294967295       1   4052              0  13   \n",
       "80000001   12      124  4294967295       1  15490              0  19   \n",
       "80000002    3      280  4294967295       2  93592              0   9   \n",
       "80000003   12      245  4294967295       1  81239              0  13   \n",
       "80000004   26      121  4294967295       1  69020              0  10   \n",
       "\n",
       "          click_timeDay  click_timeHour  click_timeMinute  click_timeSecond  \\\n",
       "80000000              8               3                16                45   \n",
       "80000001              8               3                16                45   \n",
       "80000002              8               3                16                45   \n",
       "80000003              8               3                16                45   \n",
       "80000004              8               3                16                45   \n",
       "\n",
       "          click_timeElapsed  \n",
       "80000000         1510111005  \n",
       "80000001         1510111005  \n",
       "80000002         1510111005  \n",
       "80000003         1510111005  \n",
       "80000004         1510111005  "
      ]
     },
     "metadata": {},
     "output_type": "display_data"
    },
    {
     "name": "stdout",
     "output_type": "stream",
     "text": [
      "9\n",
      "CPU times: user 14.8 s, sys: 1.45 s, total: 16.2 s\n",
      "Wall time: 4.34 s\n"
     ]
    },
    {
     "data": {
      "text/html": [
       "<div>\n",
       "<style scoped>\n",
       "    .dataframe tbody tr th:only-of-type {\n",
       "        vertical-align: middle;\n",
       "    }\n",
       "\n",
       "    .dataframe tbody tr th {\n",
       "        vertical-align: top;\n",
       "    }\n",
       "\n",
       "    .dataframe thead th {\n",
       "        text-align: right;\n",
       "    }\n",
       "</style>\n",
       "<table border=\"1\" class=\"dataframe\">\n",
       "  <thead>\n",
       "    <tr style=\"text-align: right;\">\n",
       "      <th></th>\n",
       "      <th>app</th>\n",
       "      <th>channel</th>\n",
       "      <th>click_id</th>\n",
       "      <th>device</th>\n",
       "      <th>ip</th>\n",
       "      <th>is_attributed</th>\n",
       "      <th>os</th>\n",
       "      <th>click_timeDay</th>\n",
       "      <th>click_timeHour</th>\n",
       "      <th>click_timeMinute</th>\n",
       "      <th>click_timeSecond</th>\n",
       "      <th>click_timeElapsed</th>\n",
       "    </tr>\n",
       "  </thead>\n",
       "  <tbody>\n",
       "    <tr>\n",
       "      <th>90000000</th>\n",
       "      <td>12</td>\n",
       "      <td>178</td>\n",
       "      <td>4294967295</td>\n",
       "      <td>1</td>\n",
       "      <td>266205</td>\n",
       "      <td>0</td>\n",
       "      <td>15</td>\n",
       "      <td>8</td>\n",
       "      <td>6</td>\n",
       "      <td>20</td>\n",
       "      <td>49</td>\n",
       "      <td>1510122049</td>\n",
       "    </tr>\n",
       "    <tr>\n",
       "      <th>90000001</th>\n",
       "      <td>2</td>\n",
       "      <td>477</td>\n",
       "      <td>4294967295</td>\n",
       "      <td>1</td>\n",
       "      <td>103180</td>\n",
       "      <td>0</td>\n",
       "      <td>19</td>\n",
       "      <td>8</td>\n",
       "      <td>6</td>\n",
       "      <td>20</td>\n",
       "      <td>49</td>\n",
       "      <td>1510122049</td>\n",
       "    </tr>\n",
       "    <tr>\n",
       "      <th>90000002</th>\n",
       "      <td>3</td>\n",
       "      <td>424</td>\n",
       "      <td>4294967295</td>\n",
       "      <td>1</td>\n",
       "      <td>102970</td>\n",
       "      <td>0</td>\n",
       "      <td>15</td>\n",
       "      <td>8</td>\n",
       "      <td>6</td>\n",
       "      <td>20</td>\n",
       "      <td>49</td>\n",
       "      <td>1510122049</td>\n",
       "    </tr>\n",
       "    <tr>\n",
       "      <th>90000003</th>\n",
       "      <td>26</td>\n",
       "      <td>121</td>\n",
       "      <td>4294967295</td>\n",
       "      <td>1</td>\n",
       "      <td>95057</td>\n",
       "      <td>0</td>\n",
       "      <td>19</td>\n",
       "      <td>8</td>\n",
       "      <td>6</td>\n",
       "      <td>20</td>\n",
       "      <td>49</td>\n",
       "      <td>1510122049</td>\n",
       "    </tr>\n",
       "    <tr>\n",
       "      <th>90000004</th>\n",
       "      <td>26</td>\n",
       "      <td>266</td>\n",
       "      <td>4294967295</td>\n",
       "      <td>1</td>\n",
       "      <td>202924</td>\n",
       "      <td>0</td>\n",
       "      <td>22</td>\n",
       "      <td>8</td>\n",
       "      <td>6</td>\n",
       "      <td>20</td>\n",
       "      <td>49</td>\n",
       "      <td>1510122049</td>\n",
       "    </tr>\n",
       "  </tbody>\n",
       "</table>\n",
       "</div>"
      ],
      "text/plain": [
       "          app  channel    click_id  device      ip  is_attributed  os  \\\n",
       "90000000   12      178  4294967295       1  266205              0  15   \n",
       "90000001    2      477  4294967295       1  103180              0  19   \n",
       "90000002    3      424  4294967295       1  102970              0  15   \n",
       "90000003   26      121  4294967295       1   95057              0  19   \n",
       "90000004   26      266  4294967295       1  202924              0  22   \n",
       "\n",
       "          click_timeDay  click_timeHour  click_timeMinute  click_timeSecond  \\\n",
       "90000000              8               6                20                49   \n",
       "90000001              8               6                20                49   \n",
       "90000002              8               6                20                49   \n",
       "90000003              8               6                20                49   \n",
       "90000004              8               6                20                49   \n",
       "\n",
       "          click_timeElapsed  \n",
       "90000000         1510122049  \n",
       "90000001         1510122049  \n",
       "90000002         1510122049  \n",
       "90000003         1510122049  \n",
       "90000004         1510122049  "
      ]
     },
     "metadata": {},
     "output_type": "display_data"
    },
    {
     "name": "stdout",
     "output_type": "stream",
     "text": [
      "10\n",
      "CPU times: user 15 s, sys: 1.79 s, total: 16.8 s\n",
      "Wall time: 4.47 s\n"
     ]
    },
    {
     "data": {
      "text/html": [
       "<div>\n",
       "<style scoped>\n",
       "    .dataframe tbody tr th:only-of-type {\n",
       "        vertical-align: middle;\n",
       "    }\n",
       "\n",
       "    .dataframe tbody tr th {\n",
       "        vertical-align: top;\n",
       "    }\n",
       "\n",
       "    .dataframe thead th {\n",
       "        text-align: right;\n",
       "    }\n",
       "</style>\n",
       "<table border=\"1\" class=\"dataframe\">\n",
       "  <thead>\n",
       "    <tr style=\"text-align: right;\">\n",
       "      <th></th>\n",
       "      <th>app</th>\n",
       "      <th>channel</th>\n",
       "      <th>click_id</th>\n",
       "      <th>device</th>\n",
       "      <th>ip</th>\n",
       "      <th>is_attributed</th>\n",
       "      <th>os</th>\n",
       "      <th>click_timeDay</th>\n",
       "      <th>click_timeHour</th>\n",
       "      <th>click_timeMinute</th>\n",
       "      <th>click_timeSecond</th>\n",
       "      <th>click_timeElapsed</th>\n",
       "    </tr>\n",
       "  </thead>\n",
       "  <tbody>\n",
       "    <tr>\n",
       "      <th>100000000</th>\n",
       "      <td>9</td>\n",
       "      <td>334</td>\n",
       "      <td>4294967295</td>\n",
       "      <td>1</td>\n",
       "      <td>42430</td>\n",
       "      <td>0</td>\n",
       "      <td>25</td>\n",
       "      <td>8</td>\n",
       "      <td>9</td>\n",
       "      <td>38</td>\n",
       "      <td>15</td>\n",
       "      <td>1510133895</td>\n",
       "    </tr>\n",
       "    <tr>\n",
       "      <th>100000001</th>\n",
       "      <td>12</td>\n",
       "      <td>219</td>\n",
       "      <td>4294967295</td>\n",
       "      <td>1</td>\n",
       "      <td>268617</td>\n",
       "      <td>0</td>\n",
       "      <td>19</td>\n",
       "      <td>8</td>\n",
       "      <td>9</td>\n",
       "      <td>38</td>\n",
       "      <td>15</td>\n",
       "      <td>1510133895</td>\n",
       "    </tr>\n",
       "    <tr>\n",
       "      <th>100000002</th>\n",
       "      <td>18</td>\n",
       "      <td>107</td>\n",
       "      <td>4294967295</td>\n",
       "      <td>1</td>\n",
       "      <td>120245</td>\n",
       "      <td>0</td>\n",
       "      <td>25</td>\n",
       "      <td>8</td>\n",
       "      <td>9</td>\n",
       "      <td>38</td>\n",
       "      <td>15</td>\n",
       "      <td>1510133895</td>\n",
       "    </tr>\n",
       "    <tr>\n",
       "      <th>100000003</th>\n",
       "      <td>3</td>\n",
       "      <td>280</td>\n",
       "      <td>4294967295</td>\n",
       "      <td>1</td>\n",
       "      <td>118252</td>\n",
       "      <td>0</td>\n",
       "      <td>9</td>\n",
       "      <td>8</td>\n",
       "      <td>9</td>\n",
       "      <td>38</td>\n",
       "      <td>15</td>\n",
       "      <td>1510133895</td>\n",
       "    </tr>\n",
       "    <tr>\n",
       "      <th>100000004</th>\n",
       "      <td>3</td>\n",
       "      <td>280</td>\n",
       "      <td>4294967295</td>\n",
       "      <td>1</td>\n",
       "      <td>40631</td>\n",
       "      <td>0</td>\n",
       "      <td>13</td>\n",
       "      <td>8</td>\n",
       "      <td>9</td>\n",
       "      <td>38</td>\n",
       "      <td>15</td>\n",
       "      <td>1510133895</td>\n",
       "    </tr>\n",
       "  </tbody>\n",
       "</table>\n",
       "</div>"
      ],
      "text/plain": [
       "           app  channel    click_id  device      ip  is_attributed  os  \\\n",
       "100000000    9      334  4294967295       1   42430              0  25   \n",
       "100000001   12      219  4294967295       1  268617              0  19   \n",
       "100000002   18      107  4294967295       1  120245              0  25   \n",
       "100000003    3      280  4294967295       1  118252              0   9   \n",
       "100000004    3      280  4294967295       1   40631              0  13   \n",
       "\n",
       "           click_timeDay  click_timeHour  click_timeMinute  click_timeSecond  \\\n",
       "100000000              8               9                38                15   \n",
       "100000001              8               9                38                15   \n",
       "100000002              8               9                38                15   \n",
       "100000003              8               9                38                15   \n",
       "100000004              8               9                38                15   \n",
       "\n",
       "           click_timeElapsed  \n",
       "100000000         1510133895  \n",
       "100000001         1510133895  \n",
       "100000002         1510133895  \n",
       "100000003         1510133895  \n",
       "100000004         1510133895  "
      ]
     },
     "metadata": {},
     "output_type": "display_data"
    },
    {
     "name": "stdout",
     "output_type": "stream",
     "text": [
      "11\n",
      "CPU times: user 14.9 s, sys: 2.02 s, total: 16.9 s\n",
      "Wall time: 4.54 s\n"
     ]
    },
    {
     "data": {
      "text/html": [
       "<div>\n",
       "<style scoped>\n",
       "    .dataframe tbody tr th:only-of-type {\n",
       "        vertical-align: middle;\n",
       "    }\n",
       "\n",
       "    .dataframe tbody tr th {\n",
       "        vertical-align: top;\n",
       "    }\n",
       "\n",
       "    .dataframe thead th {\n",
       "        text-align: right;\n",
       "    }\n",
       "</style>\n",
       "<table border=\"1\" class=\"dataframe\">\n",
       "  <thead>\n",
       "    <tr style=\"text-align: right;\">\n",
       "      <th></th>\n",
       "      <th>app</th>\n",
       "      <th>channel</th>\n",
       "      <th>click_id</th>\n",
       "      <th>device</th>\n",
       "      <th>ip</th>\n",
       "      <th>is_attributed</th>\n",
       "      <th>os</th>\n",
       "      <th>click_timeDay</th>\n",
       "      <th>click_timeHour</th>\n",
       "      <th>click_timeMinute</th>\n",
       "      <th>click_timeSecond</th>\n",
       "      <th>click_timeElapsed</th>\n",
       "    </tr>\n",
       "  </thead>\n",
       "  <tbody>\n",
       "    <tr>\n",
       "      <th>110000000</th>\n",
       "      <td>9</td>\n",
       "      <td>244</td>\n",
       "      <td>4294967295</td>\n",
       "      <td>1</td>\n",
       "      <td>80458</td>\n",
       "      <td>0</td>\n",
       "      <td>20</td>\n",
       "      <td>8</td>\n",
       "      <td>12</td>\n",
       "      <td>35</td>\n",
       "      <td>14</td>\n",
       "      <td>1510144514</td>\n",
       "    </tr>\n",
       "    <tr>\n",
       "      <th>110000001</th>\n",
       "      <td>15</td>\n",
       "      <td>379</td>\n",
       "      <td>4294967295</td>\n",
       "      <td>1</td>\n",
       "      <td>253659</td>\n",
       "      <td>0</td>\n",
       "      <td>13</td>\n",
       "      <td>8</td>\n",
       "      <td>12</td>\n",
       "      <td>35</td>\n",
       "      <td>14</td>\n",
       "      <td>1510144514</td>\n",
       "    </tr>\n",
       "    <tr>\n",
       "      <th>110000002</th>\n",
       "      <td>1</td>\n",
       "      <td>377</td>\n",
       "      <td>4294967295</td>\n",
       "      <td>1</td>\n",
       "      <td>69140</td>\n",
       "      <td>0</td>\n",
       "      <td>23</td>\n",
       "      <td>8</td>\n",
       "      <td>12</td>\n",
       "      <td>35</td>\n",
       "      <td>14</td>\n",
       "      <td>1510144514</td>\n",
       "    </tr>\n",
       "    <tr>\n",
       "      <th>110000003</th>\n",
       "      <td>1</td>\n",
       "      <td>153</td>\n",
       "      <td>4294967295</td>\n",
       "      <td>1</td>\n",
       "      <td>60083</td>\n",
       "      <td>0</td>\n",
       "      <td>13</td>\n",
       "      <td>8</td>\n",
       "      <td>12</td>\n",
       "      <td>35</td>\n",
       "      <td>14</td>\n",
       "      <td>1510144514</td>\n",
       "    </tr>\n",
       "    <tr>\n",
       "      <th>110000004</th>\n",
       "      <td>3</td>\n",
       "      <td>280</td>\n",
       "      <td>4294967295</td>\n",
       "      <td>1</td>\n",
       "      <td>81837</td>\n",
       "      <td>0</td>\n",
       "      <td>47</td>\n",
       "      <td>8</td>\n",
       "      <td>12</td>\n",
       "      <td>35</td>\n",
       "      <td>14</td>\n",
       "      <td>1510144514</td>\n",
       "    </tr>\n",
       "  </tbody>\n",
       "</table>\n",
       "</div>"
      ],
      "text/plain": [
       "           app  channel    click_id  device      ip  is_attributed  os  \\\n",
       "110000000    9      244  4294967295       1   80458              0  20   \n",
       "110000001   15      379  4294967295       1  253659              0  13   \n",
       "110000002    1      377  4294967295       1   69140              0  23   \n",
       "110000003    1      153  4294967295       1   60083              0  13   \n",
       "110000004    3      280  4294967295       1   81837              0  47   \n",
       "\n",
       "           click_timeDay  click_timeHour  click_timeMinute  click_timeSecond  \\\n",
       "110000000              8              12                35                14   \n",
       "110000001              8              12                35                14   \n",
       "110000002              8              12                35                14   \n",
       "110000003              8              12                35                14   \n",
       "110000004              8              12                35                14   \n",
       "\n",
       "           click_timeElapsed  \n",
       "110000000         1510144514  \n",
       "110000001         1510144514  \n",
       "110000002         1510144514  \n",
       "110000003         1510144514  \n",
       "110000004         1510144514  "
      ]
     },
     "metadata": {},
     "output_type": "display_data"
    },
    {
     "name": "stdout",
     "output_type": "stream",
     "text": [
      "12\n",
      "CPU times: user 15 s, sys: 2.05 s, total: 17 s\n",
      "Wall time: 4.58 s\n"
     ]
    },
    {
     "data": {
      "text/html": [
       "<div>\n",
       "<style scoped>\n",
       "    .dataframe tbody tr th:only-of-type {\n",
       "        vertical-align: middle;\n",
       "    }\n",
       "\n",
       "    .dataframe tbody tr th {\n",
       "        vertical-align: top;\n",
       "    }\n",
       "\n",
       "    .dataframe thead th {\n",
       "        text-align: right;\n",
       "    }\n",
       "</style>\n",
       "<table border=\"1\" class=\"dataframe\">\n",
       "  <thead>\n",
       "    <tr style=\"text-align: right;\">\n",
       "      <th></th>\n",
       "      <th>app</th>\n",
       "      <th>channel</th>\n",
       "      <th>click_id</th>\n",
       "      <th>device</th>\n",
       "      <th>ip</th>\n",
       "      <th>is_attributed</th>\n",
       "      <th>os</th>\n",
       "      <th>click_timeDay</th>\n",
       "      <th>click_timeHour</th>\n",
       "      <th>click_timeMinute</th>\n",
       "      <th>click_timeSecond</th>\n",
       "      <th>click_timeElapsed</th>\n",
       "    </tr>\n",
       "  </thead>\n",
       "  <tbody>\n",
       "    <tr>\n",
       "      <th>120000000</th>\n",
       "      <td>12</td>\n",
       "      <td>265</td>\n",
       "      <td>4294967295</td>\n",
       "      <td>1</td>\n",
       "      <td>95766</td>\n",
       "      <td>0</td>\n",
       "      <td>19</td>\n",
       "      <td>8</td>\n",
       "      <td>15</td>\n",
       "      <td>19</td>\n",
       "      <td>33</td>\n",
       "      <td>1510154373</td>\n",
       "    </tr>\n",
       "    <tr>\n",
       "      <th>120000001</th>\n",
       "      <td>15</td>\n",
       "      <td>245</td>\n",
       "      <td>4294967295</td>\n",
       "      <td>1</td>\n",
       "      <td>44744</td>\n",
       "      <td>0</td>\n",
       "      <td>18</td>\n",
       "      <td>8</td>\n",
       "      <td>15</td>\n",
       "      <td>19</td>\n",
       "      <td>33</td>\n",
       "      <td>1510154373</td>\n",
       "    </tr>\n",
       "    <tr>\n",
       "      <th>120000002</th>\n",
       "      <td>18</td>\n",
       "      <td>107</td>\n",
       "      <td>4294967295</td>\n",
       "      <td>1</td>\n",
       "      <td>29748</td>\n",
       "      <td>0</td>\n",
       "      <td>47</td>\n",
       "      <td>8</td>\n",
       "      <td>15</td>\n",
       "      <td>19</td>\n",
       "      <td>33</td>\n",
       "      <td>1510154373</td>\n",
       "    </tr>\n",
       "    <tr>\n",
       "      <th>120000003</th>\n",
       "      <td>15</td>\n",
       "      <td>245</td>\n",
       "      <td>4294967295</td>\n",
       "      <td>1</td>\n",
       "      <td>71017</td>\n",
       "      <td>0</td>\n",
       "      <td>35</td>\n",
       "      <td>8</td>\n",
       "      <td>15</td>\n",
       "      <td>19</td>\n",
       "      <td>33</td>\n",
       "      <td>1510154373</td>\n",
       "    </tr>\n",
       "    <tr>\n",
       "      <th>120000004</th>\n",
       "      <td>2</td>\n",
       "      <td>122</td>\n",
       "      <td>4294967295</td>\n",
       "      <td>1</td>\n",
       "      <td>222037</td>\n",
       "      <td>0</td>\n",
       "      <td>27</td>\n",
       "      <td>8</td>\n",
       "      <td>15</td>\n",
       "      <td>19</td>\n",
       "      <td>33</td>\n",
       "      <td>1510154373</td>\n",
       "    </tr>\n",
       "  </tbody>\n",
       "</table>\n",
       "</div>"
      ],
      "text/plain": [
       "           app  channel    click_id  device      ip  is_attributed  os  \\\n",
       "120000000   12      265  4294967295       1   95766              0  19   \n",
       "120000001   15      245  4294967295       1   44744              0  18   \n",
       "120000002   18      107  4294967295       1   29748              0  47   \n",
       "120000003   15      245  4294967295       1   71017              0  35   \n",
       "120000004    2      122  4294967295       1  222037              0  27   \n",
       "\n",
       "           click_timeDay  click_timeHour  click_timeMinute  click_timeSecond  \\\n",
       "120000000              8              15                19                33   \n",
       "120000001              8              15                19                33   \n",
       "120000002              8              15                19                33   \n",
       "120000003              8              15                19                33   \n",
       "120000004              8              15                19                33   \n",
       "\n",
       "           click_timeElapsed  \n",
       "120000000         1510154373  \n",
       "120000001         1510154373  \n",
       "120000002         1510154373  \n",
       "120000003         1510154373  \n",
       "120000004         1510154373  "
      ]
     },
     "metadata": {},
     "output_type": "display_data"
    },
    {
     "name": "stdout",
     "output_type": "stream",
     "text": [
      "13\n",
      "CPU times: user 14.9 s, sys: 2.01 s, total: 16.9 s\n",
      "Wall time: 4.54 s\n"
     ]
    },
    {
     "data": {
      "text/html": [
       "<div>\n",
       "<style scoped>\n",
       "    .dataframe tbody tr th:only-of-type {\n",
       "        vertical-align: middle;\n",
       "    }\n",
       "\n",
       "    .dataframe tbody tr th {\n",
       "        vertical-align: top;\n",
       "    }\n",
       "\n",
       "    .dataframe thead th {\n",
       "        text-align: right;\n",
       "    }\n",
       "</style>\n",
       "<table border=\"1\" class=\"dataframe\">\n",
       "  <thead>\n",
       "    <tr style=\"text-align: right;\">\n",
       "      <th></th>\n",
       "      <th>app</th>\n",
       "      <th>channel</th>\n",
       "      <th>click_id</th>\n",
       "      <th>device</th>\n",
       "      <th>ip</th>\n",
       "      <th>is_attributed</th>\n",
       "      <th>os</th>\n",
       "      <th>click_timeDay</th>\n",
       "      <th>click_timeHour</th>\n",
       "      <th>click_timeMinute</th>\n",
       "      <th>click_timeSecond</th>\n",
       "      <th>click_timeElapsed</th>\n",
       "    </tr>\n",
       "  </thead>\n",
       "  <tbody>\n",
       "    <tr>\n",
       "      <th>130000000</th>\n",
       "      <td>15</td>\n",
       "      <td>245</td>\n",
       "      <td>4294967295</td>\n",
       "      <td>1</td>\n",
       "      <td>87803</td>\n",
       "      <td>0</td>\n",
       "      <td>18</td>\n",
       "      <td>8</td>\n",
       "      <td>23</td>\n",
       "      <td>14</td>\n",
       "      <td>17</td>\n",
       "      <td>1510182857</td>\n",
       "    </tr>\n",
       "    <tr>\n",
       "      <th>130000001</th>\n",
       "      <td>12</td>\n",
       "      <td>140</td>\n",
       "      <td>4294967295</td>\n",
       "      <td>1</td>\n",
       "      <td>101074</td>\n",
       "      <td>0</td>\n",
       "      <td>31</td>\n",
       "      <td>8</td>\n",
       "      <td>23</td>\n",
       "      <td>14</td>\n",
       "      <td>17</td>\n",
       "      <td>1510182857</td>\n",
       "    </tr>\n",
       "    <tr>\n",
       "      <th>130000002</th>\n",
       "      <td>12</td>\n",
       "      <td>178</td>\n",
       "      <td>4294967295</td>\n",
       "      <td>1</td>\n",
       "      <td>86757</td>\n",
       "      <td>0</td>\n",
       "      <td>17</td>\n",
       "      <td>8</td>\n",
       "      <td>23</td>\n",
       "      <td>14</td>\n",
       "      <td>17</td>\n",
       "      <td>1510182857</td>\n",
       "    </tr>\n",
       "    <tr>\n",
       "      <th>130000003</th>\n",
       "      <td>14</td>\n",
       "      <td>480</td>\n",
       "      <td>4294967295</td>\n",
       "      <td>1</td>\n",
       "      <td>53976</td>\n",
       "      <td>0</td>\n",
       "      <td>13</td>\n",
       "      <td>8</td>\n",
       "      <td>23</td>\n",
       "      <td>14</td>\n",
       "      <td>17</td>\n",
       "      <td>1510182857</td>\n",
       "    </tr>\n",
       "    <tr>\n",
       "      <th>130000004</th>\n",
       "      <td>2</td>\n",
       "      <td>236</td>\n",
       "      <td>4294967295</td>\n",
       "      <td>1</td>\n",
       "      <td>46023</td>\n",
       "      <td>0</td>\n",
       "      <td>19</td>\n",
       "      <td>8</td>\n",
       "      <td>23</td>\n",
       "      <td>14</td>\n",
       "      <td>17</td>\n",
       "      <td>1510182857</td>\n",
       "    </tr>\n",
       "  </tbody>\n",
       "</table>\n",
       "</div>"
      ],
      "text/plain": [
       "           app  channel    click_id  device      ip  is_attributed  os  \\\n",
       "130000000   15      245  4294967295       1   87803              0  18   \n",
       "130000001   12      140  4294967295       1  101074              0  31   \n",
       "130000002   12      178  4294967295       1   86757              0  17   \n",
       "130000003   14      480  4294967295       1   53976              0  13   \n",
       "130000004    2      236  4294967295       1   46023              0  19   \n",
       "\n",
       "           click_timeDay  click_timeHour  click_timeMinute  click_timeSecond  \\\n",
       "130000000              8              23                14                17   \n",
       "130000001              8              23                14                17   \n",
       "130000002              8              23                14                17   \n",
       "130000003              8              23                14                17   \n",
       "130000004              8              23                14                17   \n",
       "\n",
       "           click_timeElapsed  \n",
       "130000000         1510182857  \n",
       "130000001         1510182857  \n",
       "130000002         1510182857  \n",
       "130000003         1510182857  \n",
       "130000004         1510182857  "
      ]
     },
     "metadata": {},
     "output_type": "display_data"
    },
    {
     "name": "stdout",
     "output_type": "stream",
     "text": [
      "14\n",
      "CPU times: user 15.1 s, sys: 1.77 s, total: 16.8 s\n",
      "Wall time: 4.45 s\n"
     ]
    },
    {
     "data": {
      "text/html": [
       "<div>\n",
       "<style scoped>\n",
       "    .dataframe tbody tr th:only-of-type {\n",
       "        vertical-align: middle;\n",
       "    }\n",
       "\n",
       "    .dataframe tbody tr th {\n",
       "        vertical-align: top;\n",
       "    }\n",
       "\n",
       "    .dataframe thead th {\n",
       "        text-align: right;\n",
       "    }\n",
       "</style>\n",
       "<table border=\"1\" class=\"dataframe\">\n",
       "  <thead>\n",
       "    <tr style=\"text-align: right;\">\n",
       "      <th></th>\n",
       "      <th>app</th>\n",
       "      <th>channel</th>\n",
       "      <th>click_id</th>\n",
       "      <th>device</th>\n",
       "      <th>ip</th>\n",
       "      <th>is_attributed</th>\n",
       "      <th>os</th>\n",
       "      <th>click_timeDay</th>\n",
       "      <th>click_timeHour</th>\n",
       "      <th>click_timeMinute</th>\n",
       "      <th>click_timeSecond</th>\n",
       "      <th>click_timeElapsed</th>\n",
       "    </tr>\n",
       "  </thead>\n",
       "  <tbody>\n",
       "    <tr>\n",
       "      <th>140000000</th>\n",
       "      <td>12</td>\n",
       "      <td>328</td>\n",
       "      <td>4294967295</td>\n",
       "      <td>1</td>\n",
       "      <td>154267</td>\n",
       "      <td>0</td>\n",
       "      <td>19</td>\n",
       "      <td>9</td>\n",
       "      <td>2</td>\n",
       "      <td>33</td>\n",
       "      <td>33</td>\n",
       "      <td>1510194813</td>\n",
       "    </tr>\n",
       "    <tr>\n",
       "      <th>140000001</th>\n",
       "      <td>3</td>\n",
       "      <td>280</td>\n",
       "      <td>4294967295</td>\n",
       "      <td>1</td>\n",
       "      <td>34897</td>\n",
       "      <td>0</td>\n",
       "      <td>13</td>\n",
       "      <td>9</td>\n",
       "      <td>2</td>\n",
       "      <td>33</td>\n",
       "      <td>33</td>\n",
       "      <td>1510194813</td>\n",
       "    </tr>\n",
       "    <tr>\n",
       "      <th>140000002</th>\n",
       "      <td>14</td>\n",
       "      <td>480</td>\n",
       "      <td>4294967295</td>\n",
       "      <td>1</td>\n",
       "      <td>191691</td>\n",
       "      <td>0</td>\n",
       "      <td>20</td>\n",
       "      <td>9</td>\n",
       "      <td>2</td>\n",
       "      <td>33</td>\n",
       "      <td>33</td>\n",
       "      <td>1510194813</td>\n",
       "    </tr>\n",
       "    <tr>\n",
       "      <th>140000003</th>\n",
       "      <td>15</td>\n",
       "      <td>278</td>\n",
       "      <td>4294967295</td>\n",
       "      <td>1</td>\n",
       "      <td>56105</td>\n",
       "      <td>0</td>\n",
       "      <td>19</td>\n",
       "      <td>9</td>\n",
       "      <td>2</td>\n",
       "      <td>33</td>\n",
       "      <td>33</td>\n",
       "      <td>1510194813</td>\n",
       "    </tr>\n",
       "    <tr>\n",
       "      <th>140000004</th>\n",
       "      <td>2</td>\n",
       "      <td>435</td>\n",
       "      <td>4294967295</td>\n",
       "      <td>1</td>\n",
       "      <td>191691</td>\n",
       "      <td>0</td>\n",
       "      <td>20</td>\n",
       "      <td>9</td>\n",
       "      <td>2</td>\n",
       "      <td>33</td>\n",
       "      <td>33</td>\n",
       "      <td>1510194813</td>\n",
       "    </tr>\n",
       "  </tbody>\n",
       "</table>\n",
       "</div>"
      ],
      "text/plain": [
       "           app  channel    click_id  device      ip  is_attributed  os  \\\n",
       "140000000   12      328  4294967295       1  154267              0  19   \n",
       "140000001    3      280  4294967295       1   34897              0  13   \n",
       "140000002   14      480  4294967295       1  191691              0  20   \n",
       "140000003   15      278  4294967295       1   56105              0  19   \n",
       "140000004    2      435  4294967295       1  191691              0  20   \n",
       "\n",
       "           click_timeDay  click_timeHour  click_timeMinute  click_timeSecond  \\\n",
       "140000000              9               2                33                33   \n",
       "140000001              9               2                33                33   \n",
       "140000002              9               2                33                33   \n",
       "140000003              9               2                33                33   \n",
       "140000004              9               2                33                33   \n",
       "\n",
       "           click_timeElapsed  \n",
       "140000000         1510194813  \n",
       "140000001         1510194813  \n",
       "140000002         1510194813  \n",
       "140000003         1510194813  \n",
       "140000004         1510194813  "
      ]
     },
     "metadata": {},
     "output_type": "display_data"
    },
    {
     "name": "stdout",
     "output_type": "stream",
     "text": [
      "15\n",
      "CPU times: user 15 s, sys: 1.87 s, total: 16.9 s\n",
      "Wall time: 4.56 s\n"
     ]
    },
    {
     "data": {
      "text/html": [
       "<div>\n",
       "<style scoped>\n",
       "    .dataframe tbody tr th:only-of-type {\n",
       "        vertical-align: middle;\n",
       "    }\n",
       "\n",
       "    .dataframe tbody tr th {\n",
       "        vertical-align: top;\n",
       "    }\n",
       "\n",
       "    .dataframe thead th {\n",
       "        text-align: right;\n",
       "    }\n",
       "</style>\n",
       "<table border=\"1\" class=\"dataframe\">\n",
       "  <thead>\n",
       "    <tr style=\"text-align: right;\">\n",
       "      <th></th>\n",
       "      <th>app</th>\n",
       "      <th>channel</th>\n",
       "      <th>click_id</th>\n",
       "      <th>device</th>\n",
       "      <th>ip</th>\n",
       "      <th>is_attributed</th>\n",
       "      <th>os</th>\n",
       "      <th>click_timeDay</th>\n",
       "      <th>click_timeHour</th>\n",
       "      <th>click_timeMinute</th>\n",
       "      <th>click_timeSecond</th>\n",
       "      <th>click_timeElapsed</th>\n",
       "    </tr>\n",
       "  </thead>\n",
       "  <tbody>\n",
       "    <tr>\n",
       "      <th>150000000</th>\n",
       "      <td>12</td>\n",
       "      <td>178</td>\n",
       "      <td>4294967295</td>\n",
       "      <td>1</td>\n",
       "      <td>111186</td>\n",
       "      <td>0</td>\n",
       "      <td>22</td>\n",
       "      <td>9</td>\n",
       "      <td>5</td>\n",
       "      <td>19</td>\n",
       "      <td>45</td>\n",
       "      <td>1510204785</td>\n",
       "    </tr>\n",
       "    <tr>\n",
       "      <th>150000001</th>\n",
       "      <td>12</td>\n",
       "      <td>178</td>\n",
       "      <td>4294967295</td>\n",
       "      <td>1</td>\n",
       "      <td>143839</td>\n",
       "      <td>0</td>\n",
       "      <td>17</td>\n",
       "      <td>9</td>\n",
       "      <td>5</td>\n",
       "      <td>19</td>\n",
       "      <td>45</td>\n",
       "      <td>1510204785</td>\n",
       "    </tr>\n",
       "    <tr>\n",
       "      <th>150000002</th>\n",
       "      <td>18</td>\n",
       "      <td>107</td>\n",
       "      <td>4294967295</td>\n",
       "      <td>1</td>\n",
       "      <td>87609</td>\n",
       "      <td>0</td>\n",
       "      <td>19</td>\n",
       "      <td>9</td>\n",
       "      <td>5</td>\n",
       "      <td>19</td>\n",
       "      <td>45</td>\n",
       "      <td>1510204785</td>\n",
       "    </tr>\n",
       "    <tr>\n",
       "      <th>150000003</th>\n",
       "      <td>2</td>\n",
       "      <td>469</td>\n",
       "      <td>4294967295</td>\n",
       "      <td>1</td>\n",
       "      <td>123924</td>\n",
       "      <td>0</td>\n",
       "      <td>25</td>\n",
       "      <td>9</td>\n",
       "      <td>5</td>\n",
       "      <td>19</td>\n",
       "      <td>45</td>\n",
       "      <td>1510204785</td>\n",
       "    </tr>\n",
       "    <tr>\n",
       "      <th>150000004</th>\n",
       "      <td>29</td>\n",
       "      <td>343</td>\n",
       "      <td>4294967295</td>\n",
       "      <td>1</td>\n",
       "      <td>105861</td>\n",
       "      <td>0</td>\n",
       "      <td>19</td>\n",
       "      <td>9</td>\n",
       "      <td>5</td>\n",
       "      <td>19</td>\n",
       "      <td>45</td>\n",
       "      <td>1510204785</td>\n",
       "    </tr>\n",
       "  </tbody>\n",
       "</table>\n",
       "</div>"
      ],
      "text/plain": [
       "           app  channel    click_id  device      ip  is_attributed  os  \\\n",
       "150000000   12      178  4294967295       1  111186              0  22   \n",
       "150000001   12      178  4294967295       1  143839              0  17   \n",
       "150000002   18      107  4294967295       1   87609              0  19   \n",
       "150000003    2      469  4294967295       1  123924              0  25   \n",
       "150000004   29      343  4294967295       1  105861              0  19   \n",
       "\n",
       "           click_timeDay  click_timeHour  click_timeMinute  click_timeSecond  \\\n",
       "150000000              9               5                19                45   \n",
       "150000001              9               5                19                45   \n",
       "150000002              9               5                19                45   \n",
       "150000003              9               5                19                45   \n",
       "150000004              9               5                19                45   \n",
       "\n",
       "           click_timeElapsed  \n",
       "150000000         1510204785  \n",
       "150000001         1510204785  \n",
       "150000002         1510204785  \n",
       "150000003         1510204785  \n",
       "150000004         1510204785  "
      ]
     },
     "metadata": {},
     "output_type": "display_data"
    },
    {
     "name": "stdout",
     "output_type": "stream",
     "text": [
      "16\n",
      "CPU times: user 14.7 s, sys: 2.13 s, total: 16.9 s\n",
      "Wall time: 4.54 s\n"
     ]
    },
    {
     "data": {
      "text/html": [
       "<div>\n",
       "<style scoped>\n",
       "    .dataframe tbody tr th:only-of-type {\n",
       "        vertical-align: middle;\n",
       "    }\n",
       "\n",
       "    .dataframe tbody tr th {\n",
       "        vertical-align: top;\n",
       "    }\n",
       "\n",
       "    .dataframe thead th {\n",
       "        text-align: right;\n",
       "    }\n",
       "</style>\n",
       "<table border=\"1\" class=\"dataframe\">\n",
       "  <thead>\n",
       "    <tr style=\"text-align: right;\">\n",
       "      <th></th>\n",
       "      <th>app</th>\n",
       "      <th>channel</th>\n",
       "      <th>click_id</th>\n",
       "      <th>device</th>\n",
       "      <th>ip</th>\n",
       "      <th>is_attributed</th>\n",
       "      <th>os</th>\n",
       "      <th>click_timeDay</th>\n",
       "      <th>click_timeHour</th>\n",
       "      <th>click_timeMinute</th>\n",
       "      <th>click_timeSecond</th>\n",
       "      <th>click_timeElapsed</th>\n",
       "    </tr>\n",
       "  </thead>\n",
       "  <tbody>\n",
       "    <tr>\n",
       "      <th>160000000</th>\n",
       "      <td>12</td>\n",
       "      <td>259</td>\n",
       "      <td>4294967295</td>\n",
       "      <td>1</td>\n",
       "      <td>11846</td>\n",
       "      <td>0</td>\n",
       "      <td>13</td>\n",
       "      <td>9</td>\n",
       "      <td>8</td>\n",
       "      <td>17</td>\n",
       "      <td>26</td>\n",
       "      <td>1510215446</td>\n",
       "    </tr>\n",
       "    <tr>\n",
       "      <th>160000001</th>\n",
       "      <td>19</td>\n",
       "      <td>347</td>\n",
       "      <td>4294967295</td>\n",
       "      <td>0</td>\n",
       "      <td>5147</td>\n",
       "      <td>0</td>\n",
       "      <td>0</td>\n",
       "      <td>9</td>\n",
       "      <td>8</td>\n",
       "      <td>17</td>\n",
       "      <td>26</td>\n",
       "      <td>1510215446</td>\n",
       "    </tr>\n",
       "    <tr>\n",
       "      <th>160000002</th>\n",
       "      <td>9</td>\n",
       "      <td>127</td>\n",
       "      <td>4294967295</td>\n",
       "      <td>1</td>\n",
       "      <td>11782</td>\n",
       "      <td>0</td>\n",
       "      <td>8</td>\n",
       "      <td>9</td>\n",
       "      <td>8</td>\n",
       "      <td>17</td>\n",
       "      <td>26</td>\n",
       "      <td>1510215446</td>\n",
       "    </tr>\n",
       "    <tr>\n",
       "      <th>160000003</th>\n",
       "      <td>35</td>\n",
       "      <td>21</td>\n",
       "      <td>4294967295</td>\n",
       "      <td>1</td>\n",
       "      <td>33867</td>\n",
       "      <td>1</td>\n",
       "      <td>19</td>\n",
       "      <td>9</td>\n",
       "      <td>8</td>\n",
       "      <td>17</td>\n",
       "      <td>26</td>\n",
       "      <td>1510215446</td>\n",
       "    </tr>\n",
       "    <tr>\n",
       "      <th>160000004</th>\n",
       "      <td>3</td>\n",
       "      <td>280</td>\n",
       "      <td>4294967295</td>\n",
       "      <td>1</td>\n",
       "      <td>110589</td>\n",
       "      <td>0</td>\n",
       "      <td>23</td>\n",
       "      <td>9</td>\n",
       "      <td>8</td>\n",
       "      <td>17</td>\n",
       "      <td>26</td>\n",
       "      <td>1510215446</td>\n",
       "    </tr>\n",
       "  </tbody>\n",
       "</table>\n",
       "</div>"
      ],
      "text/plain": [
       "           app  channel    click_id  device      ip  is_attributed  os  \\\n",
       "160000000   12      259  4294967295       1   11846              0  13   \n",
       "160000001   19      347  4294967295       0    5147              0   0   \n",
       "160000002    9      127  4294967295       1   11782              0   8   \n",
       "160000003   35       21  4294967295       1   33867              1  19   \n",
       "160000004    3      280  4294967295       1  110589              0  23   \n",
       "\n",
       "           click_timeDay  click_timeHour  click_timeMinute  click_timeSecond  \\\n",
       "160000000              9               8                17                26   \n",
       "160000001              9               8                17                26   \n",
       "160000002              9               8                17                26   \n",
       "160000003              9               8                17                26   \n",
       "160000004              9               8                17                26   \n",
       "\n",
       "           click_timeElapsed  \n",
       "160000000         1510215446  \n",
       "160000001         1510215446  \n",
       "160000002         1510215446  \n",
       "160000003         1510215446  \n",
       "160000004         1510215446  "
      ]
     },
     "metadata": {},
     "output_type": "display_data"
    },
    {
     "name": "stdout",
     "output_type": "stream",
     "text": [
      "17\n",
      "CPU times: user 15 s, sys: 2.02 s, total: 17 s\n",
      "Wall time: 4.57 s\n"
     ]
    },
    {
     "data": {
      "text/html": [
       "<div>\n",
       "<style scoped>\n",
       "    .dataframe tbody tr th:only-of-type {\n",
       "        vertical-align: middle;\n",
       "    }\n",
       "\n",
       "    .dataframe tbody tr th {\n",
       "        vertical-align: top;\n",
       "    }\n",
       "\n",
       "    .dataframe thead th {\n",
       "        text-align: right;\n",
       "    }\n",
       "</style>\n",
       "<table border=\"1\" class=\"dataframe\">\n",
       "  <thead>\n",
       "    <tr style=\"text-align: right;\">\n",
       "      <th></th>\n",
       "      <th>app</th>\n",
       "      <th>channel</th>\n",
       "      <th>click_id</th>\n",
       "      <th>device</th>\n",
       "      <th>ip</th>\n",
       "      <th>is_attributed</th>\n",
       "      <th>os</th>\n",
       "      <th>click_timeDay</th>\n",
       "      <th>click_timeHour</th>\n",
       "      <th>click_timeMinute</th>\n",
       "      <th>click_timeSecond</th>\n",
       "      <th>click_timeElapsed</th>\n",
       "    </tr>\n",
       "  </thead>\n",
       "  <tbody>\n",
       "    <tr>\n",
       "      <th>170000000</th>\n",
       "      <td>26</td>\n",
       "      <td>266</td>\n",
       "      <td>4294967295</td>\n",
       "      <td>1</td>\n",
       "      <td>184398</td>\n",
       "      <td>0</td>\n",
       "      <td>18</td>\n",
       "      <td>9</td>\n",
       "      <td>11</td>\n",
       "      <td>31</td>\n",
       "      <td>15</td>\n",
       "      <td>1510227075</td>\n",
       "    </tr>\n",
       "    <tr>\n",
       "      <th>170000001</th>\n",
       "      <td>12</td>\n",
       "      <td>259</td>\n",
       "      <td>4294967295</td>\n",
       "      <td>1</td>\n",
       "      <td>108913</td>\n",
       "      <td>0</td>\n",
       "      <td>41</td>\n",
       "      <td>9</td>\n",
       "      <td>11</td>\n",
       "      <td>31</td>\n",
       "      <td>15</td>\n",
       "      <td>1510227075</td>\n",
       "    </tr>\n",
       "    <tr>\n",
       "      <th>170000002</th>\n",
       "      <td>12</td>\n",
       "      <td>259</td>\n",
       "      <td>4294967295</td>\n",
       "      <td>1</td>\n",
       "      <td>31421</td>\n",
       "      <td>0</td>\n",
       "      <td>13</td>\n",
       "      <td>9</td>\n",
       "      <td>11</td>\n",
       "      <td>31</td>\n",
       "      <td>15</td>\n",
       "      <td>1510227075</td>\n",
       "    </tr>\n",
       "    <tr>\n",
       "      <th>170000003</th>\n",
       "      <td>160</td>\n",
       "      <td>457</td>\n",
       "      <td>4294967295</td>\n",
       "      <td>1</td>\n",
       "      <td>31421</td>\n",
       "      <td>0</td>\n",
       "      <td>13</td>\n",
       "      <td>9</td>\n",
       "      <td>11</td>\n",
       "      <td>31</td>\n",
       "      <td>15</td>\n",
       "      <td>1510227075</td>\n",
       "    </tr>\n",
       "    <tr>\n",
       "      <th>170000004</th>\n",
       "      <td>18</td>\n",
       "      <td>439</td>\n",
       "      <td>4294967295</td>\n",
       "      <td>1</td>\n",
       "      <td>40965</td>\n",
       "      <td>0</td>\n",
       "      <td>19</td>\n",
       "      <td>9</td>\n",
       "      <td>11</td>\n",
       "      <td>31</td>\n",
       "      <td>15</td>\n",
       "      <td>1510227075</td>\n",
       "    </tr>\n",
       "  </tbody>\n",
       "</table>\n",
       "</div>"
      ],
      "text/plain": [
       "           app  channel    click_id  device      ip  is_attributed  os  \\\n",
       "170000000   26      266  4294967295       1  184398              0  18   \n",
       "170000001   12      259  4294967295       1  108913              0  41   \n",
       "170000002   12      259  4294967295       1   31421              0  13   \n",
       "170000003  160      457  4294967295       1   31421              0  13   \n",
       "170000004   18      439  4294967295       1   40965              0  19   \n",
       "\n",
       "           click_timeDay  click_timeHour  click_timeMinute  click_timeSecond  \\\n",
       "170000000              9              11                31                15   \n",
       "170000001              9              11                31                15   \n",
       "170000002              9              11                31                15   \n",
       "170000003              9              11                31                15   \n",
       "170000004              9              11                31                15   \n",
       "\n",
       "           click_timeElapsed  \n",
       "170000000         1510227075  \n",
       "170000001         1510227075  \n",
       "170000002         1510227075  \n",
       "170000003         1510227075  \n",
       "170000004         1510227075  "
      ]
     },
     "metadata": {},
     "output_type": "display_data"
    },
    {
     "name": "stdout",
     "output_type": "stream",
     "text": [
      "18\n",
      "CPU times: user 14.9 s, sys: 1.92 s, total: 16.8 s\n",
      "Wall time: 4.48 s\n"
     ]
    },
    {
     "data": {
      "text/html": [
       "<div>\n",
       "<style scoped>\n",
       "    .dataframe tbody tr th:only-of-type {\n",
       "        vertical-align: middle;\n",
       "    }\n",
       "\n",
       "    .dataframe tbody tr th {\n",
       "        vertical-align: top;\n",
       "    }\n",
       "\n",
       "    .dataframe thead th {\n",
       "        text-align: right;\n",
       "    }\n",
       "</style>\n",
       "<table border=\"1\" class=\"dataframe\">\n",
       "  <thead>\n",
       "    <tr style=\"text-align: right;\">\n",
       "      <th></th>\n",
       "      <th>app</th>\n",
       "      <th>channel</th>\n",
       "      <th>click_id</th>\n",
       "      <th>device</th>\n",
       "      <th>ip</th>\n",
       "      <th>is_attributed</th>\n",
       "      <th>os</th>\n",
       "      <th>click_timeDay</th>\n",
       "      <th>click_timeHour</th>\n",
       "      <th>click_timeMinute</th>\n",
       "      <th>click_timeSecond</th>\n",
       "      <th>click_timeElapsed</th>\n",
       "    </tr>\n",
       "  </thead>\n",
       "  <tbody>\n",
       "    <tr>\n",
       "      <th>180000000</th>\n",
       "      <td>9</td>\n",
       "      <td>442</td>\n",
       "      <td>4294967295</td>\n",
       "      <td>1</td>\n",
       "      <td>119179</td>\n",
       "      <td>0</td>\n",
       "      <td>13</td>\n",
       "      <td>9</td>\n",
       "      <td>14</td>\n",
       "      <td>26</td>\n",
       "      <td>24</td>\n",
       "      <td>1510237584</td>\n",
       "    </tr>\n",
       "    <tr>\n",
       "      <th>180000001</th>\n",
       "      <td>9</td>\n",
       "      <td>466</td>\n",
       "      <td>4294967295</td>\n",
       "      <td>1</td>\n",
       "      <td>41106</td>\n",
       "      <td>0</td>\n",
       "      <td>10</td>\n",
       "      <td>9</td>\n",
       "      <td>14</td>\n",
       "      <td>26</td>\n",
       "      <td>24</td>\n",
       "      <td>1510237584</td>\n",
       "    </tr>\n",
       "    <tr>\n",
       "      <th>180000002</th>\n",
       "      <td>12</td>\n",
       "      <td>259</td>\n",
       "      <td>4294967295</td>\n",
       "      <td>1</td>\n",
       "      <td>11590</td>\n",
       "      <td>0</td>\n",
       "      <td>25</td>\n",
       "      <td>9</td>\n",
       "      <td>14</td>\n",
       "      <td>26</td>\n",
       "      <td>24</td>\n",
       "      <td>1510237584</td>\n",
       "    </tr>\n",
       "    <tr>\n",
       "      <th>180000003</th>\n",
       "      <td>18</td>\n",
       "      <td>376</td>\n",
       "      <td>4294967295</td>\n",
       "      <td>1</td>\n",
       "      <td>25299</td>\n",
       "      <td>0</td>\n",
       "      <td>22</td>\n",
       "      <td>9</td>\n",
       "      <td>14</td>\n",
       "      <td>26</td>\n",
       "      <td>24</td>\n",
       "      <td>1510237584</td>\n",
       "    </tr>\n",
       "    <tr>\n",
       "      <th>180000004</th>\n",
       "      <td>8</td>\n",
       "      <td>145</td>\n",
       "      <td>4294967295</td>\n",
       "      <td>1</td>\n",
       "      <td>221167</td>\n",
       "      <td>0</td>\n",
       "      <td>13</td>\n",
       "      <td>9</td>\n",
       "      <td>14</td>\n",
       "      <td>26</td>\n",
       "      <td>24</td>\n",
       "      <td>1510237584</td>\n",
       "    </tr>\n",
       "  </tbody>\n",
       "</table>\n",
       "</div>"
      ],
      "text/plain": [
       "           app  channel    click_id  device      ip  is_attributed  os  \\\n",
       "180000000    9      442  4294967295       1  119179              0  13   \n",
       "180000001    9      466  4294967295       1   41106              0  10   \n",
       "180000002   12      259  4294967295       1   11590              0  25   \n",
       "180000003   18      376  4294967295       1   25299              0  22   \n",
       "180000004    8      145  4294967295       1  221167              0  13   \n",
       "\n",
       "           click_timeDay  click_timeHour  click_timeMinute  click_timeSecond  \\\n",
       "180000000              9              14                26                24   \n",
       "180000001              9              14                26                24   \n",
       "180000002              9              14                26                24   \n",
       "180000003              9              14                26                24   \n",
       "180000004              9              14                26                24   \n",
       "\n",
       "           click_timeElapsed  \n",
       "180000000         1510237584  \n",
       "180000001         1510237584  \n",
       "180000002         1510237584  \n",
       "180000003         1510237584  \n",
       "180000004         1510237584  "
      ]
     },
     "metadata": {},
     "output_type": "display_data"
    },
    {
     "name": "stdout",
     "output_type": "stream",
     "text": [
      "19\n",
      "CPU times: user 14.9 s, sys: 1.96 s, total: 16.9 s\n",
      "Wall time: 4.53 s\n"
     ]
    },
    {
     "data": {
      "text/html": [
       "<div>\n",
       "<style scoped>\n",
       "    .dataframe tbody tr th:only-of-type {\n",
       "        vertical-align: middle;\n",
       "    }\n",
       "\n",
       "    .dataframe tbody tr th {\n",
       "        vertical-align: top;\n",
       "    }\n",
       "\n",
       "    .dataframe thead th {\n",
       "        text-align: right;\n",
       "    }\n",
       "</style>\n",
       "<table border=\"1\" class=\"dataframe\">\n",
       "  <thead>\n",
       "    <tr style=\"text-align: right;\">\n",
       "      <th></th>\n",
       "      <th>app</th>\n",
       "      <th>channel</th>\n",
       "      <th>click_id</th>\n",
       "      <th>device</th>\n",
       "      <th>ip</th>\n",
       "      <th>is_attributed</th>\n",
       "      <th>os</th>\n",
       "      <th>click_timeDay</th>\n",
       "      <th>click_timeHour</th>\n",
       "      <th>click_timeMinute</th>\n",
       "      <th>click_timeSecond</th>\n",
       "      <th>click_timeElapsed</th>\n",
       "    </tr>\n",
       "  </thead>\n",
       "  <tbody>\n",
       "    <tr>\n",
       "      <th>190000000</th>\n",
       "      <td>2</td>\n",
       "      <td>205</td>\n",
       "      <td>4294967214</td>\n",
       "      <td>1</td>\n",
       "      <td>52076</td>\n",
       "      <td>255</td>\n",
       "      <td>19</td>\n",
       "      <td>10</td>\n",
       "      <td>5</td>\n",
       "      <td>35</td>\n",
       "      <td>28</td>\n",
       "      <td>1510292128</td>\n",
       "    </tr>\n",
       "    <tr>\n",
       "      <th>190000001</th>\n",
       "      <td>2</td>\n",
       "      <td>122</td>\n",
       "      <td>4294967215</td>\n",
       "      <td>1</td>\n",
       "      <td>69810</td>\n",
       "      <td>255</td>\n",
       "      <td>15</td>\n",
       "      <td>10</td>\n",
       "      <td>5</td>\n",
       "      <td>35</td>\n",
       "      <td>28</td>\n",
       "      <td>1510292128</td>\n",
       "    </tr>\n",
       "    <tr>\n",
       "      <th>190000002</th>\n",
       "      <td>25</td>\n",
       "      <td>259</td>\n",
       "      <td>4294967216</td>\n",
       "      <td>1</td>\n",
       "      <td>10201</td>\n",
       "      <td>255</td>\n",
       "      <td>19</td>\n",
       "      <td>10</td>\n",
       "      <td>5</td>\n",
       "      <td>35</td>\n",
       "      <td>28</td>\n",
       "      <td>1510292128</td>\n",
       "    </tr>\n",
       "    <tr>\n",
       "      <th>190000003</th>\n",
       "      <td>3</td>\n",
       "      <td>424</td>\n",
       "      <td>4294967217</td>\n",
       "      <td>1</td>\n",
       "      <td>50924</td>\n",
       "      <td>255</td>\n",
       "      <td>13</td>\n",
       "      <td>10</td>\n",
       "      <td>5</td>\n",
       "      <td>35</td>\n",
       "      <td>28</td>\n",
       "      <td>1510292128</td>\n",
       "    </tr>\n",
       "    <tr>\n",
       "      <th>190000004</th>\n",
       "      <td>9</td>\n",
       "      <td>489</td>\n",
       "      <td>4294967218</td>\n",
       "      <td>1</td>\n",
       "      <td>30840</td>\n",
       "      <td>255</td>\n",
       "      <td>16</td>\n",
       "      <td>10</td>\n",
       "      <td>5</td>\n",
       "      <td>35</td>\n",
       "      <td>28</td>\n",
       "      <td>1510292128</td>\n",
       "    </tr>\n",
       "  </tbody>\n",
       "</table>\n",
       "</div>"
      ],
      "text/plain": [
       "           app  channel    click_id  device     ip  is_attributed  os  \\\n",
       "190000000    2      205  4294967214       1  52076            255  19   \n",
       "190000001    2      122  4294967215       1  69810            255  15   \n",
       "190000002   25      259  4294967216       1  10201            255  19   \n",
       "190000003    3      424  4294967217       1  50924            255  13   \n",
       "190000004    9      489  4294967218       1  30840            255  16   \n",
       "\n",
       "           click_timeDay  click_timeHour  click_timeMinute  click_timeSecond  \\\n",
       "190000000             10               5                35                28   \n",
       "190000001             10               5                35                28   \n",
       "190000002             10               5                35                28   \n",
       "190000003             10               5                35                28   \n",
       "190000004             10               5                35                28   \n",
       "\n",
       "           click_timeElapsed  \n",
       "190000000         1510292128  \n",
       "190000001         1510292128  \n",
       "190000002         1510292128  \n",
       "190000003         1510292128  \n",
       "190000004         1510292128  "
      ]
     },
     "metadata": {},
     "output_type": "display_data"
    },
    {
     "name": "stdout",
     "output_type": "stream",
     "text": [
      "20\n",
      "CPU times: user 8.59 s, sys: 136 ms, total: 8.72 s\n",
      "Wall time: 1.47 s\n"
     ]
    },
    {
     "data": {
      "text/html": [
       "<div>\n",
       "<style scoped>\n",
       "    .dataframe tbody tr th:only-of-type {\n",
       "        vertical-align: middle;\n",
       "    }\n",
       "\n",
       "    .dataframe tbody tr th {\n",
       "        vertical-align: top;\n",
       "    }\n",
       "\n",
       "    .dataframe thead th {\n",
       "        text-align: right;\n",
       "    }\n",
       "</style>\n",
       "<table border=\"1\" class=\"dataframe\">\n",
       "  <thead>\n",
       "    <tr style=\"text-align: right;\">\n",
       "      <th></th>\n",
       "      <th>app</th>\n",
       "      <th>channel</th>\n",
       "      <th>click_id</th>\n",
       "      <th>device</th>\n",
       "      <th>ip</th>\n",
       "      <th>is_attributed</th>\n",
       "      <th>os</th>\n",
       "      <th>click_timeDay</th>\n",
       "      <th>click_timeHour</th>\n",
       "      <th>click_timeMinute</th>\n",
       "      <th>click_timeSecond</th>\n",
       "      <th>click_timeElapsed</th>\n",
       "    </tr>\n",
       "  </thead>\n",
       "  <tbody>\n",
       "    <tr>\n",
       "      <th>200000000</th>\n",
       "      <td>12</td>\n",
       "      <td>265</td>\n",
       "      <td>46</td>\n",
       "      <td>1</td>\n",
       "      <td>34980</td>\n",
       "      <td>255</td>\n",
       "      <td>19</td>\n",
       "      <td>10</td>\n",
       "      <td>13</td>\n",
       "      <td>52</td>\n",
       "      <td>17</td>\n",
       "      <td>1510321937</td>\n",
       "    </tr>\n",
       "    <tr>\n",
       "      <th>200000001</th>\n",
       "      <td>3</td>\n",
       "      <td>173</td>\n",
       "      <td>47</td>\n",
       "      <td>1</td>\n",
       "      <td>6367</td>\n",
       "      <td>255</td>\n",
       "      <td>13</td>\n",
       "      <td>10</td>\n",
       "      <td>13</td>\n",
       "      <td>52</td>\n",
       "      <td>17</td>\n",
       "      <td>1510321937</td>\n",
       "    </tr>\n",
       "    <tr>\n",
       "      <th>200000002</th>\n",
       "      <td>19</td>\n",
       "      <td>347</td>\n",
       "      <td>48</td>\n",
       "      <td>0</td>\n",
       "      <td>7838</td>\n",
       "      <td>255</td>\n",
       "      <td>50</td>\n",
       "      <td>10</td>\n",
       "      <td>13</td>\n",
       "      <td>52</td>\n",
       "      <td>17</td>\n",
       "      <td>1510321937</td>\n",
       "    </tr>\n",
       "    <tr>\n",
       "      <th>200000003</th>\n",
       "      <td>2</td>\n",
       "      <td>212</td>\n",
       "      <td>49</td>\n",
       "      <td>1</td>\n",
       "      <td>12788</td>\n",
       "      <td>255</td>\n",
       "      <td>16</td>\n",
       "      <td>10</td>\n",
       "      <td>13</td>\n",
       "      <td>52</td>\n",
       "      <td>17</td>\n",
       "      <td>1510321937</td>\n",
       "    </tr>\n",
       "    <tr>\n",
       "      <th>200000004</th>\n",
       "      <td>2</td>\n",
       "      <td>435</td>\n",
       "      <td>50</td>\n",
       "      <td>1</td>\n",
       "      <td>35414</td>\n",
       "      <td>255</td>\n",
       "      <td>19</td>\n",
       "      <td>10</td>\n",
       "      <td>13</td>\n",
       "      <td>52</td>\n",
       "      <td>17</td>\n",
       "      <td>1510321937</td>\n",
       "    </tr>\n",
       "  </tbody>\n",
       "</table>\n",
       "</div>"
      ],
      "text/plain": [
       "           app  channel  click_id  device     ip  is_attributed  os  \\\n",
       "200000000   12      265        46       1  34980            255  19   \n",
       "200000001    3      173        47       1   6367            255  13   \n",
       "200000002   19      347        48       0   7838            255  50   \n",
       "200000003    2      212        49       1  12788            255  16   \n",
       "200000004    2      435        50       1  35414            255  19   \n",
       "\n",
       "           click_timeDay  click_timeHour  click_timeMinute  click_timeSecond  \\\n",
       "200000000             10              13                52                17   \n",
       "200000001             10              13                52                17   \n",
       "200000002             10              13                52                17   \n",
       "200000003             10              13                52                17   \n",
       "200000004             10              13                52                17   \n",
       "\n",
       "           click_timeElapsed  \n",
       "200000000         1510321937  \n",
       "200000001         1510321937  \n",
       "200000002         1510321937  \n",
       "200000003         1510321937  \n",
       "200000004         1510321937  "
      ]
     },
     "metadata": {},
     "output_type": "display_data"
    },
    {
     "name": "stdout",
     "output_type": "stream",
     "text": [
      "done\n"
     ]
    }
   ],
   "source": [
    "train_df_chunk = pd.read_csv('tmp.csv', chunksize = 10000000, dtype=dtypes)\n",
    "\n",
    "train_df = []\n",
    "for i ,chunk in enumerate(train_df_chunk):\n",
    "    print(i)\n",
    "    %time add_datepart(chunk,'click_time')\n",
    "    display(chunk.head())\n",
    "    train_df.append(chunk)\n",
    "    gc.collect()\n",
    "print('done')\n",
    "\n",
    "\n"
   ]
  },
  {
   "cell_type": "code",
   "execution_count": 21,
   "metadata": {},
   "outputs": [],
   "source": [
    "train_df = pd.concat(train_df)"
   ]
  },
  {
   "cell_type": "code",
   "execution_count": 25,
   "metadata": {
    "scrolled": true
   },
   "outputs": [
    {
     "data": {
      "text/plain": [
       "5633.484354972839"
      ]
     },
     "execution_count": 25,
     "metadata": {},
     "output_type": "execute_result"
    }
   ],
   "source": [
    "train_df.memory_usage().sum()/1024/1024"
   ]
  },
  {
   "cell_type": "code",
   "execution_count": null,
   "metadata": {
    "ExecuteTime": {
     "end_time": "2018-05-01T16:43:31.955020Z",
     "start_time": "2018-05-01T16:39:23.406Z"
    },
    "_cell_guid": "189f7c60-f54a-43de-9ab9-77f75bf029ff",
    "_uuid": "7c76a609c3023552b27f020d4edb818677d69635"
   },
   "outputs": [],
   "source": [
    "# del test_df\n",
    "gc.collect()"
   ]
  },
  {
   "cell_type": "code",
   "execution_count": null,
   "metadata": {
    "ExecuteTime": {
     "end_time": "2018-05-01T16:43:31.961536Z",
     "start_time": "2018-05-01T16:39:23.564Z"
    },
    "_cell_guid": "68ffa0c9-43bb-40ed-af30-339cedb6cdda",
    "_uuid": "1bba2aafdf77baecf7918959f7cb140fa708c818"
   },
   "outputs": [],
   "source": [
    "# DataFrameSummary(train_df).summary()"
   ]
  },
  {
   "cell_type": "markdown",
   "metadata": {
    "_cell_guid": "2eadcaf3-6897-4680-b20a-3b04de25cb1c",
    "_uuid": "e04f2db16b56e390e709c45cc9bcf5e8f3175e90"
   },
   "source": [
    "Looks like the data is pretty good, no missing data issue or it may have be removed already."
   ]
  },
  {
   "cell_type": "code",
   "execution_count": 29,
   "metadata": {
    "ExecuteTime": {
     "end_time": "2018-05-01T16:43:31.966558Z",
     "start_time": "2018-05-01T16:39:24.264Z"
    },
    "_cell_guid": "9d94c4c3-c229-4b29-98a3-3d5ca4bb68ae",
    "_uuid": "a0ce7e0d66202411210846ad825fc804bcd6a744"
   },
   "outputs": [
    {
     "name": "stdout",
     "output_type": "stream",
     "text": [
      "group by...\n",
      "merge...\n"
     ]
    },
    {
     "data": {
      "text/plain": [
       "1097"
      ]
     },
     "execution_count": 29,
     "metadata": {},
     "output_type": "execute_result"
    }
   ],
   "source": [
    "# # of clicks for each ip-day-hour combination\n",
    "print('group by...')\n",
    "gp = train_df[['ip','click_timeDay','click_timeHour','click_timeMinute','channel']].groupby(by=['ip','click_timeDay','click_timeHour','click_timeMinute'])[['channel']].count().reset_index().rename(index=str, columns={'channel': 'qty'})\n",
    "print('merge...')\n",
    "train_df = train_df.merge(gp, on=['ip','click_timeDay','click_timeHour','click_timeMinute'], how='left')\n",
    "del gp\n",
    "gc.collect()"
   ]
  },
  {
   "cell_type": "code",
   "execution_count": 30,
   "metadata": {
    "ExecuteTime": {
     "end_time": "2018-05-01T16:43:31.968563Z",
     "start_time": "2018-05-01T16:39:24.436Z"
    },
    "_cell_guid": "0580dcce-10aa-4f4b-8515-43eefd8992a7",
    "_uuid": "ce02e539b482e48f9a9ddde225da2a7a1a8d787f"
   },
   "outputs": [
    {
     "name": "stdout",
     "output_type": "stream",
     "text": [
      "group by...\n"
     ]
    },
    {
     "data": {
      "text/plain": [
       "98"
      ]
     },
     "execution_count": 30,
     "metadata": {},
     "output_type": "execute_result"
    }
   ],
   "source": [
    "# # of clicks for each ip-app combination\n",
    "print('group by...')\n",
    "gp = train_df[['ip','app', 'channel']].groupby(by=['ip', 'app'])[['channel']].count().reset_index().rename(index=str, columns={'channel': 'ip_app_count'})\n",
    "train_df = train_df.merge(gp, on=['ip','app'], how='left')\n",
    "del gp\n",
    "gc.collect()"
   ]
  },
  {
   "cell_type": "code",
   "execution_count": 31,
   "metadata": {
    "ExecuteTime": {
     "end_time": "2018-05-01T16:43:31.971571Z",
     "start_time": "2018-05-01T16:39:24.612Z"
    },
    "_cell_guid": "75b4f82a-65eb-4468-b2d4-63e1106f2588",
    "_uuid": "6e71dade8a085348c69be81f38495466cb75b0d7"
   },
   "outputs": [
    {
     "name": "stdout",
     "output_type": "stream",
     "text": [
      "group by...\n"
     ]
    },
    {
     "data": {
      "text/plain": [
       "114"
      ]
     },
     "execution_count": 31,
     "metadata": {},
     "output_type": "execute_result"
    }
   ],
   "source": [
    "# # of clicks for each ip-app-os combination\n",
    "print('group by...')\n",
    "gp = train_df[['ip','app', 'os', 'channel']].groupby(by=['ip', 'app', 'os'])[['channel']].count().reset_index().rename(index=str, columns={'channel': 'ip_app_os_count'})\n",
    "train_df = train_df.merge(gp, on=['ip','app', 'os'], how='left')\n",
    "del gp\n",
    "gc.collect()"
   ]
  },
  {
   "cell_type": "code",
   "execution_count": 32,
   "metadata": {
    "ExecuteTime": {
     "end_time": "2018-05-01T16:43:31.974079Z",
     "start_time": "2018-05-01T16:39:24.782Z"
    },
    "_cell_guid": "64c6802b-cdf5-4003-9141-c1bdbf53be5b",
    "_uuid": "75dc5c95c014b56bba917c9748e7c785932cdca5",
    "scrolled": true
   },
   "outputs": [
    {
     "name": "stdout",
     "output_type": "stream",
     "text": [
      "vars and data type: \n",
      "<class 'pandas.core.frame.DataFrame'>\n",
      "Int64Index: 203694359 entries, 0 to 203694358\n",
      "Data columns (total 15 columns):\n",
      "app                  uint16\n",
      "channel              uint16\n",
      "click_id             uint32\n",
      "device               uint16\n",
      "ip                   uint32\n",
      "is_attributed        uint8\n",
      "os                   uint16\n",
      "click_timeDay        int8\n",
      "click_timeHour       int8\n",
      "click_timeMinute     int8\n",
      "click_timeSecond     int8\n",
      "click_timeElapsed    int64\n",
      "qty                  int64\n",
      "ip_app_count         int64\n",
      "ip_app_os_count      int64\n",
      "dtypes: int64(4), int8(4), uint16(4), uint32(2), uint8(1)\n",
      "memory usage: 11.6 GB\n"
     ]
    }
   ],
   "source": [
    "print(\"vars and data type: \")\n",
    "train_df.info()\n",
    "train_df['qty'] = train_df['qty'].astype('uint16')\n",
    "train_df['ip_app_count'] = train_df['ip_app_count'].astype('uint16')\n",
    "train_df['ip_app_os_count'] = train_df['ip_app_os_count'].astype('uint16')"
   ]
  },
  {
   "cell_type": "code",
   "execution_count": 33,
   "metadata": {
    "ExecuteTime": {
     "end_time": "2018-05-01T16:43:31.976585Z",
     "start_time": "2018-05-01T16:39:24.958Z"
    },
    "_cell_guid": "455fea68-de0b-4ef3-9fa3-2b8acb634c4d",
    "_uuid": "96c98f625ba37b1d854f754afaf140abcfc96d20",
    "scrolled": false
   },
   "outputs": [
    {
     "data": {
      "text/html": [
       "<div>\n",
       "<style scoped>\n",
       "    .dataframe tbody tr th:only-of-type {\n",
       "        vertical-align: middle;\n",
       "    }\n",
       "\n",
       "    .dataframe tbody tr th {\n",
       "        vertical-align: top;\n",
       "    }\n",
       "\n",
       "    .dataframe thead th {\n",
       "        text-align: right;\n",
       "    }\n",
       "</style>\n",
       "<table border=\"1\" class=\"dataframe\">\n",
       "  <thead>\n",
       "    <tr style=\"text-align: right;\">\n",
       "      <th></th>\n",
       "      <th>app</th>\n",
       "      <th>channel</th>\n",
       "      <th>click_id</th>\n",
       "      <th>device</th>\n",
       "      <th>ip</th>\n",
       "      <th>is_attributed</th>\n",
       "      <th>os</th>\n",
       "      <th>click_timeDay</th>\n",
       "      <th>click_timeHour</th>\n",
       "      <th>click_timeMinute</th>\n",
       "      <th>click_timeSecond</th>\n",
       "      <th>click_timeElapsed</th>\n",
       "      <th>qty</th>\n",
       "      <th>ip_app_count</th>\n",
       "      <th>ip_app_os_count</th>\n",
       "    </tr>\n",
       "  </thead>\n",
       "  <tbody>\n",
       "    <tr>\n",
       "      <th>0</th>\n",
       "      <td>3</td>\n",
       "      <td>379</td>\n",
       "      <td>4294967295</td>\n",
       "      <td>1</td>\n",
       "      <td>83230</td>\n",
       "      <td>0</td>\n",
       "      <td>13</td>\n",
       "      <td>6</td>\n",
       "      <td>14</td>\n",
       "      <td>32</td>\n",
       "      <td>21</td>\n",
       "      <td>1509978741</td>\n",
       "      <td>1</td>\n",
       "      <td>5759</td>\n",
       "      <td>1431</td>\n",
       "    </tr>\n",
       "    <tr>\n",
       "      <th>1</th>\n",
       "      <td>3</td>\n",
       "      <td>379</td>\n",
       "      <td>4294967295</td>\n",
       "      <td>1</td>\n",
       "      <td>17357</td>\n",
       "      <td>0</td>\n",
       "      <td>19</td>\n",
       "      <td>6</td>\n",
       "      <td>14</td>\n",
       "      <td>33</td>\n",
       "      <td>34</td>\n",
       "      <td>1509978814</td>\n",
       "      <td>1</td>\n",
       "      <td>5245</td>\n",
       "      <td>1451</td>\n",
       "    </tr>\n",
       "    <tr>\n",
       "      <th>2</th>\n",
       "      <td>3</td>\n",
       "      <td>379</td>\n",
       "      <td>4294967295</td>\n",
       "      <td>1</td>\n",
       "      <td>35810</td>\n",
       "      <td>0</td>\n",
       "      <td>13</td>\n",
       "      <td>6</td>\n",
       "      <td>14</td>\n",
       "      <td>34</td>\n",
       "      <td>12</td>\n",
       "      <td>1509978852</td>\n",
       "      <td>1</td>\n",
       "      <td>2156</td>\n",
       "      <td>462</td>\n",
       "    </tr>\n",
       "    <tr>\n",
       "      <th>3</th>\n",
       "      <td>14</td>\n",
       "      <td>478</td>\n",
       "      <td>4294967295</td>\n",
       "      <td>1</td>\n",
       "      <td>45745</td>\n",
       "      <td>0</td>\n",
       "      <td>13</td>\n",
       "      <td>6</td>\n",
       "      <td>14</td>\n",
       "      <td>34</td>\n",
       "      <td>52</td>\n",
       "      <td>1509978892</td>\n",
       "      <td>1</td>\n",
       "      <td>10547</td>\n",
       "      <td>2186</td>\n",
       "    </tr>\n",
       "    <tr>\n",
       "      <th>4</th>\n",
       "      <td>3</td>\n",
       "      <td>379</td>\n",
       "      <td>4294967295</td>\n",
       "      <td>1</td>\n",
       "      <td>161007</td>\n",
       "      <td>0</td>\n",
       "      <td>13</td>\n",
       "      <td>6</td>\n",
       "      <td>14</td>\n",
       "      <td>35</td>\n",
       "      <td>8</td>\n",
       "      <td>1509978908</td>\n",
       "      <td>1</td>\n",
       "      <td>232</td>\n",
       "      <td>80</td>\n",
       "    </tr>\n",
       "  </tbody>\n",
       "</table>\n",
       "</div>"
      ],
      "text/plain": [
       "   app  channel    click_id  device      ip  is_attributed  os  click_timeDay  \\\n",
       "0    3      379  4294967295       1   83230              0  13              6   \n",
       "1    3      379  4294967295       1   17357              0  19              6   \n",
       "2    3      379  4294967295       1   35810              0  13              6   \n",
       "3   14      478  4294967295       1   45745              0  13              6   \n",
       "4    3      379  4294967295       1  161007              0  13              6   \n",
       "\n",
       "   click_timeHour  click_timeMinute  click_timeSecond  click_timeElapsed  qty  \\\n",
       "0              14                32                21         1509978741    1   \n",
       "1              14                33                34         1509978814    1   \n",
       "2              14                34                12         1509978852    1   \n",
       "3              14                34                52         1509978892    1   \n",
       "4              14                35                 8         1509978908    1   \n",
       "\n",
       "   ip_app_count  ip_app_os_count  \n",
       "0          5759             1431  \n",
       "1          5245             1451  \n",
       "2          2156              462  \n",
       "3         10547             2186  \n",
       "4           232               80  "
      ]
     },
     "execution_count": 33,
     "metadata": {},
     "output_type": "execute_result"
    }
   ],
   "source": [
    "train_df.head(5)"
   ]
  },
  {
   "cell_type": "code",
   "execution_count": 36,
   "metadata": {
    "ExecuteTime": {
     "end_time": "2018-05-01T16:43:31.979091Z",
     "start_time": "2018-05-01T16:39:25.128Z"
    },
    "_cell_guid": "3fe001e1-b086-43a7-a556-aa67a0cb8ccf",
    "_uuid": "df0066c149e49bbc8ae54236430f77fc60d541a1"
   },
   "outputs": [],
   "source": [
    "for i in [  'Day','Hour','Minute','Second']:\n",
    "    train_df['click_time'+i] = train_df['click_time'+i].astype(np.int16)"
   ]
  },
  {
   "cell_type": "code",
   "execution_count": 37,
   "metadata": {
    "ExecuteTime": {
     "end_time": "2018-05-01T16:43:31.982600Z",
     "start_time": "2018-05-01T16:39:25.294Z"
    },
    "_cell_guid": "33f8698f-1080-4b55-9842-e9061a7e9d3f",
    "_uuid": "50e167a89a14a55ae37afc3c0bb218f38918e326"
   },
   "outputs": [
    {
     "data": {
      "text/plain": [
       "9130.129693031311"
      ]
     },
     "execution_count": 37,
     "metadata": {},
     "output_type": "execute_result"
    }
   ],
   "source": [
    "train_df.memory_usage().sum()/1024/1024"
   ]
  },
  {
   "cell_type": "code",
   "execution_count": 42,
   "metadata": {},
   "outputs": [],
   "source": [
    "n_train = len(train_df)"
   ]
  },
  {
   "cell_type": "code",
   "execution_count": 43,
   "metadata": {
    "ExecuteTime": {
     "end_time": "2018-05-01T16:43:31.987113Z",
     "start_time": "2018-05-01T16:39:25.640Z"
    },
    "_cell_guid": "fe0e63e6-970a-4a01-9743-af806da09aeb",
    "_uuid": "b417938df5aac6f2272c1d15a5a7d0c24e09ee21"
   },
   "outputs": [],
   "source": [
    "test_df = train_df[n_train:]\n",
    "val_df = train_df[int(n_train*0.75):n_train]\n",
    "train_df = train_df[:int(n_train*0.75)]"
   ]
  },
  {
   "cell_type": "code",
   "execution_count": null,
   "metadata": {},
   "outputs": [],
   "source": [
    "with open ('train_df.pkl','wb') as f:\n",
    "    pickle.dump(train_df,f)"
   ]
  },
  {
   "cell_type": "code",
   "execution_count": 47,
   "metadata": {},
   "outputs": [
    {
     "ename": "OSError",
     "evalue": "[Errno 28] No space left on device",
     "output_type": "error",
     "traceback": [
      "\u001b[0;31m---------------------------------------------------------------------------\u001b[0m",
      "\u001b[0;31mOSError\u001b[0m                                   Traceback (most recent call last)",
      "\u001b[0;32m<ipython-input-47-98a815623ab4>\u001b[0m in \u001b[0;36m<module>\u001b[0;34m()\u001b[0m\n\u001b[1;32m      1\u001b[0m \u001b[0;32mwith\u001b[0m \u001b[0mopen\u001b[0m \u001b[0;34m(\u001b[0m\u001b[0;34m'val_df.pkl'\u001b[0m\u001b[0;34m,\u001b[0m\u001b[0;34m'wb'\u001b[0m\u001b[0;34m)\u001b[0m \u001b[0;32mas\u001b[0m \u001b[0mf\u001b[0m\u001b[0;34m:\u001b[0m\u001b[0;34m\u001b[0m\u001b[0m\n\u001b[0;32m----> 2\u001b[0;31m     \u001b[0mpickle\u001b[0m\u001b[0;34m.\u001b[0m\u001b[0mdump\u001b[0m\u001b[0;34m(\u001b[0m\u001b[0mval_df\u001b[0m\u001b[0;34m,\u001b[0m\u001b[0mf\u001b[0m\u001b[0;34m)\u001b[0m\u001b[0;34m\u001b[0m\u001b[0m\n\u001b[0m",
      "\u001b[0;31mOSError\u001b[0m: [Errno 28] No space left on device"
     ]
    }
   ],
   "source": [
    "with open ('val_df.pkl','wb') as f:\n",
    "    pickle.dump(val_df,f)"
   ]
  },
  {
   "cell_type": "code",
   "execution_count": 46,
   "metadata": {
    "scrolled": true
   },
   "outputs": [],
   "source": [
    "with open ('test_df.pkl','wb') as f:\n",
    "    pickle.dump(test_df,f)    "
   ]
  },
  {
   "cell_type": "code",
   "execution_count": null,
   "metadata": {},
   "outputs": [],
   "source": []
  },
  {
   "cell_type": "code",
   "execution_count": null,
   "metadata": {
    "ExecuteTime": {
     "end_time": "2018-05-01T16:43:31.989621Z",
     "start_time": "2018-05-01T16:39:25.814Z"
    }
   },
   "outputs": [],
   "source": [
    "def over_sample(df):\n",
    "    count_class_0, count_class_1 = df.is_attributed.value_counts()\n",
    "\n",
    "    # Divide by class\n",
    "    df_class_0 = df[df['is_attributed'] == 0]\n",
    "    df_class_1 = df[df['is_attributed'] == 1]\n",
    "    df_class_1_over = df_class_1.sample(count_class_0, replace=True)\n",
    "    df = pd.concat([df_class_0, df_class_1_over], axis=0)\n",
    "\n",
    "    print('Random over-sampling:')\n",
    "    display(df.is_attributed.value_counts().plot(kind='bar', title='Count (target)'))\n",
    "    return df\n",
    "    \n"
   ]
  },
  {
   "cell_type": "code",
   "execution_count": null,
   "metadata": {
    "ExecuteTime": {
     "end_time": "2018-05-01T16:43:31.991627Z",
     "start_time": "2018-05-01T16:39:25.988Z"
    }
   },
   "outputs": [],
   "source": [
    "train_df = over_sample(train_df)"
   ]
  },
  {
   "cell_type": "code",
   "execution_count": null,
   "metadata": {
    "ExecuteTime": {
     "end_time": "2018-05-01T16:43:31.993631Z",
     "start_time": "2018-05-01T16:39:26.160Z"
    },
    "_cell_guid": "3d0d8be5-2269-4990-a441-1368f4303584",
    "_uuid": "26c81ccd75c7cf3cb635a0cca9050ecde5266123"
   },
   "outputs": [],
   "source": [
    "# # Class count\n",
    "# count_class_0, count_class_1 = val_df.is_attributed.value_counts()\n",
    "\n",
    "# # Divide by class\n",
    "# df_class_0 = val_df[val_df['is_attributed'] == 0]\n",
    "# df_class_1 = val_df[val_df['is_attributed'] == 1]\n",
    "\n",
    "# # df_class_0.head()\n",
    "\n",
    "# df_class_1_over = df_class_1.sample(count_class_0, replace=True)\n",
    "# val_df = pd.concat([df_class_0, df_class_1_over], axis=0)\n",
    "\n",
    "# print('Random over-sampling:')\n",
    "# val_df.is_attributed.value_counts().plot(kind='bar', title='Count (target)');"
   ]
  },
  {
   "cell_type": "code",
   "execution_count": null,
   "metadata": {
    "ExecuteTime": {
     "end_time": "2018-05-01T16:43:31.996137Z",
     "start_time": "2018-05-01T16:39:26.334Z"
    },
    "_cell_guid": "3d0d8be5-2269-4990-a441-1368f4303584",
    "_uuid": "26c81ccd75c7cf3cb635a0cca9050ecde5266123"
   },
   "outputs": [],
   "source": [
    "print(\"train size: \", len(train_df))\n",
    "print(\"valid size: \", len(val_df))\n",
    "print(\"test size : \", len(test_df))\n",
    "\n",
    "## Create Feature"
   ]
  },
  {
   "cell_type": "code",
   "execution_count": null,
   "metadata": {
    "ExecuteTime": {
     "end_time": "2018-05-01T16:43:31.998142Z",
     "start_time": "2018-05-01T16:39:26.508Z"
    }
   },
   "outputs": [],
   "source": [
    "train_df.head(2)"
   ]
  },
  {
   "cell_type": "code",
   "execution_count": null,
   "metadata": {
    "ExecuteTime": {
     "end_time": "2018-05-01T16:43:32.000648Z",
     "start_time": "2018-05-01T16:39:26.688Z"
    }
   },
   "outputs": [],
   "source": [
    "train_df.columns"
   ]
  },
  {
   "cell_type": "code",
   "execution_count": null,
   "metadata": {
    "ExecuteTime": {
     "end_time": "2018-05-01T16:43:32.002653Z",
     "start_time": "2018-05-01T16:39:26.862Z"
    }
   },
   "outputs": [],
   "source": [
    "cat_vars = ['app', 'channel', 'device', 'ip', 'os',\n",
    "       'click_timeYear', 'click_timeMonth', 'click_timeWeek', 'click_timeDay',\n",
    "       'click_timeDayofweek', 'click_timeDayofyear', 'click_timeHour',\n",
    "       'click_timeMinute', 'click_timeSecond', 'click_timeIs_month_end',\n",
    "       'click_timeIs_month_start', 'click_timeIs_quarter_end',\n",
    "       'click_timeIs_quarter_start', 'click_timeIs_year_end',\n",
    "       'click_timeIs_year_start']\n",
    "\n",
    "contin_vars = ['qty', 'ip_app_count',\n",
    "       'ip_app_os_count']\n",
    "\n",
    "n = len(train_df); n"
   ]
  },
  {
   "cell_type": "code",
   "execution_count": null,
   "metadata": {
    "ExecuteTime": {
     "end_time": "2018-05-01T16:43:32.004159Z",
     "start_time": "2018-05-01T16:39:27.034Z"
    }
   },
   "outputs": [],
   "source": [
    "dep = 'is_attributed'\n",
    "joined = train_df[cat_vars+contin_vars+[dep]].copy()"
   ]
  },
  {
   "cell_type": "code",
   "execution_count": null,
   "metadata": {
    "ExecuteTime": {
     "end_time": "2018-05-01T16:43:32.005662Z",
     "start_time": "2018-05-01T16:39:27.224Z"
    },
    "scrolled": true
   },
   "outputs": [],
   "source": [
    "test_df.columns"
   ]
  },
  {
   "cell_type": "code",
   "execution_count": null,
   "metadata": {
    "ExecuteTime": {
     "end_time": "2018-05-01T16:43:32.007667Z",
     "start_time": "2018-05-01T16:39:27.396Z"
    }
   },
   "outputs": [],
   "source": [
    "test_df[dep] = 0\n",
    "joined_test = test_df[cat_vars+contin_vars+[dep, 'click_id', 'click_timeElapsed']].copy()"
   ]
  },
  {
   "cell_type": "code",
   "execution_count": null,
   "metadata": {
    "ExecuteTime": {
     "end_time": "2018-05-01T16:43:32.009171Z",
     "start_time": "2018-05-01T16:39:27.578Z"
    }
   },
   "outputs": [],
   "source": [
    "for v in cat_vars: joined[v] = joined[v].astype('category').cat.as_ordered()"
   ]
  },
  {
   "cell_type": "code",
   "execution_count": null,
   "metadata": {
    "ExecuteTime": {
     "end_time": "2018-05-01T16:43:32.010675Z",
     "start_time": "2018-05-01T16:39:27.758Z"
    },
    "scrolled": true
   },
   "outputs": [],
   "source": [
    "apply_cats(joined_test, joined)"
   ]
  },
  {
   "cell_type": "code",
   "execution_count": null,
   "metadata": {
    "ExecuteTime": {
     "end_time": "2018-05-01T16:43:32.012179Z",
     "start_time": "2018-05-01T16:39:27.940Z"
    }
   },
   "outputs": [],
   "source": [
    "for v in contin_vars:\n",
    "    joined[v] = joined[v].astype('float32')\n",
    "    joined_test[v] = joined_test[v].astype('float32')"
   ]
  },
  {
   "cell_type": "code",
   "execution_count": null,
   "metadata": {
    "ExecuteTime": {
     "end_time": "2018-05-01T16:43:32.013683Z",
     "start_time": "2018-05-01T16:39:28.136Z"
    }
   },
   "outputs": [],
   "source": [
    "df, y, nas, mapper = proc_df(joined, 'is_attributed', do_scale=True)\n",
    "yl = np.log(y)"
   ]
  },
  {
   "cell_type": "code",
   "execution_count": null,
   "metadata": {
    "ExecuteTime": {
     "end_time": "2018-05-01T16:43:32.015187Z",
     "start_time": "2018-05-01T16:39:28.310Z"
    }
   },
   "outputs": [],
   "source": [
    "y = y.astype(np.int64)"
   ]
  },
  {
   "cell_type": "code",
   "execution_count": null,
   "metadata": {
    "ExecuteTime": {
     "end_time": "2018-05-01T16:43:32.016691Z",
     "start_time": "2018-05-01T16:39:28.492Z"
    }
   },
   "outputs": [],
   "source": [
    "torch.Tensor(y).type()"
   ]
  },
  {
   "cell_type": "code",
   "execution_count": null,
   "metadata": {
    "ExecuteTime": {
     "end_time": "2018-05-01T16:43:32.019197Z",
     "start_time": "2018-05-01T16:39:28.666Z"
    }
   },
   "outputs": [],
   "source": [
    "df_test, _, nas, mapper = proc_df(joined_test, 'is_attributed', do_scale=True, skip_flds=['click_id'],\n",
    "                                  mapper=mapper, na_dict=nas)"
   ]
  },
  {
   "cell_type": "code",
   "execution_count": null,
   "metadata": {
    "ExecuteTime": {
     "end_time": "2018-05-01T16:43:32.021203Z",
     "start_time": "2018-05-01T16:39:28.846Z"
    },
    "scrolled": true
   },
   "outputs": [],
   "source": [
    "df_test = df_test.set_index(\"click_timeElapsed\")"
   ]
  },
  {
   "cell_type": "code",
   "execution_count": null,
   "metadata": {
    "ExecuteTime": {
     "end_time": "2018-05-01T16:43:32.022707Z",
     "start_time": "2018-05-01T16:39:29.020Z"
    }
   },
   "outputs": [],
   "source": [
    "df.columns"
   ]
  },
  {
   "cell_type": "code",
   "execution_count": null,
   "metadata": {
    "ExecuteTime": {
     "end_time": "2018-05-01T16:43:32.024713Z",
     "start_time": "2018-05-01T16:39:29.202Z"
    }
   },
   "outputs": [],
   "source": [
    "df_test.columns"
   ]
  },
  {
   "cell_type": "markdown",
   "metadata": {
    "_cell_guid": "7f8d4cb4-f330-4039-8182-ca9b9a9f7d9f",
    "_uuid": "336d3ff25b38918de7d617a902bed6331d0a40db",
    "collapsed": true
   },
   "source": [
    "## DL"
   ]
  },
  {
   "cell_type": "code",
   "execution_count": null,
   "metadata": {
    "ExecuteTime": {
     "end_time": "2018-05-01T16:43:32.026719Z",
     "start_time": "2018-05-01T16:39:29.586Z"
    }
   },
   "outputs": [],
   "source": [
    "from fastai.column_data import *"
   ]
  },
  {
   "cell_type": "code",
   "execution_count": null,
   "metadata": {
    "ExecuteTime": {
     "end_time": "2018-05-01T16:43:32.028222Z",
     "start_time": "2018-05-01T16:39:29.792Z"
    }
   },
   "outputs": [],
   "source": [
    "path"
   ]
  },
  {
   "cell_type": "code",
   "execution_count": null,
   "metadata": {
    "ExecuteTime": {
     "end_time": "2018-05-01T16:43:32.030728Z",
     "start_time": "2018-05-01T16:39:30.132Z"
    }
   },
   "outputs": [],
   "source": [
    "np.arange(len(joined))[int(len(joined)*0.8) :]"
   ]
  },
  {
   "cell_type": "code",
   "execution_count": null,
   "metadata": {
    "ExecuteTime": {
     "end_time": "2018-05-01T16:43:32.032233Z",
     "start_time": "2018-05-01T16:39:30.410Z"
    }
   },
   "outputs": [],
   "source": [
    "import pdb\n",
    "# pdb.set_trace()\n",
    "md = ColumnarModelData.from_data_frame(path,[-1], df, y.astype(np.int64), cat_flds=cat_vars, bs=64,\n",
    "                                       test_df=None,is_reg=False, is_multi=False)"
   ]
  },
  {
   "cell_type": "code",
   "execution_count": null,
   "metadata": {
    "ExecuteTime": {
     "end_time": "2018-05-01T16:43:32.033737Z",
     "start_time": "2018-05-01T16:39:30.718Z"
    }
   },
   "outputs": [],
   "source": [
    "cat_sz = [(c, len(joined[c].cat.categories)+1) for c in cat_vars]"
   ]
  },
  {
   "cell_type": "code",
   "execution_count": null,
   "metadata": {
    "ExecuteTime": {
     "end_time": "2018-05-01T16:43:32.035240Z",
     "start_time": "2018-05-01T16:39:30.970Z"
    }
   },
   "outputs": [],
   "source": [
    "emb_szs = [(c, min(50, (c+1)//2)) for _,c in cat_sz]"
   ]
  },
  {
   "cell_type": "code",
   "execution_count": null,
   "metadata": {
    "ExecuteTime": {
     "end_time": "2018-05-01T16:43:32.037747Z",
     "start_time": "2018-05-01T16:39:31.200Z"
    }
   },
   "outputs": [],
   "source": [
    "torch.cuda.is_available()"
   ]
  },
  {
   "cell_type": "code",
   "execution_count": null,
   "metadata": {
    "ExecuteTime": {
     "end_time": "2018-05-01T16:43:32.039251Z",
     "start_time": "2018-05-01T16:39:31.396Z"
    }
   },
   "outputs": [],
   "source": [
    "a = torch.Tensor(10)"
   ]
  },
  {
   "cell_type": "code",
   "execution_count": null,
   "metadata": {
    "ExecuteTime": {
     "end_time": "2018-05-01T16:43:32.041256Z",
     "start_time": "2018-05-01T16:39:31.570Z"
    }
   },
   "outputs": [],
   "source": [
    "torch.cuda.current_device()"
   ]
  },
  {
   "cell_type": "code",
   "execution_count": null,
   "metadata": {
    "ExecuteTime": {
     "end_time": "2018-05-01T16:43:32.043763Z",
     "start_time": "2018-05-01T16:39:31.774Z"
    }
   },
   "outputs": [],
   "source": [
    "USE_GPU = False"
   ]
  },
  {
   "cell_type": "code",
   "execution_count": null,
   "metadata": {
    "ExecuteTime": {
     "end_time": "2018-05-01T16:43:32.045269Z",
     "start_time": "2018-05-01T16:39:31.972Z"
    }
   },
   "outputs": [],
   "source": [
    "m = md.get_learner(emb_szs, len(df.columns)-len(cat_vars),\n",
    "                   0.04, 1, [1000,500], [0.001,0.01], y_range=None)\n",
    "lr = 1e-3"
   ]
  },
  {
   "cell_type": "code",
   "execution_count": null,
   "metadata": {
    "ExecuteTime": {
     "end_time": "2018-05-01T16:43:32.046771Z",
     "start_time": "2018-05-01T16:39:32.280Z"
    }
   },
   "outputs": [],
   "source": [
    "tmp = iter(md.trn_dl)"
   ]
  },
  {
   "cell_type": "code",
   "execution_count": null,
   "metadata": {
    "ExecuteTime": {
     "end_time": "2018-05-01T16:43:32.048275Z",
     "start_time": "2018-05-01T16:39:32.542Z"
    }
   },
   "outputs": [],
   "source": [
    "*xs,ys = next(tmp)"
   ]
  },
  {
   "cell_type": "code",
   "execution_count": null,
   "metadata": {
    "ExecuteTime": {
     "end_time": "2018-05-01T16:43:32.049779Z",
     "start_time": "2018-05-01T16:39:32.850Z"
    }
   },
   "outputs": [],
   "source": [
    "ys.long"
   ]
  },
  {
   "cell_type": "code",
   "execution_count": null,
   "metadata": {
    "ExecuteTime": {
     "end_time": "2018-05-01T16:43:32.051785Z",
     "start_time": "2018-05-01T16:39:33.206Z"
    }
   },
   "outputs": [],
   "source": [
    "len(xs)"
   ]
  },
  {
   "cell_type": "code",
   "execution_count": null,
   "metadata": {
    "ExecuteTime": {
     "end_time": "2018-05-01T16:43:32.053289Z",
     "start_time": "2018-05-01T16:39:33.412Z"
    }
   },
   "outputs": [],
   "source": [
    "len(cat_vars)"
   ]
  },
  {
   "cell_type": "code",
   "execution_count": null,
   "metadata": {
    "ExecuteTime": {
     "end_time": "2018-05-01T16:43:32.054793Z",
     "start_time": "2018-05-01T16:39:33.744Z"
    }
   },
   "outputs": [],
   "source": [
    "len(contin_vars)"
   ]
  },
  {
   "cell_type": "code",
   "execution_count": null,
   "metadata": {
    "ExecuteTime": {
     "end_time": "2018-05-01T16:43:32.056296Z",
     "start_time": "2018-05-01T16:39:34.228Z"
    }
   },
   "outputs": [],
   "source": [
    "for i in xs:\n",
    "    print(i.size())"
   ]
  },
  {
   "cell_type": "code",
   "execution_count": null,
   "metadata": {
    "ExecuteTime": {
     "end_time": "2018-05-01T16:43:32.057801Z",
     "start_time": "2018-05-01T16:39:34.870Z"
    }
   },
   "outputs": [],
   "source": [
    "m.model.training"
   ]
  },
  {
   "cell_type": "code",
   "execution_count": null,
   "metadata": {
    "ExecuteTime": {
     "end_time": "2018-05-01T16:43:32.060307Z",
     "start_time": "2018-05-01T16:39:35.882Z"
    }
   },
   "outputs": [],
   "source": [
    "m.model.state_dict"
   ]
  },
  {
   "cell_type": "code",
   "execution_count": null,
   "metadata": {
    "ExecuteTime": {
     "end_time": "2018-05-01T16:43:32.061812Z",
     "start_time": "2018-05-01T16:39:36.596Z"
    }
   },
   "outputs": [],
   "source": [
    "m.lr_find()"
   ]
  },
  {
   "cell_type": "code",
   "execution_count": null,
   "metadata": {
    "ExecuteTime": {
     "end_time": "2018-05-01T16:28:48.094914Z",
     "start_time": "2018-05-01T16:28:47.862012Z"
    }
   },
   "outputs": [],
   "source": [
    "m.sched.plot(0,0)"
   ]
  },
  {
   "cell_type": "code",
   "execution_count": null,
   "metadata": {},
   "outputs": [],
   "source": []
  },
  {
   "cell_type": "code",
   "execution_count": null,
   "metadata": {},
   "outputs": [],
   "source": [
    "4 "
   ]
  },
  {
   "cell_type": "code",
   "execution_count": null,
   "metadata": {},
   "outputs": [],
   "source": []
  },
  {
   "cell_type": "code",
   "execution_count": null,
   "metadata": {},
   "outputs": [],
   "source": []
  },
  {
   "cell_type": "code",
   "execution_count": null,
   "metadata": {},
   "outputs": [],
   "source": []
  },
  {
   "cell_type": "code",
   "execution_count": null,
   "metadata": {},
   "outputs": [],
   "source": []
  },
  {
   "cell_type": "code",
   "execution_count": null,
   "metadata": {},
   "outputs": [],
   "source": []
  },
  {
   "cell_type": "code",
   "execution_count": null,
   "metadata": {},
   "outputs": [],
   "source": []
  },
  {
   "cell_type": "code",
   "execution_count": null,
   "metadata": {},
   "outputs": [],
   "source": []
  }
 ],
 "metadata": {
  "kernelspec": {
   "display_name": "Python 3",
   "language": "python",
   "name": "python3"
  },
  "language_info": {
   "codemirror_mode": {
    "name": "ipython",
    "version": 3
   },
   "file_extension": ".py",
   "mimetype": "text/x-python",
   "name": "python",
   "nbconvert_exporter": "python",
   "pygments_lexer": "ipython3",
   "version": "3.6.5"
  }
 },
 "nbformat": 4,
 "nbformat_minor": 1
}
